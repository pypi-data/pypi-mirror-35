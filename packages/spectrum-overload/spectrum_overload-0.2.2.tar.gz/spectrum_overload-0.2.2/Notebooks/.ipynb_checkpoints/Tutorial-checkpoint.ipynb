{
 "cells": [
  {
   "cell_type": "markdown",
   "metadata": {},
   "source": [
    "# Tutorial for Spectrum\n",
    "- Jason Neal \n",
    "- September 2016\n",
    "\n",
    "Spectrum is a module based around a class called Spectrum. It allows you easily perform operations between spectra by overloading the operators +-*/.\n",
    "\n",
    "In my reseach involving NIR spectroscopy of exoplanets I need to perform different operations on or between spectra. For example to correct for the telluric absoption lines of earth it is nessary to divide the observations by either a telluric observation or model. I was tired of carrying around multiple objects the dispersion axis and the flux values for each observation and each model. \n",
    "When performing operations between spectra it is nessesary to interpolate either one or both spectra to the same dispersion result to perform the operation at the same wavelength values. \n",
    "\n",
    "This led me to create the Spectrum class so that I could easily subtract or divide two spectra from each other.\n",
    "\n",
    "Below is some basic instuction on how to use it and a telluric correction example\n"
   ]
  },
  {
   "cell_type": "code",
   "execution_count": 1,
   "metadata": {
    "collapsed": false
   },
   "outputs": [],
   "source": [
    "from __future__ import division, print_function\n",
    "from spectrum_overload.Spectrum import Spectrum\n",
    "from astropy.io import fits\n",
    "import copy\n",
    "import numpy as np\n",
    "import matplotlib.pyplot as plt\n"
   ]
  },
  {
   "cell_type": "markdown",
   "metadata": {},
   "source": [
    "You create a spectrum object by passing in the flux and the dispersion values. As positional arguments flux is first. If your dispersion axis has been wavelenght calibrated (its a wavelength rather than pixel positions) then you need to also pass in calibrated=True keyword."
   ]
  },
  {
   "cell_type": "code",
   "execution_count": 2,
   "metadata": {
    "collapsed": false
   },
   "outputs": [],
   "source": [
    "x = np.arange(2000, 2050)\n",
    "y = np.random.rand(len(x))\n",
    "spec_uncalibrated = Spectrum(y, x)\n",
    "spec_calibrated = Spectrum(flux=y, xaxis=x, calibrated=True)\n"
   ]
  },
  {
   "cell_type": "markdown",
   "metadata": {},
   "source": [
    "If you need access to the dispersion axis or flux you can do it by the flux and xaxis attributes. "
   ]
  },
  {
   "cell_type": "code",
   "execution_count": 3,
   "metadata": {
    "collapsed": true
   },
   "outputs": [],
   "source": [
    "wavelength = spec_uncalibrated.xaxis \n",
    "I = spec_uncalibrated.flux"
   ]
  },
  {
   "cell_type": "markdown",
   "metadata": {},
   "source": [
    "Spectrum has a wave_select metod which allows you to select a section of you spectra between an lower and upper dispersion coordinate(pixel/wavelenght)."
   ]
  },
  {
   "cell_type": "code",
   "execution_count": 4,
   "metadata": {
    "collapsed": false
   },
   "outputs": [],
   "source": [
    "#spec_calibrated.wav_select(lower, upper)\n",
    "spec_calibrated.wav_select(2030, 2070)\n"
   ]
  },
  {
   "cell_type": "markdown",
   "metadata": {},
   "source": [
    "## Overloaded Operators:  \n",
    "Warning this section is still to implement in the class!\n",
    "\n",
    "You can preform basic operations with the spectrum objects.\n",
    "\n",
    "The two specta need to be of the same calibration status.\n",
    "If the spectra are calibtrated and their dispersion values are not the same then the second spectrum will be interpolated to the wavelenght values of the first. \n",
    "\n",
    "(At this stage I discoverd another spectum project which talked about overloading operators like this but never actually done it.)"
   ]
  },
  {
   "cell_type": "code",
   "execution_count": 5,
   "metadata": {
    "collapsed": false
   },
   "outputs": [
    {
     "name": "stdout",
     "output_type": "stream",
     "text": [
      "add [ 0.61676006  1.07185024  0.81424287  0.8663916   1.79061497  0.02927755\n",
      "  1.48281088  0.3734879   1.70390585  0.18160882  0.40394053  1.99212054\n",
      "  1.19817685  0.23389205  0.09944934  0.11408125  0.63471924  0.98307213\n",
      "  1.27019482  1.53274092  0.14617291  0.81305259  0.70122141  1.45979452\n",
      "  1.04854182  1.60934409  0.55160439  1.03442483  0.10116106  1.41580339\n",
      "  1.91640626  1.61679085  1.47457637  0.09038477  1.8854883   0.69282541\n",
      "  1.49447989  1.7162379   0.16012513  0.05204478  0.16759067  1.26462171\n",
      "  0.96225786  1.95828809  1.04193451  0.89488373  1.31848074  1.62893749\n",
      "  1.87561821  1.90981231]\n",
      "subtract [ 0.  0.  0.  0.  0.  0.  0.  0.  0.  0.  0.  0.  0.  0.  0.  0.  0.  0.\n",
      "  0.  0.  0.  0.  0.  0.  0.  0.  0.  0.  0.  0.  0.  0.  0.  0.  0.  0.\n",
      "  0.  0.  0.  0.  0.  0.  0.  0.  0.  0.  0.  0.  0.  0.]\n",
      "multiply [  9.50982434e-02   2.87215737e-01   1.65747862e-01   1.87658603e-01\n",
      "   8.01575490e-01   2.14293783e-04   5.49682023e-01   3.48733027e-02\n",
      "   7.25823783e-01   8.24544115e-03   4.07919883e-02   9.92136064e-01\n",
      "   3.58906942e-01   1.36763727e-02   2.47254257e-03   3.25363312e-03\n",
      "   1.00717129e-01   2.41607703e-01   4.03348721e-01   5.87323680e-01\n",
      "   5.34162994e-03   1.65263627e-01   1.22927868e-01   5.32750008e-01\n",
      "   2.74859986e-01   6.47497100e-01   7.60668521e-02   2.67508682e-01\n",
      "   2.55838999e-03   5.01124810e-01   9.18153237e-01   6.53503165e-01\n",
      "   5.43593870e-01   2.04235151e-03   8.88766529e-01   1.20001762e-01\n",
      "   5.58367534e-01   7.36368130e-01   6.41001465e-03   6.77164763e-04\n",
      "   7.02165856e-03   3.99817019e-01   2.31485050e-01   9.58723062e-01\n",
      "   2.71406882e-01   2.00204222e-01   4.34597869e-01   6.63359333e-01\n",
      "   8.79485913e-01   9.11845760e-01]\n",
      "divide [ 1.  1.  1.  1.  1.  1.  1.  1.  1.  1.  1.  1.  1.  1.  1.  1.  1.  1.\n",
      "  1.  1.  1.  1.  1.  1.  1.  1.  1.  1.  1.  1.  1.  1.  1.  1.  1.  1.\n",
      "  1.  1.  1.  1.  1.  1.  1.  1.  1.  1.  1.  1.  1.  1.]\n"
     ]
    }
   ],
   "source": [
    "spec1 = Spectrum(y, x, calibrated=True)\n",
    "spec2 = copy.copy(spec1)   # Duplicate to easily see result.  mainly spec1-spec2=0, spec1/spec2=1\n",
    "\n",
    "# this is still to operate.\n",
    "add = spec1 + spec2\n",
    "subtract = spec1 - spec2\n",
    "multiply = spec1 * spec2\n",
    "divide = spec1 / spec2\n",
    "\n",
    "print(\"add\", add.flux)\n",
    "print(\"subtract\", subtract.flux)\n",
    "print(\"multiply\", multiply.flux)\n",
    "print(\"divide\", divide.flux)"
   ]
  },
  {
   "cell_type": "markdown",
   "metadata": {
    "collapsed": true
   },
   "source": [
    "# Practical Example - Telluric Correction\n",
    "We want to divide an observation by a model of the telluric absorbtion to correct for Earths absoption"
   ]
  },
  {
   "cell_type": "code",
   "execution_count": 6,
   "metadata": {
    "collapsed": true
   },
   "outputs": [],
   "source": [
    "# A function to read header and data from tapas ipac file.\n",
    "def load_telluric(filename):\n",
    "    \"\"\" Returns telluric data and header\n",
    "    if just want the data then call as load_telluric()[0]\n",
    "    or data, __ = load_telluric() \n",
    "\n",
    "    likewise just the header as hdr = load_telluric()[1]\"\"\"\n",
    "    ext = filename.split(\".\")[-1]\n",
    "    if ext == \"ipac\":\n",
    "        tell_hdr = fits.Header()\n",
    "        with open(filename) as f:\n",
    "            col1 = []\n",
    "            col2 = []\n",
    "            for line in f:\n",
    "                #firstchar = line[0]\n",
    "                #print(\"first char =\", firstchar)\n",
    "                if line.startswith(\"\\\\\"):\n",
    "                    # Get the Tapas Header\n",
    "                    line = line[1:] # remove the leading \\\n",
    "                    line = line.strip()\n",
    "                    items = line.split(\"=\")\n",
    "\n",
    "                    tell_hdr[items[0]] = items[1] # Add to header\n",
    "\n",
    "                elif line.startswith(\"|\"):\n",
    "                    # Obtian wavelength scale from piped lines\n",
    "                    if \"in air\" in line:\n",
    "                        tell_hdr[\"WAVSCALE\"] = \"air\"\n",
    "                    elif \"nm|\" in line:\n",
    "                        tell_hdr[\"WAVSCALE\"] = \"vacuum\"\n",
    "                    # Need extra condition to deal with wavenumber\n",
    "                else:\n",
    "                    line = line.strip()\n",
    "                    val1, val2 = line.split()\n",
    "                    col1.append(float(val1))\n",
    "                    col2.append(float(val2))\n",
    "\n",
    "    elif ext == \"fits\":\n",
    "        i_tell = fits.getdata(filename, 1)\n",
    "        tell_hdr = fits.getheader(filename, 1)\n",
    "        # TODO ... Need to get wavelenght scale (air/wavelenght) from fits file somehow... \n",
    "        col1 = i_tell[\"wavelength\"]\n",
    "        col2 = i_tell[\"transmittance\"]\n",
    "\n",
    "    else:\n",
    "        print(\" Could not load file\", filename,\" with extention\", ext)\n",
    "        return None\n",
    "        \n",
    "        # put in ascending order\n",
    "    if col1[-1]-col1[0] < 0:  # wl is backwards\n",
    "            col1 = col1[::-1]\n",
    "            col2 = col2[::-1]                \n",
    "    tell_data = np.array([col1, col2], dtype=\"float64\")\n",
    "\n",
    "    return tell_data, tell_hdr "
   ]
  },
  {
   "cell_type": "code",
   "execution_count": 7,
   "metadata": {
    "collapsed": false
   },
   "outputs": [],
   "source": [
    "## Load in the spectra \n",
    "# Using already wavelength calibrated slectrum\n",
    "obsname = \"../spectrum_overload/data/spec_wavecal.fits\"\n",
    "tellname = \"../spectrum_overload/data/telluric_data.ipac\"\n",
    "\n",
    "# Load in the data\n",
    "obs_data = fits.getdata(obsname)\n",
    "obs_hdr = fits.getheader(obsname)\n",
    "telluric_data, telluric_header = load_telluric(tellname)\n",
    "\n",
    "## Put data into Spectrum object\n",
    "# Can check for column names using print(obs.columns)\n",
    "# \"Wavelength\" and \"Extracted_DRACS\" are the columns of the fits table\n",
    "observation = Spectrum(obs_data[\"Extracted_DRACS\"], obs_data[\"Wavelength\"], calibrated=True, header=obs_hdr)\n",
    "\n",
    "telluric = Spectrum(telluric_data[1], telluric_data[0], calibrated=True, header=telluric_header)"
   ]
  },
  {
   "cell_type": "markdown",
   "metadata": {},
   "source": [
    "Now the telluric model wavelength spans a much longer wavelength than we have observed.\n",
    "It is a good idea to shorten it to the values we have to save memory."
   ]
  },
  {
   "cell_type": "code",
   "execution_count": 8,
   "metadata": {
    "collapsed": false
   },
   "outputs": [
    {
     "name": "stdout",
     "output_type": "stream",
     "text": [
      "Before  13975\n",
      "After   3218\n"
     ]
    }
   ],
   "source": [
    "# Shorten telluric spectra to just around our observation (1 nm either side)\n",
    "print(\"Before \", len(telluric))\n",
    "telluric.wav_select(min(observation.xaxis)-1, max(observation.xaxis)+1)  \n",
    "print(\"After  \",len(telluric))"
   ]
  },
  {
   "cell_type": "code",
   "execution_count": 9,
   "metadata": {
    "collapsed": false
   },
   "outputs": [
    {
     "data": {
      "image/png": "[encoded data removed]",
      "text/plain": [
       "<matplotlib.figure.Figure at 0x7f1de8197d68>"
      ]
     },
     "metadata": {},
     "output_type": "display_data"
    }
   ],
   "source": [
    "# Plot the two Spectrum to see what we have\n",
    "plt.figure()\n",
    "plt.plot(telluric.xaxis, telluric.flux, label=\"Telluric\")\n",
    "plt.plot(observation.xaxis, observation.flux, \"r--\", label=\"Observation\")\n",
    "plt.xlabel(\"Wavelength (nm)\")\n",
    "plt.ylabel(\"Flux/Absorption\")\n",
    "#plt.xlim([np.min(observation.xaxis), np.max(observation.xaxis)])   # Veiw this detector only\n",
    "plt.legend(loc=0)\n",
    "plt.show()\n"
   ]
  },
  {
   "cell_type": "markdown",
   "metadata": {
    "collapsed": true
   },
   "source": [
    "There can a difference in airmass between the observation and the model which affects the line depth.\n",
    "We can scale the tellruic model by the ratio of airmas to correct the line depths"
   ]
  },
  {
   "cell_type": "code",
   "execution_count": 10,
   "metadata": {
    "collapsed": false
   },
   "outputs": [
    {
     "name": "stdout",
     "output_type": "stream",
     "text": [
      "Airmass Ratio = 0.9588151722519749\n"
     ]
    }
   ],
   "source": [
    "B = observation.header[\"HIERARCH ESO TEL AIRM END\"] / float(telluric.header[\"airmass\"])  # Should probably average airmass of observation (Not just End as used here)\n",
    "print(\"Airmass Ratio = {}\".format(B))\n",
    "scaled_telluric = telluric ** B"
   ]
  },
  {
   "cell_type": "markdown",
   "metadata": {
    "collapsed": true
   },
   "source": [
    "Now we want to correct for the atmospheric absorption be dividing the observation by the telluric model.\n"
   ]
  },
  {
   "cell_type": "code",
   "execution_count": null,
   "metadata": {
    "collapsed": false
   },
   "outputs": [],
   "source": [
    "# Warning! When I attempted a division before applying the telluric.wav_select() above I obtained a MemoryError in the interpolation\n",
    "# This needs to be looked into (it takes a while to run atm)\n",
    "\n",
    "Corrected = observation / scaled_telluric"
   ]
  },
  {
   "cell_type": "code",
   "execution_count": 1,
   "metadata": {
    "collapsed": false
   },
   "outputs": [
    {
     "ename": "NameError",
     "evalue": "name 'plt' is not defined",
     "output_type": "error",
     "traceback": [
      "\u001b[0;31m---------------------------------------------------------------------------\u001b[0m",
      "\u001b[0;31mNameError\u001b[0m                                 Traceback (most recent call last)",
      "\u001b[0;32m<ipython-input-1-3829cab0b442>\u001b[0m in \u001b[0;36m<module>\u001b[0;34m()\u001b[0m\n\u001b[1;32m      1\u001b[0m \u001b[0;31m# Plot Result\u001b[0m\u001b[0;34m\u001b[0m\u001b[0;34m\u001b[0m\u001b[0m\n\u001b[0;32m----> 2\u001b[0;31m \u001b[0mplt\u001b[0m\u001b[0;34m.\u001b[0m\u001b[0mplot\u001b[0m\u001b[0;34m(\u001b[0m\u001b[0mobservation\u001b[0m\u001b[0;34m.\u001b[0m\u001b[0mxaxis\u001b[0m\u001b[0;34m,\u001b[0m \u001b[0mobservation\u001b[0m\u001b[0;34m.\u001b[0m\u001b[0mflux\u001b[0m\u001b[0;34m,\u001b[0m \u001b[0mlabel\u001b[0m\u001b[0;34m=\u001b[0m\u001b[0;34m\"Observation\"\u001b[0m\u001b[0;34m)\u001b[0m\u001b[0;34m\u001b[0m\u001b[0m\n\u001b[0m\u001b[1;32m      3\u001b[0m \u001b[0mplt\u001b[0m\u001b[0;34m.\u001b[0m\u001b[0mplot\u001b[0m\u001b[0;34m(\u001b[0m\u001b[0mCorrected\u001b[0m\u001b[0;34m.\u001b[0m\u001b[0mxaxis\u001b[0m\u001b[0;34m,\u001b[0m \u001b[0mCorrected\u001b[0m\u001b[0;34m.\u001b[0m\u001b[0mflux\u001b[0m\u001b[0;34m,\u001b[0m \u001b[0mlabel\u001b[0m\u001b[0;34m=\u001b[0m\u001b[0;34m\"Corrected\"\u001b[0m\u001b[0;34m)\u001b[0m\u001b[0;34m\u001b[0m\u001b[0m\n\u001b[1;32m      4\u001b[0m \u001b[0mplt\u001b[0m\u001b[0;34m.\u001b[0m\u001b[0mxlabel\u001b[0m\u001b[0;34m(\u001b[0m\u001b[0;34m\"Wavelength (nm)\"\u001b[0m\u001b[0;34m)\u001b[0m\u001b[0;34m\u001b[0m\u001b[0m\n\u001b[1;32m      5\u001b[0m \u001b[0mplt\u001b[0m\u001b[0;34m.\u001b[0m\u001b[0mylabel\u001b[0m\u001b[0;34m(\u001b[0m\u001b[0;34m\"Flux/Absorption\"\u001b[0m\u001b[0;34m)\u001b[0m\u001b[0;34m\u001b[0m\u001b[0m\n",
      "\u001b[0;31mNameError\u001b[0m: name 'plt' is not defined"
     ]
    }
   ],
   "source": [
    "# Plot Result\n",
    "plt.plot(observation.xaxis, observation.flux, label=\"Observation\")\n",
    "plt.plot(Corrected.xaxis, Corrected.flux, label=\"Corrected\")\n",
    "plt.xlabel(\"Wavelength (nm)\")\n",
    "plt.ylabel(\"Flux/Absorption\")\n",
    "plt.xlim([np.min(observation.xaxis), np.max(observation.xaxis)])   # Veiw this detector only\n",
    "plt.legend(loc=0)\n",
    "plt.show()\n"
   ]
  },
  {
   "cell_type": "code",
   "execution_count": null,
   "metadata": {
    "collapsed": true
   },
   "outputs": [],
   "source": []
  }
 ],
 "metadata": {
  "anaconda-cloud": {},
  "kernelspec": {
   "display_name": "Python [default]",
   "language": "python",
   "name": "python3"
  },
  "language_info": {
   "codemirror_mode": {
    "name": "ipython",
    "version": 3
   },
   "file_extension": ".py",
   "mimetype": "text/x-python",
   "name": "python",
   "nbconvert_exporter": "python",
   "pygments_lexer": "ipython3",
   "version": "3.5.2"
  }
 },
 "nbformat": 4,
 "nbformat_minor": 0
}
