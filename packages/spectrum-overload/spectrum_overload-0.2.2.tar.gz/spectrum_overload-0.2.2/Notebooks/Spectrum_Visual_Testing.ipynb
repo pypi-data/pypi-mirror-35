{
 "cells": [
  {
   "cell_type": "markdown",
   "metadata": {},
   "source": [
    "# Visual Test of Specturm Class\n",
    "Jason Neal, \n",
    "September 2016"
   ]
  },
  {
   "cell_type": "code",
   "execution_count": null,
   "metadata": {
    "collapsed": false
   },
   "outputs": [],
   "source": [
    "from __future__ import division, print_function\n",
    "import numpy as np\n",
    "import PyAstronomy as pyasl\n",
    "from astropy.io import fits\n",
    "import matplotlib.pyplot as plt\n",
    "\n",
    "import copy\n",
    "from spectrum_overload.Spectrum import Spectrum\n",
    "\n",
    "%matplotlib inline"
   ]
  },
  {
   "cell_type": "code",
   "execution_count": null,
   "metadata": {
    "collapsed": false
   },
   "outputs": [],
   "source": [
    "# Load some data and put in the spectrum class\n",
    "\n",
    "filename = \"../../../Codes/Phd-codes/Notebooks/HD30501_data/1/CRIRE.2012-04-07T00-08-29.976_1.nod.ms.norm.sum.wavecal.fits\"\n",
    "data = fits.getdata(filename)\n",
    "print(data)\n",
    "data.columns\n",
    "data[\"Extracted_DRACS\"]\n",
    "HD30501_1 = Spectrum(flux=data[\"Extracted_DRACS\"], xaxis=data[\"Wavelength\"], calibrated=True)\n",
    "#HD30501_1_org = Spectrum.Spectrum(flux=data[\"Extracted_DRACS\"], xaxis=data[\"Wavelength\"], calibrated=True)"
   ]
  },
  {
   "cell_type": "code",
   "execution_count": null,
   "metadata": {
    "collapsed": false
   },
   "outputs": [],
   "source": [
    "# Try to make a copy of a spectrum\n",
    "HD30501_1_copy = copy.copy(HD30501_1)\n",
    "\n",
    "# Test slice and doppler shift\n",
    "plt.figure()\n",
    "plt.plot(HD30501_1.xaxis, HD30501_1.flux, label=\"Orginal\")\n",
    "HD30501_1.wav_select(2113,2120)\n",
    "plt.plot(HD30501_1.xaxis, HD30501_1.flux, \"+-\",label=\"wave_select\")\n",
    "RV = 10  # km/s\n",
    "#nflux, wlprime = pyasl.dopplerShift(HD30501_1.xaxis, HD30501_1.flux, RV)\n",
    "HD30501_1.doppler_shift(RV)    \n",
    "plt.plot(HD30501_1.xaxis, HD30501_1.flux, \"--\", label=\"Doppler shift Pos\")\n",
    "HD30501_1_copy.doppler_shift(-RV)    \n",
    "plt.plot(HD30501_1_copy.xaxis, HD30501_1_copy.flux, \"--\", label=\"Doppler shift Neg\")\n",
    "#plt.plt(wlprime, HD30501_1.flux, \"PyAstronomy Doopler\")\n",
    "#plt.axis.xaxis.\n",
    "plt.xlim([2112,2118])\n",
    "plt.legend()\n",
    "plt.show()\n"
   ]
  },
  {
   "cell_type": "code",
   "execution_count": null,
   "metadata": {
    "collapsed": false
   },
   "outputs": [],
   "source": [
    "# Test Calibration polynomial\n",
    "orginal_axis = [2,3,4,5,6,7]\n",
    "spec = Spectrum(xaxis=orginal_axis, calibrated=False)\n",
    "spec.calibrate_with([10, 5.5, 0.2])\n",
    "print(spec.xaxis)\n",
    "\n",
    "plt.plot(orginal_axis, spec.xaxis)\n",
    "plt.title(\"Test Wavelenght mapping\")\n",
    "plt.xlabel(\"Old xaxis\")\n",
    "plt.ylabel(\"New xaxis\")\n",
    "plt.show()\n"
   ]
  },
  {
   "cell_type": "markdown",
   "metadata": {
    "collapsed": true
   },
   "source": [
    "# Testing Interpolation\n",
    "Looks to be working ok"
   ]
  },
  {
   "cell_type": "code",
   "execution_count": null,
   "metadata": {
    "collapsed": false
   },
   "outputs": [],
   "source": [
    "HD30501_1_k3 = copy.copy(HD30501_1)\n",
    "HD30501_1_k1 = copy.copy(HD30501_1)\n",
    "HD30501_1_k5 = copy.copy(HD30501_1)\n",
    "HD30501_1_linear = copy.copy(HD30501_1)\n",
    "HD30501_1_k3.spline_interpolate_to(np.linspace(np.min(HD30501_1.xaxis), np.max(HD30501_1.xaxis), 2000), k=3)\n",
    "HD30501_1_k1.spline_interpolate_to(np.linspace(np.min(HD30501_1.xaxis), np.max(HD30501_1.xaxis), 2000), k=1)\n",
    "HD30501_1_k5.spline_interpolate_to(np.linspace(np.min(HD30501_1.xaxis), np.max(HD30501_1.xaxis), 2000), k=5)\n",
    "HD30501_1_linear.interpolate1d_to(np.linspace(np.min(HD30501_1.xaxis), np.max(HD30501_1.xaxis), 2000), kind='linear')\n",
    "\n",
    "plt.figure()\n",
    "plt.plot(HD30501_1.xaxis, HD30501_1.flux, '.-', label='orginal')\n",
    "plt.plot(HD30501_1_k1.xaxis, HD30501_1_k1.flux, 's', label='k1')\n",
    "plt.plot(HD30501_1_k3.xaxis, HD30501_1_k3.flux, ':', label='k3')\n",
    "plt.plot(HD30501_1_k5.xaxis, HD30501_1_k5.flux, '--', label='k4')\n",
    "plt.plot(HD30501_1_linear.xaxis, HD30501_1_linear.flux, '*', label='linear')\n",
    "plt.xlim([2118.6,2118.7])\n",
    "plt.legend(loc=0)\n",
    "plt.show()\n",
    "\n",
    "# Plot difference between llinear and default (cubic)\n",
    "Diff_k1 =  HD30501_1_k1 - HD30501_1_linear   # use overloaded operators\n",
    "Diff_k3 =  HD30501_1_k3 - HD30501_1_linear   # use overloaded operators\n",
    "Diff_k5 =  HD30501_1_k5 - HD30501_1_linear   # use overloaded operators\n",
    "\n",
    "plt.figure()\n",
    "plt.plot(HD30501_1_k3.xaxis, Diff_k3.flux, '.-', label='k3 - lin')\n",
    "plt.plot(HD30501_1_k5.xaxis, Diff_k5.flux, ':', label='k5 - lin')\n",
    "plt.plot(HD30501_1_k1.xaxis, Diff_k1.flux, '--', label='k1 - lin')\n",
    "plt.title(\"Difference between interpolations\")\n",
    "plt.legend(loc=0)\n",
    "plt.show()"
   ]
  },
  {
   "cell_type": "code",
   "execution_count": null,
   "metadata": {
    "collapsed": true
   },
   "outputs": [],
   "source": []
  }
 ],
 "metadata": {
  "anaconda-cloud": {},
  "kernelspec": {
   "display_name": "Python [default]",
   "language": "python",
   "name": "python3"
  },
  "language_info": {
   "codemirror_mode": {
    "name": "ipython",
    "version": 3
   },
   "file_extension": ".py",
   "mimetype": "text/x-python",
   "name": "python",
   "nbconvert_exporter": "python",
   "pygments_lexer": "ipython3",
   "version": "3.4.5"
  }
 },
 "nbformat": 4,
 "nbformat_minor": 0
}
