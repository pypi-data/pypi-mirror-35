{
 "cells": [
  {
   "cell_type": "code",
   "execution_count": 79,
   "metadata": {},
   "outputs": [],
   "source": [
    "import pyspark.sql.functions as F\n",
    "import datetime as dt\n",
    "import pandas as pd\n",
    "import pyspark.sql.types as st\n",
    "import matplotlib.pyplot as plt\n",
    "import seaborn\n",
    "\n",
    "seaborn.set_style(\"whitegrid\")\n",
    "sc.setLogLevel(\"INFO\")\n",
    "udf = F.udf\n",
    "%matplotlib inline"
   ]
  },
  {
   "cell_type": "code",
   "execution_count": 56,
   "metadata": {},
   "outputs": [],
   "source": [
    "PERIODS = {}\n",
    "N_WEEKS = 6\n",
    "for i in range(1, N_WEEKS + 1):\n",
    "    PERIODS[i] = {\n",
    "        'start': i * 7,\n",
    "        'end': i * 7 + 6\n",
    "    }\n",
    "\n",
    "\n",
    "def date_plus_x_days(date, x):\n",
    "    \"\"\"\n",
    "    Returns a string date x days away from <date>\n",
    "    \n",
    "    Params:\n",
    "    date (str): date in %Y%m%s format\n",
    "    x (int) number of days to add to <date> (can be negative)\n",
    "    \n",
    "    >>> date_plus_x_days(\"20180101\", 1)\n",
    "    \"20180102\"\n",
    "    \n",
    "    >>> date_plus_x_days(\"20180510\", -9)\n",
    "    \"20180501\"\n",
    "    \"\"\"\n",
    "    new_date = dt.datetime.strptime(date, '%Y%m%d') + dt.timedelta(days=x)\n",
    "    return new_date.strftime('%Y%m%d')\n",
    "\n",
    "\n",
    "def date_diff(d1, d2, fmt='%Y%m%d'):\n",
    "    \"\"\"\n",
    "    Returns days elapsed from d2 to d1 as an integer\n",
    "\n",
    "    Params:\n",
    "    d1 (str)\n",
    "    d2 (str)\n",
    "    fmt (str): format of d1 and d2 (must be the same)\n",
    "\n",
    "    >>> date_diff('20170205', '20170201')\n",
    "    4\n",
    "\n",
    "    >>> date_diff('20170201', '20170205)\n",
    "    -4\n",
    "    \"\"\"\n",
    "    try:\n",
    "        return (pd.to_datetime(d1, format=fmt) - \n",
    "                pd.to_datetime(d2, format=fmt)).days\n",
    "    except:\n",
    "        return None\n",
    "\n",
    "\n",
    "@udf(returnType=st.IntegerType())\n",
    "def get_period(anchor, submission_date_s3):\n",
    "    \"\"\"\n",
    "    Given an anchor and a submission_date_s3,\n",
    "    returns what period a ping belongs to. This \n",
    "    is a spark UDF (see decoration).\n",
    "\n",
    "    Params:\n",
    "    anchor (col): anchor date\n",
    "    submission_date_s3 (col): a ping's submission_date to s3\n",
    "\n",
    "    Global:\n",
    "    PERIODS (dict): defined globally based on n-week method\n",
    "\n",
    "    Returns an integer indicating the retention period\n",
    "    \"\"\"\n",
    "    if anchor is not None:\n",
    "        diff = date_diff(submission_date_s3, anchor)\n",
    "        if diff >= 7: # exclude first 7 days\n",
    "            for period in sorted(PERIODS):\n",
    "                if diff <= PERIODS[period]['end']:\n",
    "                    return period"
   ]
  },
  {
   "cell_type": "markdown",
   "metadata": {},
   "source": [
    "### Data Prep"
   ]
  },
  {
   "cell_type": "markdown",
   "metadata": {},
   "source": [
    "Load in cleaned experiment data, generated from [this notebook](https://github.com/mozilla/taar/blob/master/analysis/TAARExperimentV2Analysis.ipynb)."
   ]
  },
  {
   "cell_type": "code",
   "execution_count": 10,
   "metadata": {},
   "outputs": [
    {
     "data": {
      "text/plain": [
       "4273584"
      ]
     },
     "execution_count": 10,
     "metadata": {},
     "output_type": "execute_result"
    }
   ],
   "source": [
    "S3_PATH = \"s3://net-mozaws-prod-us-west-2-pipeline-analysis/taarv2/cleaned_data/\"\n",
    "clean_data = sqlContext.read.parquet(S3_PATH)\n",
    "clean_data.count()"
   ]
  },
  {
   "cell_type": "markdown",
   "metadata": {},
   "source": [
    "Grab the min and max submission dates for filtering `main_summary`."
   ]
  },
  {
   "cell_type": "code",
   "execution_count": 36,
   "metadata": {},
   "outputs": [],
   "source": [
    "min_date = clean_data.select(F.min('submission_date_s3').alias('min_d')).collect()[0].min_d\n",
    "max_date = clean_data.select(F.max('submission_date_s3').alias('max_d')).collect()[0].max_d"
   ]
  },
  {
   "cell_type": "markdown",
   "metadata": {},
   "source": [
    "Load in `main_summary`, filtered to the min date of the experiment, and 42 days beyond its compleition to allow for 6-week Retention Analysis. We then join `main_summary` with the experiment data."
   ]
  },
  {
   "cell_type": "code",
   "execution_count": 39,
   "metadata": {},
   "outputs": [],
   "source": [
    "ms = (\n",
    "    sqlContext.read.option(\"mergeSchema\", True)\n",
    "     .parquet(\"s3://telemetry-parquet/main_summary/v4\")\n",
    "     .filter(\"submission_date_s3 >= '{}'\".format(min_date))\n",
    "     .filter(\"submission_date_s3 <= '{}'\".format(date_plus_x_days(max_date, 7*6)))\n",
    "     .filter(\"normalized_channel = 'release'\")\n",
    "     .filter(\"app_name = 'Firefox'\")\n",
    ")"
   ]
  },
  {
   "cell_type": "code",
   "execution_count": 40,
   "metadata": {},
   "outputs": [],
   "source": [
    "# a client's enrollment date is determined by their first appearance in the experiment\n",
    "enrollment_dates = clean_data.groupby(\"client_id\", \"branch\").agg(F.min('submission_date_s3').alias(\"enrollment_date\"))"
   ]
  },
  {
   "cell_type": "code",
   "execution_count": 66,
   "metadata": {},
   "outputs": [],
   "source": [
    "# join main_summary to exp data\n",
    "joined = ms.select(\"submission_date_s3\", \"client_id\", \"locale\").join(enrollment_dates, on=\"client_id\")"
   ]
  },
  {
   "cell_type": "code",
   "execution_count": 67,
   "metadata": {},
   "outputs": [],
   "source": [
    "# verify join contains ~ same number of distinct clients as the experiment data.\n",
    "# this also initializes our cache\n",
    "jc = joined.select(\"client_id\").distinct().count()\n",
    "cc = clean_data.select(\"client_id\").distinct().count()"
   ]
  },
  {
   "cell_type": "code",
   "execution_count": 68,
   "metadata": {},
   "outputs": [
    {
     "data": {
      "text/plain": [
       "-214"
      ]
     },
     "execution_count": 68,
     "metadata": {},
     "output_type": "execute_result"
    }
   ],
   "source": [
    "jc - cc"
   ]
  },
  {
   "cell_type": "markdown",
   "metadata": {},
   "source": [
    "### Calculate Retention Data"
   ]
  },
  {
   "cell_type": "markdown",
   "metadata": {},
   "source": [
    "Perform 6-week retention analysis based on [this example](https://docs.telemetry.mozilla.org/cookbooks/retention.html). [1-5]-Week Retention are additionally included since we can get them at a low cost."
   ]
  },
  {
   "cell_type": "code",
   "execution_count": 69,
   "metadata": {},
   "outputs": [],
   "source": [
    "joined = joined.withColumn(\"period\", get_period(\"enrollment_date\", \"submission_date_s3\"))"
   ]
  },
  {
   "cell_type": "code",
   "execution_count": 70,
   "metadata": {},
   "outputs": [],
   "source": [
    "branch_counts = (\n",
    "    joined\n",
    "    .groupby(\"branch\")\n",
    "    .agg(F.countDistinct(\"client_id\").alias(\"total_clients\"))\n",
    ")\n",
    "\n",
    "weekly_counts = (\n",
    "    joined\n",
    "    .groupby(\"period\", \"branch\")\n",
    "    .agg(F.countDistinct(\"client_id\").alias(\"n_week_clients\"))\n",
    ")\n",
    "\n",
    "retention_by_branch = (\n",
    "    weekly_counts\n",
    "    .join(branch_counts, on='branch')\n",
    "    .withColumn(\"retention\", F.col(\"n_week_clients\") / F.col(\"total_clients\"))\n",
    ")"
   ]
  },
  {
   "cell_type": "code",
   "execution_count": 71,
   "metadata": {},
   "outputs": [],
   "source": [
    "ret_df  = retention_by_branch.toPandas()"
   ]
  },
  {
   "cell_type": "code",
   "execution_count": 72,
   "metadata": {},
   "outputs": [],
   "source": [
    "ret_df.to_csv(\"taar_v2_retention.csv\", index=False)"
   ]
  },
  {
   "cell_type": "markdown",
   "metadata": {},
   "source": [
    "Write to s3 since this job is quite expensive and should only be run once."
   ]
  },
  {
   "cell_type": "code",
   "execution_count": 73,
   "metadata": {},
   "outputs": [
    {
     "name": "stdout",
     "output_type": "stream",
     "text": [
      "Completed 972 Bytes/972 Bytes (12.5 KiB/s) with 1 file(s) remaining\r",
      "upload: ./taar_v2_retention.csv to s3://net-mozaws-prod-us-west-2-pipeline-analysis/taarv2/taar_v2_retention.csv\n"
     ]
    }
   ],
   "source": [
    "%%bash\n",
    "aws s3 cp taar_v2_retention.csv s3://net-mozaws-prod-us-west-2-pipeline-analysis/taarv2/"
   ]
  },
  {
   "cell_type": "markdown",
   "metadata": {},
   "source": [
    "### Load processed Retention Data"
   ]
  },
  {
   "cell_type": "markdown",
   "metadata": {},
   "source": [
    "This section loads the data generated above without having to the re-run the entire notebook."
   ]
  },
  {
   "cell_type": "code",
   "execution_count": 75,
   "metadata": {},
   "outputs": [
    {
     "name": "stdout",
     "output_type": "stream",
     "text": [
      "Completed 972 Bytes/972 Bytes (13.6 KiB/s) with 1 file(s) remaining\r",
      "download: s3://net-mozaws-prod-us-west-2-pipeline-analysis/taarv2/taar_v2_retention.csv to ./taar_v2_retention.csv\n"
     ]
    }
   ],
   "source": [
    "%%bash \n",
    "aws s3 cp s3://net-mozaws-prod-us-west-2-pipeline-analysis/taarv2/taar_v2_retention.csv ."
   ]
  },
  {
   "cell_type": "code",
   "execution_count": 108,
   "metadata": {},
   "outputs": [],
   "source": [
    "ret = pd.read_csv(\"taar_v2_retention.csv\")\n",
    "ret.fillna(0, inplace=True)\n",
    "ret.period = ret.period.astype(int)"
   ]
  },
  {
   "cell_type": "code",
   "execution_count": 112,
   "metadata": {},
   "outputs": [
    {
     "data": {
      "image/png": "[encoded data removed]",
      "text/plain": [
       "<matplotlib.figure.Figure at 0x7fc490376c50>"
      ]
     },
     "metadata": {},
     "output_type": "display_data"
    }
   ],
   "source": [
    "plt.rcParams['figure.figsize'] = (12, 6)\n",
    "fig, ax = plt.subplots()\n",
    "for group, data in ret.groupby(\"branch\"):\n",
    "    (data.sort_values(\"period\")\n",
    "         .plot(x='period', \n",
    "               y='retention', \n",
    "               ax=ax, \n",
    "               label=group))\n",
    "plt.ylabel(\"Retention\")\n",
    "plt.xlabel(\"Week (period)\")\n",
    "plt.title(\"1-6 Week Retention by Branch\")\n",
    "plt.show()"
   ]
  },
  {
   "cell_type": "code",
   "execution_count": 96,
   "metadata": {},
   "outputs": [
    {
     "data": {
      "text/html": [
       "<div>\n",
       "<table border=\"1\" class=\"dataframe\">\n",
       "  <thead>\n",
       "    <tr style=\"text-align: right;\">\n",
       "      <th></th>\n",
       "      <th>branch</th>\n",
       "      <th>period</th>\n",
       "      <th>n_week_clients</th>\n",
       "      <th>total_clients</th>\n",
       "      <th>retention</th>\n",
       "    </tr>\n",
       "  </thead>\n",
       "  <tbody>\n",
       "    <tr>\n",
       "      <th>1</th>\n",
       "      <td>ensemble-taar</td>\n",
       "      <td>6.0</td>\n",
       "      <td>77880</td>\n",
       "      <td>124049</td>\n",
       "      <td>0.627816</td>\n",
       "    </tr>\n",
       "    <tr>\n",
       "      <th>19</th>\n",
       "      <td>linear-taar</td>\n",
       "      <td>6.0</td>\n",
       "      <td>77576</td>\n",
       "      <td>123728</td>\n",
       "      <td>0.626988</td>\n",
       "    </tr>\n",
       "    <tr>\n",
       "      <th>13</th>\n",
       "      <td>control</td>\n",
       "      <td>6.0</td>\n",
       "      <td>620751</td>\n",
       "      <td>1138877</td>\n",
       "      <td>0.545055</td>\n",
       "    </tr>\n",
       "  </tbody>\n",
       "</table>\n",
       "</div>"
      ],
      "text/plain": [
       "           branch  period  n_week_clients  total_clients  retention\n",
       "1   ensemble-taar     6.0           77880         124049   0.627816\n",
       "19    linear-taar     6.0           77576         123728   0.626988\n",
       "13        control     6.0          620751        1138877   0.545055"
      ]
     },
     "execution_count": 96,
     "metadata": {},
     "output_type": "execute_result"
    }
   ],
   "source": [
    "ret[ret.period == 6.0].sort_values(\"retention\", ascending=False)"
   ]
  }
 ],
 "metadata": {
  "anaconda-cloud": {},
  "kernelspec": {
   "display_name": "Python [default]",
   "language": "python",
   "name": "python2"
  },
  "language_info": {
   "codemirror_mode": {
    "name": "ipython",
    "version": 2
   },
   "file_extension": ".py",
   "mimetype": "text/x-python",
   "name": "python",
   "nbconvert_exporter": "python",
   "pygments_lexer": "ipython2",
   "version": "2.7.12"
  }
 },
 "nbformat": 4,
 "nbformat_minor": 1
}
