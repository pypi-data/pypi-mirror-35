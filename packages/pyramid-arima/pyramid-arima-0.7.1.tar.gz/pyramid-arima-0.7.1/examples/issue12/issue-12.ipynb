{
 "cells": [
  {
   "cell_type": "markdown",
   "metadata": {},
   "source": [
    "# [Issue 12](https://github.com/tgsmith61591/pyramid/issues/12)\n",
    "\n",
    "The purpose of this notebook is to debug issue 12\n",
    "\n",
    "Here is the Pyramid version info:"
   ]
  },
  {
   "cell_type": "code",
   "execution_count": 1,
   "metadata": {
    "collapsed": false
   },
   "outputs": [
    {
     "name": "stdout",
     "output_type": "stream",
     "text": [
      "Pyramid version: '0.5-dev4'\n"
     ]
    }
   ],
   "source": [
    "import pyramid\n",
    "print(\"Pyramid version: %r\" % pyramid.__version__)"
   ]
  },
  {
   "cell_type": "markdown",
   "metadata": {},
   "source": [
    "### Read the data in:"
   ]
  },
  {
   "cell_type": "code",
   "execution_count": 2,
   "metadata": {
    "collapsed": false
   },
   "outputs": [
    {
     "data": {
      "text/html": [
       "<div>\n",
       "<style>\n",
       "    .dataframe thead tr:only-child th {\n",
       "        text-align: right;\n",
       "    }\n",
       "\n",
       "    .dataframe thead th {\n",
       "        text-align: left;\n",
       "    }\n",
       "\n",
       "    .dataframe tbody tr th {\n",
       "        vertical-align: top;\n",
       "    }\n",
       "</style>\n",
       "<table border=\"1\" class=\"dataframe\">\n",
       "  <thead>\n",
       "    <tr style=\"text-align: right;\">\n",
       "      <th></th>\n",
       "      <th>time</th>\n",
       "      <th>occupancy</th>\n",
       "    </tr>\n",
       "  </thead>\n",
       "  <tbody>\n",
       "    <tr>\n",
       "      <th>0</th>\n",
       "      <td>2017-03-01 00:02:01</td>\n",
       "      <td>2</td>\n",
       "    </tr>\n",
       "    <tr>\n",
       "      <th>1</th>\n",
       "      <td>2017-03-01 00:04:01</td>\n",
       "      <td>3</td>\n",
       "    </tr>\n",
       "    <tr>\n",
       "      <th>2</th>\n",
       "      <td>2017-03-01 00:06:01</td>\n",
       "      <td>2</td>\n",
       "    </tr>\n",
       "    <tr>\n",
       "      <th>3</th>\n",
       "      <td>2017-03-01 00:08:01</td>\n",
       "      <td>1</td>\n",
       "    </tr>\n",
       "    <tr>\n",
       "      <th>4</th>\n",
       "      <td>2017-03-01 00:10:01</td>\n",
       "      <td>4</td>\n",
       "    </tr>\n",
       "  </tbody>\n",
       "</table>\n",
       "</div>"
      ],
      "text/plain": [
       "                  time  occupancy\n",
       "0  2017-03-01 00:02:01          2\n",
       "1  2017-03-01 00:04:01          3\n",
       "2  2017-03-01 00:06:01          2\n",
       "3  2017-03-01 00:08:01          1\n",
       "4  2017-03-01 00:10:01          4"
      ]
     },
     "execution_count": 2,
     "metadata": {},
     "output_type": "execute_result"
    }
   ],
   "source": [
    "import pandas as pd\n",
    "\n",
    "data = pd.read_csv('dummy_data.csv')\n",
    "data.head()"
   ]
  },
  {
   "cell_type": "markdown",
   "metadata": {},
   "source": [
    "### Determining the periodicity\n",
    "\n",
    "Our issue filer claims that the periodicity of the data is every 2 minutes:\n",
    "\n",
    "> I have a seasonal time-series data set which comprises of 2 months of data. Now if I mention the frequency as \"2 min\" or \"365x24x30\" then it tries to divide the dataset with that frequency. But my data set is just for 2 months and obviously, it has way lesser values than the freq.\n",
    "\n",
    "Therefore, rather than use `365 * 24 * 30 = 262800`, we can probably use the number of days in the two months (say, 60) instead of the 365: `60 * 24 * 30 = 43200`"
   ]
  },
  {
   "cell_type": "code",
   "execution_count": 3,
   "metadata": {
    "collapsed": false
   },
   "outputs": [
    {
     "data": {
      "text/plain": [
       "43200"
      ]
     },
     "execution_count": 3,
     "metadata": {},
     "output_type": "execute_result"
    }
   ],
   "source": [
    "n_days = 60\n",
    "n_hours = 24\n",
    "n_minutes = 30  # every other minute\n",
    "\n",
    "# determine m:\n",
    "m = n_days * n_hours * n_minutes\n",
    "m"
   ]
  },
  {
   "cell_type": "markdown",
   "metadata": {},
   "source": [
    "However, `m` is greater than the number of samples in the data, which is suspect... *unless there is LOTS of data, it's unlikely we have a bi-minutely seasonal period...*"
   ]
  },
  {
   "cell_type": "code",
   "execution_count": 4,
   "metadata": {
    "collapsed": false
   },
   "outputs": [
    {
     "name": "stdout",
     "output_type": "stream",
     "text": [
      "n_periods: 43200\n",
      "n_samples: 1610\n"
     ]
    }
   ],
   "source": [
    "print(\"n_periods: %i\" % m)\n",
    "print(\"n_samples: %i\" % data.shape[0])"
   ]
  },
  {
   "cell_type": "markdown",
   "metadata": {},
   "source": [
    "On inspection of the data, it's clear that there is a 2 minute interval between each sample, __but what is the *actual* seasonality__? That's what we're unsure of. Let's take a look:"
   ]
  },
  {
   "cell_type": "code",
   "execution_count": 5,
   "metadata": {
    "collapsed": false
   },
   "outputs": [
    {
     "data": {
      "image/png": "[encoded data removed]",
      "text/plain": [
       "<matplotlib.figure.Figure at 0x10ea3b150>"
      ]
     },
     "metadata": {},
     "output_type": "display_data"
    }
   ],
   "source": [
    "import numpy as np\n",
    "from matplotlib import pyplot as plt\n",
    "%matplotlib inline\n",
    "\n",
    "# extract the data we're interested in\n",
    "n_samples = data.shape[0]\n",
    "xlab, y = data.time, data.occupancy\n",
    "\n",
    "plt.plot(np.arange(n_samples), y)\n",
    "plt.axis([0, n_samples, y.min(), y.max()])\n",
    "plt.show()"
   ]
  },
  {
   "cell_type": "markdown",
   "metadata": {},
   "source": [
    "__We can see that even though the data is separated at a 2-minute interval, the seasonality is VERY DIFFERENT (and much less frequent)__. Therefore, part of the issue is the assumption that the actual data frequency is equivalent to the seasonality. *It is not!!* It looks like we have 3 seasons in a 2 month period, which means we likely have 18 seasons over the course of the year (3 * 6). Only 3 are in the sample, however, and the algo is time invariant (i.e., it has no idea whether this is a year or a month; it only knows there are `m` seasons). Therefore, we'll set `m` to 3.\n",
    "\n",
    "This is really important to understand: the `m` parameter must be apriori knowledge!! Even R's `auto.arima` will have a tough time fitting a model for a `ts` with unknown frequency."
   ]
  },
  {
   "cell_type": "markdown",
   "metadata": {},
   "source": [
    "## Stationarity\n",
    "\n",
    "Stationarity is an important part of ARIMA analysis. There are several avenues we can explore in order to attempt to make a time series stationary, but one of the more common ones is differencing. `pyramid` provides a differencing method that can be used for this (`diff`), and also provides a function that can estimate the number of diffs required to reach stationarity (`ndiffs`). Before we can difference the actual timeseries, however, we need to address the pretty apparent seasons in the data. We can estimate the order of seasonal differencing using `nsdiffs`."
   ]
  },
  {
   "cell_type": "code",
   "execution_count": 31,
   "metadata": {
    "collapsed": false
   },
   "outputs": [
    {
     "data": {
      "text/plain": [
       "0"
      ]
     },
     "execution_count": 31,
     "metadata": {},
     "output_type": "execute_result"
    }
   ],
   "source": [
    "from pyramid.arima.utils import nsdiffs\n",
    "\n",
    "# Test for best nsdiffs (assuming m is 3, as previously shown)\n",
    "nsdiffs(y, m=3, max_D=5, test='ch')"
   ]
  },
  {
   "cell_type": "markdown",
   "metadata": {},
   "source": [
    "`nsdiffs` shows that we do not need to perform any seasonal differencing, so we can turn our attention to differencing with `ndiffs`."
   ]
  },
  {
   "cell_type": "code",
   "execution_count": 32,
   "metadata": {
    "collapsed": false
   },
   "outputs": [
    {
     "data": {
      "text/plain": [
       "1"
      ]
     },
     "execution_count": 32,
     "metadata": {},
     "output_type": "execute_result"
    }
   ],
   "source": [
    "from pyramid.arima.utils import ndiffs, diff\n",
    "\n",
    "# Test for best ndiffs at the p < 0.05 level\n",
    "ndiffs(y, alpha=0.05, test='kpss', max_d=5)"
   ]
  },
  {
   "cell_type": "markdown",
   "metadata": {},
   "source": [
    "`ndiffs` asserts that we should only difference once. Let's look at how the time series looks after differencing once:"
   ]
  },
  {
   "cell_type": "code",
   "execution_count": 33,
   "metadata": {
    "collapsed": false
   },
   "outputs": [
    {
     "data": {
      "image/png": "[encoded data removed]",
      "text/plain": [
       "<matplotlib.figure.Figure at 0x112342a90>"
      ]
     },
     "metadata": {},
     "output_type": "display_data"
    }
   ],
   "source": [
    "def plot_ts(x, title=\"Time series\"):\n",
    "    n_samples = x.shape[0]\n",
    "\n",
    "    plt.plot(np.arange(n_samples), x)\n",
    "    plt.axis([0, n_samples, x.min(), x.max()])\n",
    "    plt.title(title)\n",
    "    plt.show()\n",
    "    \n",
    "plot_ts(diff(y, differences=1, lag=1), title=\"diff=1, lag=1\")"
   ]
  },
  {
   "cell_type": "markdown",
   "metadata": {},
   "source": [
    "Note that `auto_arima` will only ever use `lag=1` while differencing, and that these estimations all happen under the covers in `auto_arima`. There is not a need to difference prior to using `auto_arima`, as it will find the optimal differencing orders for you.\n",
    "\n",
    "Let's try fitting an ARIMA using `auto_arima`."
   ]
  },
  {
   "cell_type": "code",
   "execution_count": 34,
   "metadata": {
    "collapsed": false
   },
   "outputs": [
    {
     "name": "stdout",
     "output_type": "stream",
     "text": [
      "Fit ARIMA: order=(1, 1, 1) seasonal_order=(1, 0, 1, 3); AIC=6452.402, BIC=6484.706, Fit time=1.147 seconds\n",
      "Fit ARIMA: order=(0, 1, 0) seasonal_order=(0, 0, 0, 3); AIC=nan, BIC=nan, Fit time=nan seconds\n",
      "Fit ARIMA: order=(1, 1, 0) seasonal_order=(1, 0, 0, 3); AIC=6761.848, BIC=6783.384, Fit time=0.500 seconds\n",
      "Fit ARIMA: order=(0, 1, 1) seasonal_order=(0, 0, 1, 3); AIC=6468.459, BIC=6489.995, Fit time=0.633 seconds\n",
      "Fit ARIMA: order=(1, 1, 1) seasonal_order=(0, 0, 1, 3); AIC=6450.426, BIC=6477.346, Fit time=0.675 seconds\n",
      "Fit ARIMA: order=(1, 1, 1) seasonal_order=(0, 0, 0, 3); AIC=6452.211, BIC=6473.747, Fit time=0.610 seconds\n",
      "Fit ARIMA: order=(1, 1, 1) seasonal_order=(0, 0, 2, 3); AIC=6452.425, BIC=6484.729, Fit time=0.859 seconds\n",
      "Fit ARIMA: order=(1, 1, 1) seasonal_order=(1, 0, 2, 3); AIC=6454.425, BIC=6492.113, Fit time=1.061 seconds\n",
      "Fit ARIMA: order=(2, 1, 1) seasonal_order=(0, 0, 1, 3); AIC=6451.633, BIC=6483.937, Fit time=0.823 seconds\n",
      "Fit ARIMA: order=(1, 1, 0) seasonal_order=(0, 0, 1, 3); AIC=6761.850, BIC=6783.386, Fit time=0.488 seconds\n",
      "Fit ARIMA: order=(1, 1, 2) seasonal_order=(0, 0, 1, 3); AIC=6456.689, BIC=6488.993, Fit time=1.003 seconds\n",
      "Fit ARIMA: order=(0, 1, 0) seasonal_order=(0, 0, 1, 3); AIC=7081.687, BIC=7097.839, Fit time=0.455 seconds\n",
      "Fit ARIMA: order=(2, 1, 2) seasonal_order=(0, 0, 1, 3); AIC=6454.178, BIC=6491.866, Fit time=1.748 seconds\n",
      "Total fit time: 10.007 seconds\n"
     ]
    }
   ],
   "source": [
    "from pyramid.arima import auto_arima\n",
    "\n",
    "# We'll give it a broad range of parameters to search, though it might take a bit.\n",
    "arima = auto_arima(y,  # this is our unlagged data\n",
    "                   exogenous=None,  # if you have covariates, you can regress against them as well (optionally)\n",
    "                   start_p=1, max_p=5,\n",
    "                   start_q=1, max_q=5,\n",
    "                   start_P=1, max_P=3,\n",
    "                   start_Q=1, max_Q=3,\n",
    "                   d=1, D=0,  # we have already estimated our d and D, so no need to compute it again\n",
    "                   max_order=None,  # do not limit the order of parameters for this search\n",
    "                   stepwise=True,  # faster\n",
    "                   error_action='ignore',  # do not care if we find parameters that fail; skip them\n",
    "                   trace=True, seasonal=True, m=3)"
   ]
  },
  {
   "cell_type": "code",
   "execution_count": 35,
   "metadata": {
    "collapsed": false
   },
   "outputs": [
    {
     "data": {
      "text/html": [
       "<table class=\"simpletable\">\n",
       "<caption>Statespace Model Results</caption>\n",
       "<tr>\n",
       "  <th>Dep. Variable:</th>                 <td>y</td>               <th>  No. Observations:  </th>   <td>1610</td>   \n",
       "</tr>\n",
       "<tr>\n",
       "  <th>Model:</th>           <td>SARIMAX(1, 1, 1)x(0, 0, 1, 3)</td> <th>  Log Likelihood     </th> <td>-3220.213</td>\n",
       "</tr>\n",
       "<tr>\n",
       "  <th>Date:</th>                  <td>Tue, 25 Jul 2017</td>        <th>  AIC                </th> <td>6450.426</td> \n",
       "</tr>\n",
       "<tr>\n",
       "  <th>Time:</th>                      <td>08:13:53</td>            <th>  BIC                </th> <td>6477.346</td> \n",
       "</tr>\n",
       "<tr>\n",
       "  <th>Sample:</th>                        <td>0</td>               <th>  HQIC               </th> <td>6460.419</td> \n",
       "</tr>\n",
       "<tr>\n",
       "  <th></th>                            <td> - 1610</td>            <th>                     </th>     <td> </td>    \n",
       "</tr>\n",
       "<tr>\n",
       "  <th>Covariance Type:</th>              <td>opg</td>              <th>                     </th>     <td> </td>    \n",
       "</tr>\n",
       "</table>\n",
       "<table class=\"simpletable\">\n",
       "<tr>\n",
       "      <td></td>         <th>coef</th>     <th>std err</th>      <th>z</th>      <th>P>|z|</th>  <th>[0.025</th>    <th>0.975]</th>  \n",
       "</tr>\n",
       "<tr>\n",
       "  <th>intercept</th> <td>    0.0016</td> <td>    0.007</td> <td>    0.212</td> <td> 0.832</td> <td>   -0.013</td> <td>    0.016</td>\n",
       "</tr>\n",
       "<tr>\n",
       "  <th>ar.L1</th>     <td>    0.1599</td> <td>    0.025</td> <td>    6.348</td> <td> 0.000</td> <td>    0.111</td> <td>    0.209</td>\n",
       "</tr>\n",
       "<tr>\n",
       "  <th>ma.L1</th>     <td>   -0.8480</td> <td>    0.016</td> <td>  -51.924</td> <td> 0.000</td> <td>   -0.880</td> <td>   -0.816</td>\n",
       "</tr>\n",
       "<tr>\n",
       "  <th>ma.S.L3</th>   <td>    0.0558</td> <td>    0.023</td> <td>    2.400</td> <td> 0.016</td> <td>    0.010</td> <td>    0.101</td>\n",
       "</tr>\n",
       "<tr>\n",
       "  <th>sigma2</th>    <td>    3.2036</td> <td>    0.085</td> <td>   37.733</td> <td> 0.000</td> <td>    3.037</td> <td>    3.370</td>\n",
       "</tr>\n",
       "</table>\n",
       "<table class=\"simpletable\">\n",
       "<tr>\n",
       "  <th>Ljung-Box (Q):</th>          <td>58.59</td> <th>  Jarque-Bera (JB):  </th> <td>276.16</td>\n",
       "</tr>\n",
       "<tr>\n",
       "  <th>Prob(Q):</th>                <td>0.03</td>  <th>  Prob(JB):          </th>  <td>0.00</td> \n",
       "</tr>\n",
       "<tr>\n",
       "  <th>Heteroskedasticity (H):</th> <td>0.88</td>  <th>  Skew:              </th>  <td>0.38</td> \n",
       "</tr>\n",
       "<tr>\n",
       "  <th>Prob(H) (two-sided):</th>    <td>0.13</td>  <th>  Kurtosis:          </th>  <td>4.88</td> \n",
       "</tr>\n",
       "</table>"
      ],
      "text/plain": [
       "<class 'statsmodels.iolib.summary.Summary'>\n",
       "\"\"\"\n",
       "                                 Statespace Model Results                                \n",
       "=========================================================================================\n",
       "Dep. Variable:                                 y   No. Observations:                 1610\n",
       "Model:             SARIMAX(1, 1, 1)x(0, 0, 1, 3)   Log Likelihood               -3220.213\n",
       "Date:                           Tue, 25 Jul 2017   AIC                           6450.426\n",
       "Time:                                   08:13:53   BIC                           6477.346\n",
       "Sample:                                        0   HQIC                          6460.419\n",
       "                                          - 1610                                         \n",
       "Covariance Type:                             opg                                         \n",
       "==============================================================================\n",
       "                 coef    std err          z      P>|z|      [0.025      0.975]\n",
       "------------------------------------------------------------------------------\n",
       "intercept      0.0016      0.007      0.212      0.832      -0.013       0.016\n",
       "ar.L1          0.1599      0.025      6.348      0.000       0.111       0.209\n",
       "ma.L1         -0.8480      0.016    -51.924      0.000      -0.880      -0.816\n",
       "ma.S.L3        0.0558      0.023      2.400      0.016       0.010       0.101\n",
       "sigma2         3.2036      0.085     37.733      0.000       3.037       3.370\n",
       "===================================================================================\n",
       "Ljung-Box (Q):                       58.59   Jarque-Bera (JB):               276.16\n",
       "Prob(Q):                              0.03   Prob(JB):                         0.00\n",
       "Heteroskedasticity (H):               0.88   Skew:                             0.38\n",
       "Prob(H) (two-sided):                  0.13   Kurtosis:                         4.88\n",
       "===================================================================================\n",
       "\n",
       "Warnings:\n",
       "[1] Covariance matrix calculated using the outer product of gradients (complex-step).\n",
       "\"\"\""
      ]
     },
     "execution_count": 35,
     "metadata": {},
     "output_type": "execute_result"
    }
   ],
   "source": [
    "arima.summary()"
   ]
  },
  {
   "cell_type": "markdown",
   "metadata": {},
   "source": [
    "Running R's `auto.arima` found the exact same parameters with almost the same exact AIC, BIC, etc.\n",
    "\n",
    "```R\n",
    "> library(forecast)\n",
    "> df = read.csv('dummy_data.csv')\n",
    "> head(df)\n",
    "                 time occupancy\n",
    "1 2017-03-01 00:02:01         2\n",
    "2 2017-03-01 00:04:01         3\n",
    "3 2017-03-01 00:06:01         2\n",
    "4 2017-03-01 00:08:01         1\n",
    "5 2017-03-01 00:10:01         4\n",
    "6 2017-03-01 00:12:01         1\n",
    "> y = ts(df$occupancy, frequency=3)\n",
    ">\n",
    "> auto.arima(y)\n",
    "Series: y\n",
    "ARIMA(1,1,1)(0,0,1)[3]\n",
    "\n",
    "Coefficients:\n",
    "         ar1      ma1    sma1\n",
    "      0.1598  -0.8479  0.0557\n",
    "s.e.  0.0330   0.0198  0.0283\n",
    "\n",
    "sigma^2 estimated as 3.21:  log likelihood=-3220.24\n",
    "AIC=6448.47   AICc=6448.5   BIC=6470.01\n",
    "```\n",
    "\n",
    "To predict your next value, you simply call `predict`. Note that once you've discovered your parameters, you'll periodically have to refresh your model with new data as it comes in. Since `ARIMA`s use the most recent values to project into the future, you will not want to predict many values into the future; only several at a time. Here's how we can forecast the next three values:"
   ]
  },
  {
   "cell_type": "code",
   "execution_count": 43,
   "metadata": {
    "collapsed": false
   },
   "outputs": [
    {
     "name": "stdout",
     "output_type": "stream",
     "text": [
      "Last few values: [7, 8, 7, 3, 2]\n",
      "Nex three predicted values: array([ 4.7255802 ,  4.94371147,  4.95687247])\n"
     ]
    }
   ],
   "source": [
    "print(\"Last few values: %r\" % y[-5:].tolist())\n",
    "print(\"Nex three predicted values: %r\" % arima.predict(n_periods=3))"
   ]
  },
  {
   "cell_type": "code",
   "execution_count": null,
   "metadata": {
    "collapsed": true
   },
   "outputs": [],
   "source": []
  }
 ],
 "metadata": {
  "anaconda-cloud": {},
  "kernelspec": {
   "display_name": "Python [Root]",
   "language": "python",
   "name": "Python [Root]"
  },
  "language_info": {
   "codemirror_mode": {
    "name": "ipython",
    "version": 2
   },
   "file_extension": ".py",
   "mimetype": "text/x-python",
   "name": "python",
   "nbconvert_exporter": "python",
   "pygments_lexer": "ipython2",
   "version": "2.7.12"
  }
 },
 "nbformat": 4,
 "nbformat_minor": 0
}
