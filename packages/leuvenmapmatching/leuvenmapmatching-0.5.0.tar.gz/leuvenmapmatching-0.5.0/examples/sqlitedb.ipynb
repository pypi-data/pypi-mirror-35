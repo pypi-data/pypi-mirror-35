{
 "cells": [
  {
   "cell_type": "code",
   "execution_count": 1,
   "metadata": {
    "ExecuteTime": {
     "end_time": "2018-03-25T21:22:02.335778Z",
     "start_time": "2018-03-25T21:22:02.330900Z"
    },
    "collapsed": true
   },
   "outputs": [],
   "source": [
    "import sqlite3"
   ]
  },
  {
   "cell_type": "markdown",
   "metadata": {},
   "source": [
    "From https://sqlite.org/rtree.html"
   ]
  },
  {
   "cell_type": "code",
   "execution_count": 2,
   "metadata": {
    "ExecuteTime": {
     "end_time": "2018-03-25T21:22:19.101534Z",
     "start_time": "2018-03-25T21:22:19.097031Z"
    },
    "collapsed": true
   },
   "outputs": [],
   "source": [
    "conn = sqlite3.connect(\"locs.db\")\n",
    "c = conn.cursor()"
   ]
  },
  {
   "cell_type": "code",
   "execution_count": 16,
   "metadata": {
    "ExecuteTime": {
     "end_time": "2018-03-25T21:33:05.944122Z",
     "start_time": "2018-03-25T21:33:05.935974Z"
    }
   },
   "outputs": [
    {
     "name": "stdout",
     "output_type": "stream",
     "text": [
      "DROP TABLE IF EXISTS demo_index\n"
     ]
    }
   ],
   "source": [
    "query = (\"DROP TABLE IF EXISTS demo_index\")\n",
    "print(query)\n",
    "c.execute(query)\n",
    "conn.commit()"
   ]
  },
  {
   "cell_type": "code",
   "execution_count": 17,
   "metadata": {
    "ExecuteTime": {
     "end_time": "2018-03-25T21:33:06.167940Z",
     "start_time": "2018-03-25T21:33:06.160305Z"
    }
   },
   "outputs": [
    {
     "name": "stdout",
     "output_type": "stream",
     "text": [
      "CREATE VIRTUAL TABLE demo_index USING rtree(\n",
      "id,              -- Integer primary key\n",
      "minX, maxX,      -- Minimum and maximum X coordinate\n",
      "minY, maxY       -- Minimum and maximum Y coordinate\n",
      ");\n"
     ]
    }
   ],
   "source": [
    "query = (\"CREATE VIRTUAL TABLE demo_index USING rtree(\\n\"\n",
    "   \"id,              -- Integer primary key\\n\"\n",
    "   \"minX, maxX,      -- Minimum and maximum X coordinate\\n\"\n",
    "   \"minY, maxY       -- Minimum and maximum Y coordinate\\n\"\n",
    "   \");\")\n",
    "print(query)\n",
    "c.execute(query)\n",
    "conn.commit()"
   ]
  },
  {
   "cell_type": "code",
   "execution_count": 18,
   "metadata": {
    "ExecuteTime": {
     "end_time": "2018-03-25T21:33:06.435014Z",
     "start_time": "2018-03-25T21:33:06.423119Z"
    }
   },
   "outputs": [
    {
     "name": "stdout",
     "output_type": "stream",
     "text": [
      "\n",
      "INSERT INTO demo_index VALUES(\n",
      "    1,                   -- Primary key -- SQLite.org headquarters\n",
      "    -80.7749, -80.7747,  -- Longitude range\n",
      "    35.3776, 35.3778     -- Latitude range\n",
      ");\n",
      "\n",
      "\n",
      "INSERT INTO demo_index VALUES(\n",
      "    2,                   -- NC 12th Congressional District in 2010\n",
      "    -81.0, -79.6,\n",
      "    35.0, 36.2\n",
      ");\n",
      "\n"
     ]
    }
   ],
   "source": [
    "query = \"\"\"\n",
    "INSERT INTO demo_index VALUES(\n",
    "    1,                   -- Primary key -- SQLite.org headquarters\n",
    "    -80.7749, -80.7747,  -- Longitude range\n",
    "    35.3776, 35.3778     -- Latitude range\n",
    ");\n",
    "\"\"\"\n",
    "print(query)\n",
    "c.execute(query)\n",
    "conn.commit()\n",
    "query = \"\"\"\n",
    "INSERT INTO demo_index VALUES(\n",
    "    2,                   -- NC 12th Congressional District in 2010\n",
    "    -81.0, -79.6,\n",
    "    35.0, 36.2\n",
    ");\n",
    "\"\"\"\n",
    "print(query)\n",
    "c.execute(query)\n",
    "conn.commit()"
   ]
  },
  {
   "cell_type": "code",
   "execution_count": 20,
   "metadata": {
    "ExecuteTime": {
     "end_time": "2018-03-25T21:37:11.430993Z",
     "start_time": "2018-03-25T21:37:11.424888Z"
    }
   },
   "outputs": [
    {
     "name": "stdout",
     "output_type": "stream",
     "text": [
      "(1,)\n"
     ]
    }
   ],
   "source": [
    "for row in c.execute('SELECT id FROM demo_index ' + \\\n",
    "                     'WHERE minX>=-81.08 AND maxX<=-80.58 ' + \\\n",
    "                     'AND minY>=35.00  AND maxY<=35.44;'):\n",
    "    print(row)"
   ]
  },
  {
   "cell_type": "code",
   "execution_count": 23,
   "metadata": {
    "ExecuteTime": {
     "end_time": "2018-03-25T21:39:26.510230Z",
     "start_time": "2018-03-25T21:39:26.503149Z"
    }
   },
   "outputs": [
    {
     "name": "stdout",
     "output_type": "stream",
     "text": [
      "DROP TABLE IF EXISTS demo_data\n"
     ]
    }
   ],
   "source": [
    "query = (\"DROP TABLE IF EXISTS demo_data\")\n",
    "print(query)\n",
    "c.execute(query)\n",
    "conn.commit()\n",
    "q = \"\"\"\n",
    "CREATE TABLE demo_data(\n",
    "  id INTEGER PRIMARY KEY,  -- primary key\n",
    "  objname TEXT,            -- name of the object\n",
    "  objtype TEXT,            -- object type\n",
    "  boundary BLOB            -- detailed boundary of object\n",
    ")\"\"\"\n",
    "c.execute(query)\n",
    "conn.commit()"
   ]
  },
  {
   "cell_type": "code",
   "execution_count": 24,
   "metadata": {
    "ExecuteTime": {
     "end_time": "2018-03-25T21:41:07.849138Z",
     "start_time": "2018-03-25T21:41:07.846079Z"
    },
    "collapsed": true
   },
   "outputs": [],
   "source": [
    "q = \"\"\"\n",
    "SELECT objname FROM demo_data, demo_index\n",
    " WHERE demo_data.id=demo_index.id\n",
    "   AND contained_in(demo_data.boundary, :boundary)\n",
    "   AND minX>=-81.0 AND maxX<=-79.6\n",
    "   AND minY>=35.0 AND maxY>=36.2;\n",
    "\"\"\""
   ]
  },
  {
   "cell_type": "code",
   "execution_count": null,
   "metadata": {
    "collapsed": true
   },
   "outputs": [],
   "source": []
  }
 ],
 "metadata": {
  "kernelspec": {
   "display_name": "Python 3",
   "language": "python",
   "name": "python3"
  },
  "language_info": {
   "codemirror_mode": {
    "name": "ipython",
    "version": 3
   },
   "file_extension": ".py",
   "mimetype": "text/x-python",
   "name": "python",
   "nbconvert_exporter": "python",
   "pygments_lexer": "ipython3",
   "version": "3.6.1"
  },
  "nav_menu": {},
  "toc": {
   "navigate_menu": true,
   "number_sections": true,
   "sideBar": true,
   "threshold": 6,
   "toc_cell": false,
   "toc_section_display": "block",
   "toc_window_display": false
  }
 },
 "nbformat": 4,
 "nbformat_minor": 2
}
