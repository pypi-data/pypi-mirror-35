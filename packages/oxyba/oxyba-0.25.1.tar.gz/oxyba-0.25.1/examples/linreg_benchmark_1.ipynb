{
 "cells": [
  {
   "cell_type": "raw",
   "metadata": {},
   "source": [
    "---\n",
    "title: \"Linear Regression Benchmarking\"\n",
    "date: 2018-07-26T19:00:00+02:00\n",
    "draft: false\n",
    "tags: [Linear Regression, Benchmarking]\n",
    "---"
   ]
  },
  {
   "cell_type": "code",
   "execution_count": 1,
   "metadata": {
    "ExecuteTime": {
     "end_time": "2018-07-26T16:04:24.908757Z",
     "start_time": "2018-07-26T16:04:24.449429Z"
    }
   },
   "outputs": [],
   "source": [
    "import warnings; warnings.filterwarnings('ignore')\n",
    "import numpy as np\n",
    "import oxyba as ox; from importlib import reload; reload(ox);\n",
    "from time import perf_counter, process_time"
   ]
  },
  {
   "cell_type": "markdown",
   "metadata": {},
   "source": [
    "### Load Demo Dataset"
   ]
  },
  {
   "cell_type": "code",
   "execution_count": 2,
   "metadata": {
    "ExecuteTime": {
     "end_time": "2018-07-26T16:04:26.430556Z",
     "start_time": "2018-07-26T16:04:24.914142Z"
    }
   },
   "outputs": [],
   "source": [
    "from sklearn.datasets import load_boston\n",
    "tmp = load_boston()\n",
    "num_obs = len(tmp.target);\n",
    "y = tmp.target\n",
    "X = np.c_[ np.ones(shape=(num_obs,1)), tmp.data[:,[5,12]] ];"
   ]
  },
  {
   "cell_type": "markdown",
   "metadata": {},
   "source": [
    "### Some other Contenders\n",
    "I use sklearn's [LinearRegression](http://scikit-learn.org/stable/modules/generated/sklearn.linear_model.LinearRegression.html). "
   ]
  },
  {
   "cell_type": "code",
   "execution_count": 3,
   "metadata": {
    "ExecuteTime": {
     "end_time": "2018-07-26T16:04:26.445717Z",
     "start_time": "2018-07-26T16:04:26.436157Z"
    }
   },
   "outputs": [],
   "source": [
    "def func1(y,x):\n",
    "    from sklearn.linear_model import LinearRegression\n",
    "    #lr = LinearRegression(fit_intercept=False, copy_X=False, n_jobs=-1); #doesn't make a difference\n",
    "    lr = LinearRegression(fit_intercept=False)\n",
    "    lr.fit(y=y, X=X);\n",
    "    return lr.coef_;"
   ]
  },
  {
   "cell_type": "markdown",
   "metadata": {},
   "source": [
    "### Benchmarking"
   ]
  },
  {
   "cell_type": "code",
   "execution_count": 4,
   "metadata": {
    "ExecuteTime": {
     "end_time": "2018-07-26T16:04:26.463568Z",
     "start_time": "2018-07-26T16:04:26.452643Z"
    }
   },
   "outputs": [],
   "source": [
    "trials = 50000\n",
    "funcnames = [ox.linreg_ols_lu,\n",
    "             ox.linreg_ols_pinv,\n",
    "             ox.linreg_ols_svd,\n",
    "             ox.linreg_ols_qr,\n",
    "             func1]"
   ]
  },
  {
   "cell_type": "code",
   "execution_count": 5,
   "metadata": {
    "ExecuteTime": {
     "end_time": "2018-07-26T16:04:26.650655Z",
     "start_time": "2018-07-26T16:04:26.469350Z"
    }
   },
   "outputs": [
    {
     "name": "stdout",
     "output_type": "stream",
     "text": [
      "linreg_ols_lu [-1.35827281  5.09478798 -0.64235833]\n",
      "linreg_ols_pinv [-1.35827281  5.09478798 -0.64235833]\n",
      "linreg_ols_svd [-1.35827281  5.09478798 -0.64235833]\n",
      "linreg_ols_qr [-1.35827281  5.09478798 -0.64235833]\n",
      "func1 [-1.35827281  5.09478798 -0.64235833]\n"
     ]
    }
   ],
   "source": [
    "for func in funcnames:\n",
    "    beta = func(y,X);\n",
    "    print(func.__name__, beta);"
   ]
  },
  {
   "cell_type": "markdown",
   "metadata": {},
   "source": [
    "Yep. Looks good"
   ]
  },
  {
   "cell_type": "code",
   "execution_count": 6,
   "metadata": {
    "ExecuteTime": {
     "end_time": "2018-07-26T16:05:27.888481Z",
     "start_time": "2018-07-26T16:04:26.674027Z"
    }
   },
   "outputs": [
    {
     "name": "stdout",
     "output_type": "stream",
     "text": [
      "Clock  CPU    function name\n",
      "3.4387 3.0257 linreg_ols_lu\n",
      "8.3896 8.1435 linreg_ols_pinv\n",
      "8.9878 8.8945 linreg_ols_svd\n",
      "10.1030 10.0522 linreg_ols_qr\n",
      "30.2831 29.9103 func1\n"
     ]
    }
   ],
   "source": [
    "print('{0:6s} {1:6s} {2:s}'.format('Clock', 'CPU', 'function name'))\n",
    "for func in funcnames:\n",
    "    sh,sc = perf_counter(), process_time();\n",
    "    for i in range(trials):\n",
    "        beta = func(y,X); \n",
    "        if beta is None: print('error solving')\n",
    "        beta = None;\n",
    "    eh,ec = perf_counter(), process_time()\n",
    "    print('{0:.4f} {1:.4f} {2:s}'.format(eh-sh, ec-sc, func.__name__))"
   ]
  },
  {
   "cell_type": "markdown",
   "metadata": {},
   "source": [
    "We got a winner: `linreg_ols_lu`\n",
    "\n",
    "Surprisingly sklearn's `LinearRegression` class is almost 10x slower than Numpy's/LAPACK's `solve` based on LU decomposition. It seems that [LinearRegression](https://github.com/scikit-learn/scikit-learn/blob/master/sklearn/linear_model/base.py) applies `scipy.linalg.lstsq` what actually a wrapper for `numpy.linalg.lstsq`. In other words, sklearn's LinearRegression is based on Singular Value Decomposition. However, it is still 3x times slower than `linreg_ols_svd` that applies `numpy.linalg.lstsq`. All the sklearn overhead costs performance."
   ]
  }
 ],
 "metadata": {
  "kernelspec": {
   "display_name": "Python 3",
   "language": "python",
   "name": "python3"
  },
  "language_info": {
   "codemirror_mode": {
    "name": "ipython",
    "version": 3
   },
   "file_extension": ".py",
   "mimetype": "text/x-python",
   "name": "python",
   "nbconvert_exporter": "python",
   "pygments_lexer": "ipython3",
   "version": "3.6.2"
  },
  "varInspector": {
   "cols": {
    "lenName": 16,
    "lenType": 16,
    "lenVar": 40
   },
   "kernels_config": {
    "python": {
     "delete_cmd_postfix": "",
     "delete_cmd_prefix": "del ",
     "library": "var_list.py",
     "varRefreshCmd": "print(var_dic_list())"
    },
    "r": {
     "delete_cmd_postfix": ") ",
     "delete_cmd_prefix": "rm(",
     "library": "var_list.r",
     "varRefreshCmd": "cat(var_dic_list()) "
    }
   },
   "types_to_exclude": [
    "module",
    "function",
    "builtin_function_or_method",
    "instance",
    "_Feature"
   ],
   "window_display": false
  }
 },
 "nbformat": 4,
 "nbformat_minor": 2
}
