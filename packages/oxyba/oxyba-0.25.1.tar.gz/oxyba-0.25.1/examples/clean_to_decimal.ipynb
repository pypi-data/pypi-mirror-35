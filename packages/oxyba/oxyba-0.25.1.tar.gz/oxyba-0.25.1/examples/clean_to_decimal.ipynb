{
 "cells": [
  {
   "cell_type": "raw",
   "metadata": {},
   "source": [
    "---\n",
    "title: \"clean_to_decimal\"\n",
    "date: 2018-07-27T19:00:00+02:00\n",
    "draft: false\n",
    "tags: [clean_to_decimal]\n",
    "---"
   ]
  },
  {
   "cell_type": "code",
   "execution_count": 1,
   "metadata": {
    "ExecuteTime": {
     "end_time": "2018-07-27T16:45:02.220484Z",
     "start_time": "2018-07-27T16:45:01.745895Z"
    }
   },
   "outputs": [],
   "source": [
    "import warnings; warnings.filterwarnings('ignore')\n",
    "import numpy as np\n",
    "import pandas as pd\n",
    "import oxyba as ox; from importlib import reload; reload(ox);"
   ]
  },
  {
   "cell_type": "markdown",
   "metadata": {},
   "source": [
    "### Convert a String or Number"
   ]
  },
  {
   "cell_type": "code",
   "execution_count": 2,
   "metadata": {
    "ExecuteTime": {
     "end_time": "2018-07-27T16:45:02.804667Z",
     "start_time": "2018-07-27T16:45:02.778757Z"
    }
   },
   "outputs": [
    {
     "data": {
      "text/plain": [
       "Decimal('12.345')"
      ]
     },
     "execution_count": 2,
     "metadata": {},
     "output_type": "execute_result"
    }
   ],
   "source": [
    "ox.clean_to_decimal('12.345')"
   ]
  },
  {
   "cell_type": "code",
   "execution_count": 6,
   "metadata": {
    "ExecuteTime": {
     "end_time": "2018-07-27T16:46:24.630611Z",
     "start_time": "2018-07-27T16:46:24.624163Z"
    }
   },
   "outputs": [
    {
     "name": "stdout",
     "output_type": "stream",
     "text": [
      "2 12\n",
      "3 12.3\n",
      "4 12.34\n",
      "5 12.345\n"
     ]
    }
   ],
   "source": [
    "for p in range(2,6):\n",
    "    print(p, ox.clean_to_decimal('12.345', prec=p))"
   ]
  },
  {
   "cell_type": "code",
   "execution_count": 7,
   "metadata": {
    "ExecuteTime": {
     "end_time": "2018-07-27T16:46:33.061480Z",
     "start_time": "2018-07-27T16:46:33.053424Z"
    }
   },
   "outputs": [
    {
     "data": {
      "text/plain": [
       "Decimal('12.34500000000000063948846218')"
      ]
     },
     "execution_count": 7,
     "metadata": {},
     "output_type": "execute_result"
    }
   ],
   "source": [
    "ox.clean_to_decimal(12.345)"
   ]
  },
  {
   "cell_type": "code",
   "execution_count": 9,
   "metadata": {
    "ExecuteTime": {
     "end_time": "2018-07-27T16:46:51.468112Z",
     "start_time": "2018-07-27T16:46:51.460246Z"
    }
   },
   "outputs": [
    {
     "data": {
      "text/plain": [
       "Decimal('12.345')"
      ]
     },
     "execution_count": 9,
     "metadata": {},
     "output_type": "execute_result"
    }
   ],
   "source": [
    "ox.clean_to_decimal(12.345, prec=5)"
   ]
  },
  {
   "cell_type": "markdown",
   "metadata": {},
   "source": [
    "### List, Arrays, DataFrame"
   ]
  },
  {
   "cell_type": "code",
   "execution_count": 13,
   "metadata": {
    "ExecuteTime": {
     "end_time": "2018-07-27T16:48:20.063283Z",
     "start_time": "2018-07-27T16:48:20.054387Z"
    }
   },
   "outputs": [
    {
     "data": {
      "text/plain": [
       "array([ 4.96714153, -1.38264301,  6.47688538, 15.23029856, -2.34153375,\n",
       "       -2.34136957, 15.79212816])"
      ]
     },
     "execution_count": 13,
     "metadata": {},
     "output_type": "execute_result"
    }
   ],
   "source": [
    "np.random.seed(42)\n",
    "x = np.random.standard_normal((7,)) * 10\n",
    "x"
   ]
  },
  {
   "cell_type": "markdown",
   "metadata": {},
   "source": [
    "The `prec` argument defines the total number of characters"
   ]
  },
  {
   "cell_type": "code",
   "execution_count": 16,
   "metadata": {
    "ExecuteTime": {
     "end_time": "2018-07-27T16:49:30.438448Z",
     "start_time": "2018-07-27T16:49:30.430130Z"
    }
   },
   "outputs": [
    {
     "data": {
      "text/plain": [
       "[Decimal('4.9671'),\n",
       " Decimal('-1.3826'),\n",
       " Decimal('6.4769'),\n",
       " Decimal('15.230'),\n",
       " Decimal('-2.3415'),\n",
       " Decimal('-2.3414'),\n",
       " Decimal('15.792')]"
      ]
     },
     "execution_count": 16,
     "metadata": {},
     "output_type": "execute_result"
    }
   ],
   "source": [
    "ox.clean_to_decimal(list(x), prec=5)"
   ]
  },
  {
   "cell_type": "code",
   "execution_count": 17,
   "metadata": {
    "ExecuteTime": {
     "end_time": "2018-07-27T16:50:41.524240Z",
     "start_time": "2018-07-27T16:50:41.516895Z"
    }
   },
   "outputs": [
    {
     "data": {
      "text/plain": [
       "array([Decimal('4.97'), Decimal('-1.38'), Decimal('6.48'),\n",
       "       Decimal('15.2'), Decimal('-2.34'), Decimal('-2.34'),\n",
       "       Decimal('15.8')], dtype=object)"
      ]
     },
     "execution_count": 17,
     "metadata": {},
     "output_type": "execute_result"
    }
   ],
   "source": [
    "ox.clean_to_decimal(x, prec=3)"
   ]
  },
  {
   "cell_type": "code",
   "execution_count": 18,
   "metadata": {
    "ExecuteTime": {
     "end_time": "2018-07-27T16:51:05.443169Z",
     "start_time": "2018-07-27T16:51:05.421261Z"
    }
   },
   "outputs": [
    {
     "data": {
      "text/html": [
       "<div>\n",
       "<style scoped>\n",
       "    .dataframe tbody tr th:only-of-type {\n",
       "        vertical-align: middle;\n",
       "    }\n",
       "\n",
       "    .dataframe tbody tr th {\n",
       "        vertical-align: top;\n",
       "    }\n",
       "\n",
       "    .dataframe thead th {\n",
       "        text-align: right;\n",
       "    }\n",
       "</style>\n",
       "<table border=\"1\" class=\"dataframe\">\n",
       "  <thead>\n",
       "    <tr style=\"text-align: right;\">\n",
       "      <th></th>\n",
       "      <th>0</th>\n",
       "    </tr>\n",
       "  </thead>\n",
       "  <tbody>\n",
       "    <tr>\n",
       "      <th>0</th>\n",
       "      <td>4.96714</td>\n",
       "    </tr>\n",
       "    <tr>\n",
       "      <th>1</th>\n",
       "      <td>-1.38264</td>\n",
       "    </tr>\n",
       "    <tr>\n",
       "      <th>2</th>\n",
       "      <td>6.47689</td>\n",
       "    </tr>\n",
       "    <tr>\n",
       "      <th>3</th>\n",
       "      <td>15.2303</td>\n",
       "    </tr>\n",
       "    <tr>\n",
       "      <th>4</th>\n",
       "      <td>-2.34153</td>\n",
       "    </tr>\n",
       "    <tr>\n",
       "      <th>5</th>\n",
       "      <td>-2.34137</td>\n",
       "    </tr>\n",
       "    <tr>\n",
       "      <th>6</th>\n",
       "      <td>15.7921</td>\n",
       "    </tr>\n",
       "  </tbody>\n",
       "</table>\n",
       "</div>"
      ],
      "text/plain": [
       "          0\n",
       "0   4.96714\n",
       "1  -1.38264\n",
       "2   6.47689\n",
       "3   15.2303\n",
       "4  -2.34153\n",
       "5  -2.34137\n",
       "6   15.7921"
      ]
     },
     "execution_count": 18,
     "metadata": {},
     "output_type": "execute_result"
    }
   ],
   "source": [
    "ox.clean_to_decimal(pd.DataFrame(x), prec=6)"
   ]
  }
 ],
 "metadata": {
  "kernelspec": {
   "display_name": "Python 3",
   "language": "python",
   "name": "python3"
  },
  "language_info": {
   "codemirror_mode": {
    "name": "ipython",
    "version": 3
   },
   "file_extension": ".py",
   "mimetype": "text/x-python",
   "name": "python",
   "nbconvert_exporter": "python",
   "pygments_lexer": "ipython3",
   "version": "3.6.2"
  },
  "varInspector": {
   "cols": {
    "lenName": 16,
    "lenType": 16,
    "lenVar": 40
   },
   "kernels_config": {
    "python": {
     "delete_cmd_postfix": "",
     "delete_cmd_prefix": "del ",
     "library": "var_list.py",
     "varRefreshCmd": "print(var_dic_list())"
    },
    "r": {
     "delete_cmd_postfix": ") ",
     "delete_cmd_prefix": "rm(",
     "library": "var_list.r",
     "varRefreshCmd": "cat(var_dic_list()) "
    }
   },
   "types_to_exclude": [
    "module",
    "function",
    "builtin_function_or_method",
    "instance",
    "_Feature"
   ],
   "window_display": false
  }
 },
 "nbformat": 4,
 "nbformat_minor": 2
}
