{
 "cells": [
  {
   "cell_type": "raw",
   "metadata": {},
   "source": [
    "---\n",
    "title: \"pip_upgrade\"\n",
    "date: 2018-07-17T15:00:00+02:00\n",
    "draft: false\n",
    "tags: [pip_upgrade]\n",
    "---"
   ]
  },
  {
   "cell_type": "markdown",
   "metadata": {},
   "source": [
    "### Upgrade packages within python environment\n",
    "The function `oxyba.pip_upgrade` is using `subprocess` to call the shell command `pip`. "
   ]
  },
  {
   "cell_type": "markdown",
   "metadata": {
    "ExecuteTime": {
     "start_time": "2018-07-17T12:36:18.867Z"
    }
   },
   "source": [
    "```\n",
    "import oxyba as ox\n",
    "ox.pip_upgrade()\n",
    "```"
   ]
  },
  {
   "cell_type": "markdown",
   "metadata": {},
   "source": [
    "I kind of dislike the idea to upgrade python packages while running python\n",
    "and advise against - That is what is Shell made for.\n",
    "\n",
    "There are verbosity levels\n",
    "\n",
    "* `ox.pip_upgrade(v=0)` -- no output\n",
    "* `ox.pip_upgrade()` -- one line message what package is next (`v=1` is default)\n",
    "* `ox.pip_upgrade(v=2)` -- detailed terminal ouput from `pip` command"
   ]
  },
  {
   "cell_type": "markdown",
   "metadata": {},
   "source": [
    "### Using Shell command \n",
    "Usually `pip` is used from the command line.\n",
    "\n",
    "[For example](https://stackoverflow.com/a/3452888)\n",
    "\n",
    "```\n",
    "pip freeze --local \\\n",
    "    | grep -v '^\\-e' \\\n",
    "    | cut -d = -f 1  \\\n",
    "    | xargs -n1 pip install -U\n",
    "```"
   ]
  },
  {
   "cell_type": "markdown",
   "metadata": {},
   "source": [
    "### Links\n",
    "* [\"Upgrading all packages with pip\", stackoverflow](http://stackoverflow.com/questions/2720014/upgrading-all-packages-with-pip)\n",
    "* [Disable warnings while downloading upgraded packages with 'urllib3'](https://urllib3.readthedocs.org/en/latest/security.html#insecureplatformwarning)\n",
    "* [Use 'pkg_resources.working_set' instead of 'pip.get_installed_distributions()'](https://github.com/pypa/pip/issues/5243)"
   ]
  }
 ],
 "metadata": {
  "kernelspec": {
   "display_name": "Python 3",
   "language": "python",
   "name": "python3"
  },
  "language_info": {
   "codemirror_mode": {
    "name": "ipython",
    "version": 3
   },
   "file_extension": ".py",
   "mimetype": "text/x-python",
   "name": "python",
   "nbconvert_exporter": "python",
   "pygments_lexer": "ipython3",
   "version": "3.6.2"
  },
  "varInspector": {
   "cols": {
    "lenName": 16,
    "lenType": 16,
    "lenVar": 40
   },
   "kernels_config": {
    "python": {
     "delete_cmd_postfix": "",
     "delete_cmd_prefix": "del ",
     "library": "var_list.py",
     "varRefreshCmd": "print(var_dic_list())"
    },
    "r": {
     "delete_cmd_postfix": ") ",
     "delete_cmd_prefix": "rm(",
     "library": "var_list.r",
     "varRefreshCmd": "cat(var_dic_list()) "
    }
   },
   "types_to_exclude": [
    "module",
    "function",
    "builtin_function_or_method",
    "instance",
    "_Feature"
   ],
   "window_display": false
  }
 },
 "nbformat": 4,
 "nbformat_minor": 2
}
