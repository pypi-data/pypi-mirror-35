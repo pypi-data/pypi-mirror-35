{
 "cells": [
  {
   "cell_type": "raw",
   "metadata": {},
   "source": [
    "---\n",
    "title: \"clean_german_date\"\n",
    "date: 2018-07-27T17:00:00+02:00\n",
    "draft: false\n",
    "tags: [clean_german_date]\n",
    "---"
   ]
  },
  {
   "cell_type": "code",
   "execution_count": 1,
   "metadata": {
    "ExecuteTime": {
     "end_time": "2018-07-27T15:35:38.678110Z",
     "start_time": "2018-07-27T15:35:38.024494Z"
    }
   },
   "outputs": [],
   "source": [
    "import warnings; warnings.filterwarnings('ignore')\n",
    "import numpy as np\n",
    "import pandas as pd\n",
    "import oxyba as ox; from importlib import reload; reload(ox);"
   ]
  },
  {
   "cell_type": "markdown",
   "metadata": {},
   "source": [
    "The function `clean_german_date` converts date strings with the `DD.MM.YYYY` format to `datetime` objects. \n",
    "It accepts single strings, list, numpy array and pandas dataframe."
   ]
  },
  {
   "cell_type": "markdown",
   "metadata": {},
   "source": [
    "### One Date String"
   ]
  },
  {
   "cell_type": "code",
   "execution_count": 2,
   "metadata": {
    "ExecuteTime": {
     "end_time": "2018-07-27T15:35:38.704876Z",
     "start_time": "2018-07-27T15:35:38.689192Z"
    }
   },
   "outputs": [
    {
     "name": "stdout",
     "output_type": "stream",
     "text": [
      "2012-09-23 00:00:00\n"
     ]
    }
   ],
   "source": [
    "print(ox.clean_german_date('23.09.2012'))"
   ]
  },
  {
   "cell_type": "markdown",
   "metadata": {},
   "source": [
    "### List\n",
    "Let's create some random dates"
   ]
  },
  {
   "cell_type": "code",
   "execution_count": 3,
   "metadata": {
    "ExecuteTime": {
     "end_time": "2018-07-27T15:35:38.761375Z",
     "start_time": "2018-07-27T15:35:38.714772Z"
    }
   },
   "outputs": [
    {
     "data": {
      "text/plain": [
       "['28.12.1999',\n",
       " '01.05.1995',\n",
       " '23.08.1980',\n",
       " '08.07.1992',\n",
       " '13.08.1990',\n",
       " '21.06.1988',\n",
       " '25.11.1994']"
      ]
     },
     "execution_count": 3,
     "metadata": {},
     "output_type": "execute_result"
    }
   ],
   "source": [
    "dates = ox.rand_dates(7)\n",
    "dates = [d.strftime('%d.%m.%Y') for d in dates]\n",
    "dates"
   ]
  },
  {
   "cell_type": "markdown",
   "metadata": {},
   "source": [
    "and convert all list elements"
   ]
  },
  {
   "cell_type": "code",
   "execution_count": 4,
   "metadata": {
    "ExecuteTime": {
     "end_time": "2018-07-27T15:35:38.778675Z",
     "start_time": "2018-07-27T15:35:38.768019Z"
    }
   },
   "outputs": [
    {
     "data": {
      "text/plain": [
       "[datetime.datetime(1999, 12, 28, 0, 0),\n",
       " datetime.datetime(1995, 5, 1, 0, 0),\n",
       " datetime.datetime(1980, 8, 23, 0, 0),\n",
       " datetime.datetime(1992, 7, 8, 0, 0),\n",
       " datetime.datetime(1990, 8, 13, 0, 0),\n",
       " datetime.datetime(1988, 6, 21, 0, 0),\n",
       " datetime.datetime(1994, 11, 25, 0, 0)]"
      ]
     },
     "execution_count": 4,
     "metadata": {},
     "output_type": "execute_result"
    }
   ],
   "source": [
    "ox.clean_german_date(dates)"
   ]
  },
  {
   "cell_type": "markdown",
   "metadata": {},
   "source": [
    "### Numpy Array\n",
    "Numpy arrays are supported as well"
   ]
  },
  {
   "cell_type": "code",
   "execution_count": 5,
   "metadata": {
    "ExecuteTime": {
     "end_time": "2018-07-27T15:35:38.816480Z",
     "start_time": "2018-07-27T15:35:38.798370Z"
    }
   },
   "outputs": [
    {
     "data": {
      "text/plain": [
       "array([datetime.datetime(1999, 12, 28, 0, 0),\n",
       "       datetime.datetime(1995, 5, 1, 0, 0),\n",
       "       datetime.datetime(1980, 8, 23, 0, 0),\n",
       "       datetime.datetime(1992, 7, 8, 0, 0),\n",
       "       datetime.datetime(1990, 8, 13, 0, 0),\n",
       "       datetime.datetime(1988, 6, 21, 0, 0),\n",
       "       datetime.datetime(1994, 11, 25, 0, 0)], dtype=object)"
      ]
     },
     "execution_count": 5,
     "metadata": {},
     "output_type": "execute_result"
    }
   ],
   "source": [
    "ox.clean_german_date(np.array(dates))"
   ]
  },
  {
   "cell_type": "markdown",
   "metadata": {},
   "source": [
    "### Pandas DataFrame"
   ]
  },
  {
   "cell_type": "code",
   "execution_count": 6,
   "metadata": {
    "ExecuteTime": {
     "end_time": "2018-07-27T15:35:38.865168Z",
     "start_time": "2018-07-27T15:35:38.823396Z"
    }
   },
   "outputs": [
    {
     "data": {
      "text/html": [
       "<div>\n",
       "<style scoped>\n",
       "    .dataframe tbody tr th:only-of-type {\n",
       "        vertical-align: middle;\n",
       "    }\n",
       "\n",
       "    .dataframe tbody tr th {\n",
       "        vertical-align: top;\n",
       "    }\n",
       "\n",
       "    .dataframe thead th {\n",
       "        text-align: right;\n",
       "    }\n",
       "</style>\n",
       "<table border=\"1\" class=\"dataframe\">\n",
       "  <thead>\n",
       "    <tr style=\"text-align: right;\">\n",
       "      <th></th>\n",
       "      <th>German Date Format</th>\n",
       "    </tr>\n",
       "  </thead>\n",
       "  <tbody>\n",
       "    <tr>\n",
       "      <th>0</th>\n",
       "      <td>28.12.1999</td>\n",
       "    </tr>\n",
       "    <tr>\n",
       "      <th>1</th>\n",
       "      <td>01.05.1995</td>\n",
       "    </tr>\n",
       "    <tr>\n",
       "      <th>2</th>\n",
       "      <td>23.08.1980</td>\n",
       "    </tr>\n",
       "    <tr>\n",
       "      <th>3</th>\n",
       "      <td>08.07.1992</td>\n",
       "    </tr>\n",
       "    <tr>\n",
       "      <th>4</th>\n",
       "      <td>13.08.1990</td>\n",
       "    </tr>\n",
       "    <tr>\n",
       "      <th>5</th>\n",
       "      <td>21.06.1988</td>\n",
       "    </tr>\n",
       "    <tr>\n",
       "      <th>6</th>\n",
       "      <td>25.11.1994</td>\n",
       "    </tr>\n",
       "  </tbody>\n",
       "</table>\n",
       "</div>"
      ],
      "text/plain": [
       "  German Date Format\n",
       "0         28.12.1999\n",
       "1         01.05.1995\n",
       "2         23.08.1980\n",
       "3         08.07.1992\n",
       "4         13.08.1990\n",
       "5         21.06.1988\n",
       "6         25.11.1994"
      ]
     },
     "execution_count": 6,
     "metadata": {},
     "output_type": "execute_result"
    }
   ],
   "source": [
    "df = pd.DataFrame(dates, columns=['German Date Format'])\n",
    "df"
   ]
  },
  {
   "cell_type": "code",
   "execution_count": 7,
   "metadata": {
    "ExecuteTime": {
     "end_time": "2018-07-27T15:35:38.908769Z",
     "start_time": "2018-07-27T15:35:38.871321Z"
    }
   },
   "outputs": [
    {
     "data": {
      "text/html": [
       "<div>\n",
       "<style scoped>\n",
       "    .dataframe tbody tr th:only-of-type {\n",
       "        vertical-align: middle;\n",
       "    }\n",
       "\n",
       "    .dataframe tbody tr th {\n",
       "        vertical-align: top;\n",
       "    }\n",
       "\n",
       "    .dataframe thead th {\n",
       "        text-align: right;\n",
       "    }\n",
       "</style>\n",
       "<table border=\"1\" class=\"dataframe\">\n",
       "  <thead>\n",
       "    <tr style=\"text-align: right;\">\n",
       "      <th></th>\n",
       "      <th>German Date Format</th>\n",
       "      <th>Computer Date Format</th>\n",
       "    </tr>\n",
       "  </thead>\n",
       "  <tbody>\n",
       "    <tr>\n",
       "      <th>0</th>\n",
       "      <td>28.12.1999</td>\n",
       "      <td>1999-12-28</td>\n",
       "    </tr>\n",
       "    <tr>\n",
       "      <th>1</th>\n",
       "      <td>01.05.1995</td>\n",
       "      <td>1995-05-01</td>\n",
       "    </tr>\n",
       "    <tr>\n",
       "      <th>2</th>\n",
       "      <td>23.08.1980</td>\n",
       "      <td>1980-08-23</td>\n",
       "    </tr>\n",
       "    <tr>\n",
       "      <th>3</th>\n",
       "      <td>08.07.1992</td>\n",
       "      <td>1992-07-08</td>\n",
       "    </tr>\n",
       "    <tr>\n",
       "      <th>4</th>\n",
       "      <td>13.08.1990</td>\n",
       "      <td>1990-08-13</td>\n",
       "    </tr>\n",
       "    <tr>\n",
       "      <th>5</th>\n",
       "      <td>21.06.1988</td>\n",
       "      <td>1988-06-21</td>\n",
       "    </tr>\n",
       "    <tr>\n",
       "      <th>6</th>\n",
       "      <td>25.11.1994</td>\n",
       "      <td>1994-11-25</td>\n",
       "    </tr>\n",
       "  </tbody>\n",
       "</table>\n",
       "</div>"
      ],
      "text/plain": [
       "  German Date Format Computer Date Format\n",
       "0         28.12.1999           1999-12-28\n",
       "1         01.05.1995           1995-05-01\n",
       "2         23.08.1980           1980-08-23\n",
       "3         08.07.1992           1992-07-08\n",
       "4         13.08.1990           1990-08-13\n",
       "5         21.06.1988           1988-06-21\n",
       "6         25.11.1994           1994-11-25"
      ]
     },
     "execution_count": 7,
     "metadata": {},
     "output_type": "execute_result"
    }
   ],
   "source": [
    "df['Computer Date Format'] = ox.clean_german_date(df[['German Date Format']])\n",
    "df"
   ]
  }
 ],
 "metadata": {
  "kernelspec": {
   "display_name": "Python 3",
   "language": "python",
   "name": "python3"
  },
  "language_info": {
   "codemirror_mode": {
    "name": "ipython",
    "version": 3
   },
   "file_extension": ".py",
   "mimetype": "text/x-python",
   "name": "python",
   "nbconvert_exporter": "python",
   "pygments_lexer": "ipython3",
   "version": "3.6.2"
  },
  "varInspector": {
   "cols": {
    "lenName": 16,
    "lenType": 16,
    "lenVar": 40
   },
   "kernels_config": {
    "python": {
     "delete_cmd_postfix": "",
     "delete_cmd_prefix": "del ",
     "library": "var_list.py",
     "varRefreshCmd": "print(var_dic_list())"
    },
    "r": {
     "delete_cmd_postfix": ") ",
     "delete_cmd_prefix": "rm(",
     "library": "var_list.r",
     "varRefreshCmd": "cat(var_dic_list()) "
    }
   },
   "types_to_exclude": [
    "module",
    "function",
    "builtin_function_or_method",
    "instance",
    "_Feature"
   ],
   "window_display": false
  }
 },
 "nbformat": 4,
 "nbformat_minor": 2
}
