{
 "cells": [
  {
   "cell_type": "raw",
   "metadata": {
    "ExecuteTime": {
     "end_time": "2018-07-23T10:45:06.837224Z",
     "start_time": "2018-07-23T10:45:06.821076Z"
    }
   },
   "source": [
    "---\n",
    "title: \"clean_dateobject_to_string\"\n",
    "date: 2018-07-27T18:00:00+02:00\n",
    "draft: false\n",
    "tags: [clean_dateobject_to_string]\n",
    "---"
   ]
  },
  {
   "cell_type": "code",
   "execution_count": 1,
   "metadata": {
    "ExecuteTime": {
     "end_time": "2018-07-27T16:14:29.982087Z",
     "start_time": "2018-07-27T16:14:29.239494Z"
    }
   },
   "outputs": [],
   "source": [
    "import warnings; warnings.filterwarnings('ignore')\n",
    "import numpy as np\n",
    "import pandas as pd\n",
    "from datetime import datetime, date\n",
    "import oxyba as ox; from importlib import reload; reload(ox);"
   ]
  },
  {
   "cell_type": "markdown",
   "metadata": {},
   "source": [
    "The function `clean_dateobject_to_string` converts a Pandas `Timestamp` object or datetime's `datetime` object or a list, array or dataframe with these objects into a string `YYYY-MM-DD`.\n"
   ]
  },
  {
   "cell_type": "markdown",
   "metadata": {},
   "source": [
    "### One object"
   ]
  },
  {
   "cell_type": "code",
   "execution_count": 2,
   "metadata": {
    "ExecuteTime": {
     "end_time": "2018-07-27T16:14:29.998267Z",
     "start_time": "2018-07-27T16:14:29.989794Z"
    }
   },
   "outputs": [
    {
     "name": "stdout",
     "output_type": "stream",
     "text": [
      "2014-09-23\n"
     ]
    }
   ],
   "source": [
    "print(ox.clean_dateobject_to_string(pd.Timestamp('2014-09-23 00:00:00')))"
   ]
  },
  {
   "cell_type": "code",
   "execution_count": 3,
   "metadata": {
    "ExecuteTime": {
     "end_time": "2018-07-27T16:14:30.014111Z",
     "start_time": "2018-07-27T16:14:30.004748Z"
    }
   },
   "outputs": [
    {
     "name": "stdout",
     "output_type": "stream",
     "text": [
      "2014-09-23\n"
     ]
    }
   ],
   "source": [
    "print(ox.clean_dateobject_to_string(datetime(2014,9,23,0,0)))"
   ]
  },
  {
   "cell_type": "code",
   "execution_count": 4,
   "metadata": {
    "ExecuteTime": {
     "end_time": "2018-07-27T16:14:30.045101Z",
     "start_time": "2018-07-27T16:14:30.034918Z"
    }
   },
   "outputs": [
    {
     "name": "stdout",
     "output_type": "stream",
     "text": [
      "2014-09-23\n"
     ]
    }
   ],
   "source": [
    "print(ox.clean_dateobject_to_string(date(2014,9,23)))"
   ]
  },
  {
   "cell_type": "markdown",
   "metadata": {},
   "source": [
    "### List\n",
    "Let's generate some random dates"
   ]
  },
  {
   "cell_type": "code",
   "execution_count": 5,
   "metadata": {
    "ExecuteTime": {
     "end_time": "2018-07-27T16:14:30.193760Z",
     "start_time": "2018-07-27T16:14:30.072716Z"
    }
   },
   "outputs": [
    {
     "data": {
      "text/plain": [
       "[datetime.datetime(2005, 7, 2, 8, 39, 6, 419793),\n",
       " datetime.datetime(2013, 12, 8, 3, 30, 19, 371049),\n",
       " datetime.datetime(1983, 7, 30, 8, 56, 44, 42096),\n",
       " datetime.datetime(1992, 11, 21, 7, 18, 4, 60524),\n",
       " datetime.datetime(1988, 4, 17, 15, 1, 11, 155737),\n",
       " datetime.datetime(2018, 3, 9, 10, 7, 46, 622098),\n",
       " datetime.datetime(1977, 12, 31, 17, 43, 25, 251229),\n",
       " datetime.datetime(2018, 3, 29, 8, 38, 49, 428414)]"
      ]
     },
     "execution_count": 5,
     "metadata": {},
     "output_type": "execute_result"
    }
   ],
   "source": [
    "dates = ox.rand_dates(8)\n",
    "dates"
   ]
  },
  {
   "cell_type": "code",
   "execution_count": 6,
   "metadata": {
    "ExecuteTime": {
     "end_time": "2018-07-27T16:14:30.251927Z",
     "start_time": "2018-07-27T16:14:30.232007Z"
    }
   },
   "outputs": [
    {
     "data": {
      "text/plain": [
       "['2005-07-02',\n",
       " '2013-12-08',\n",
       " '1983-07-30',\n",
       " '1992-11-21',\n",
       " '1988-04-17',\n",
       " '2018-03-09',\n",
       " '1977-12-31',\n",
       " '2018-03-29']"
      ]
     },
     "execution_count": 6,
     "metadata": {},
     "output_type": "execute_result"
    }
   ],
   "source": [
    "ox.clean_dateobject_to_string(dates)"
   ]
  },
  {
   "cell_type": "markdown",
   "metadata": {},
   "source": [
    "### Numpy Array\n",
    "Works as well"
   ]
  },
  {
   "cell_type": "code",
   "execution_count": 7,
   "metadata": {
    "ExecuteTime": {
     "end_time": "2018-07-27T16:14:30.288172Z",
     "start_time": "2018-07-27T16:14:30.264537Z"
    }
   },
   "outputs": [
    {
     "data": {
      "text/plain": [
       "array(['2005-07-02', '2013-12-08', '1983-07-30', '1992-11-21',\n",
       "       '1988-04-17', '2018-03-09', '1977-12-31', '2018-03-29'],\n",
       "      dtype='<U10')"
      ]
     },
     "execution_count": 7,
     "metadata": {},
     "output_type": "execute_result"
    }
   ],
   "source": [
    "ox.clean_dateobject_to_string(np.array(dates))"
   ]
  }
 ],
 "metadata": {
  "kernelspec": {
   "display_name": "Python 3",
   "language": "python",
   "name": "python3"
  },
  "language_info": {
   "codemirror_mode": {
    "name": "ipython",
    "version": 3
   },
   "file_extension": ".py",
   "mimetype": "text/x-python",
   "name": "python",
   "nbconvert_exporter": "python",
   "pygments_lexer": "ipython3",
   "version": "3.6.2"
  },
  "varInspector": {
   "cols": {
    "lenName": 16,
    "lenType": 16,
    "lenVar": 40
   },
   "kernels_config": {
    "python": {
     "delete_cmd_postfix": "",
     "delete_cmd_prefix": "del ",
     "library": "var_list.py",
     "varRefreshCmd": "print(var_dic_list())"
    },
    "r": {
     "delete_cmd_postfix": ") ",
     "delete_cmd_prefix": "rm(",
     "library": "var_list.r",
     "varRefreshCmd": "cat(var_dic_list()) "
    }
   },
   "types_to_exclude": [
    "module",
    "function",
    "builtin_function_or_method",
    "instance",
    "_Feature"
   ],
   "window_display": false
  }
 },
 "nbformat": 4,
 "nbformat_minor": 2
}
