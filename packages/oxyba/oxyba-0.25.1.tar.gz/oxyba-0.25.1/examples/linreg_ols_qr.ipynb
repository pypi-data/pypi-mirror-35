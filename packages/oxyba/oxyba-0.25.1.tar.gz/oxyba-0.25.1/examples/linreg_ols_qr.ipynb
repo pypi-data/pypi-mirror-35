{
 "cells": [
  {
   "cell_type": "raw",
   "metadata": {},
   "source": [
    "---\n",
    "title: \"linreg_ols_qr\"\n",
    "date: 2018-07-26T18:00:00+02:00\n",
    "draft: false\n",
    "tags: [linreg_ols_qr]\n",
    "---"
   ]
  },
  {
   "cell_type": "code",
   "execution_count": 1,
   "metadata": {
    "ExecuteTime": {
     "end_time": "2018-07-26T15:34:26.447973Z",
     "start_time": "2018-07-26T15:34:26.077446Z"
    }
   },
   "outputs": [],
   "source": [
    "import warnings; warnings.filterwarnings('ignore')\n",
    "import numpy as np\n",
    "import oxyba as ox; from importlib import reload; reload(ox);\n",
    "from time import perf_counter, process_time"
   ]
  },
  {
   "cell_type": "markdown",
   "metadata": {},
   "source": [
    "### Load Demo Dataset"
   ]
  },
  {
   "cell_type": "code",
   "execution_count": 2,
   "metadata": {
    "ExecuteTime": {
     "end_time": "2018-07-26T15:34:27.840589Z",
     "start_time": "2018-07-26T15:34:26.452309Z"
    }
   },
   "outputs": [],
   "source": [
    "from sklearn.datasets import load_boston\n",
    "tmp = load_boston()\n",
    "num_obs = len(tmp.target);\n",
    "y = tmp.target\n",
    "X = np.c_[ np.ones(shape=(num_obs,1)), tmp.data[:,[5,12]] ];"
   ]
  },
  {
   "cell_type": "markdown",
   "metadata": {},
   "source": [
    "### Matrix Inverse with QR Decomposition\n",
    "The regressions coefficients \n",
    "\n",
    "$$\n",
    "\\hat{\\beta} = (X^T X)^{-1} - (X^T y)\n",
    "$$\n",
    "\n",
    "will be estimated by compute the inverse matrix $A^{-1} = (X^T X)^{-1}$ with QR Decomposition $A = Q R$\n",
    "\n",
    "$$\n",
    "A^{-1} = R^{-1} Q^T\n",
    "$$\n",
    "\n",
    "The advantage is that $R$ is a triangular matrix that can be easily inverted."
   ]
  },
  {
   "cell_type": "code",
   "execution_count": 3,
   "metadata": {
    "ExecuteTime": {
     "end_time": "2018-07-26T15:34:27.872456Z",
     "start_time": "2018-07-26T15:34:27.844612Z"
    }
   },
   "outputs": [
    {
     "data": {
      "text/plain": [
       "array([[  -7166.58642613,  -43760.55990978, -112995.6644441 ],\n",
       "       [      0.        ,    -919.5901397 ,   12941.66875798],\n",
       "       [      0.        ,       0.        ,     307.21651709]])"
      ]
     },
     "execution_count": 3,
     "metadata": {},
     "output_type": "execute_result"
    }
   ],
   "source": [
    "from numpy import dot\n",
    "from numpy.linalg import qr\n",
    "q,r = qr(dot(X.T, X));\n",
    "r"
   ]
  },
  {
   "cell_type": "code",
   "execution_count": 4,
   "metadata": {
    "ExecuteTime": {
     "end_time": "2018-07-26T15:34:27.890130Z",
     "start_time": "2018-07-26T15:34:27.877309Z"
    }
   },
   "outputs": [
    {
     "data": {
      "text/plain": [
       "array([[ 0.328, -0.045, -0.003],\n",
       "       [-0.045,  0.006,  0.   ],\n",
       "       [-0.003,  0.   ,  0.   ]])"
      ]
     },
     "execution_count": 4,
     "metadata": {},
     "output_type": "execute_result"
    }
   ],
   "source": [
    "from numpy.linalg import inv\n",
    "x2inv = dot(inv(r), q.T)\n",
    "x2inv.round(3)"
   ]
  },
  {
   "cell_type": "markdown",
   "metadata": {},
   "source": [
    "As comparision"
   ]
  },
  {
   "cell_type": "code",
   "execution_count": 5,
   "metadata": {
    "ExecuteTime": {
     "end_time": "2018-07-26T15:34:27.905666Z",
     "start_time": "2018-07-26T15:34:27.895088Z"
    }
   },
   "outputs": [
    {
     "data": {
      "text/plain": [
       "array([[ 0.328, -0.045, -0.003],\n",
       "       [-0.045,  0.006,  0.   ],\n",
       "       [-0.003,  0.   ,  0.   ]])"
      ]
     },
     "execution_count": 5,
     "metadata": {},
     "output_type": "execute_result"
    }
   ],
   "source": [
    "inv(dot(X.T, X)).round(3)"
   ]
  },
  {
   "cell_type": "markdown",
   "metadata": {},
   "source": [
    "### Test Implementations\n",
    "The first implementation is the same as described above.\n",
    "It uses Numpy's [qr](https://docs.scipy.org/doc/numpy/reference/generated/numpy.linalg.qr.html)."
   ]
  },
  {
   "cell_type": "code",
   "execution_count": 6,
   "metadata": {
    "ExecuteTime": {
     "end_time": "2018-07-26T15:34:27.918068Z",
     "start_time": "2018-07-26T15:34:27.910839Z"
    }
   },
   "outputs": [],
   "source": [
    "def func1_pretty(y,X):\n",
    "    from numpy import dot, diag\n",
    "    from numpy.linalg import qr, inv\n",
    "    q,r = qr(dot(X.T, X));\n",
    "    x2inv = dot(inv(r), q.T);\n",
    "    return dot(x2inv, dot(X.T,y)) "
   ]
  },
  {
   "cell_type": "code",
   "execution_count": 7,
   "metadata": {
    "ExecuteTime": {
     "end_time": "2018-07-26T15:34:27.930731Z",
     "start_time": "2018-07-26T15:34:27.923379Z"
    }
   },
   "outputs": [],
   "source": [
    "def func1_faster(y,X):\n",
    "    import numpy as np\n",
    "    q,r = np.linalg.qr(np.dot(X.T, X));\n",
    "    return np.dot(np.dot(np.linalg.inv(r), q.T), np.dot(X.T,y));"
   ]
  },
  {
   "cell_type": "markdown",
   "metadata": {},
   "source": [
    "The second implementation is statsmodels `OLS.fit` that has the option to apply QR decomposition."
   ]
  },
  {
   "cell_type": "code",
   "execution_count": 8,
   "metadata": {
    "ExecuteTime": {
     "end_time": "2018-07-26T15:34:27.943328Z",
     "start_time": "2018-07-26T15:34:27.936823Z"
    }
   },
   "outputs": [],
   "source": [
    "def func2_pretty(y,X):\n",
    "    from statsmodels.api import OLS;\n",
    "    estim = OLS(y,X).fit(method='qr');\n",
    "    return estim.params;"
   ]
  },
  {
   "cell_type": "code",
   "execution_count": 9,
   "metadata": {
    "ExecuteTime": {
     "end_time": "2018-07-26T15:34:27.958934Z",
     "start_time": "2018-07-26T15:34:27.949066Z"
    }
   },
   "outputs": [],
   "source": [
    "def func2_faster(y, X):\n",
    "    import statsmodels.api as sm\n",
    "    return sm.OLS(y,X).fit(method='qr').params;"
   ]
  },
  {
   "cell_type": "markdown",
   "metadata": {},
   "source": [
    "### Benchmarking"
   ]
  },
  {
   "cell_type": "code",
   "execution_count": 10,
   "metadata": {
    "ExecuteTime": {
     "end_time": "2018-07-26T15:34:27.983260Z",
     "start_time": "2018-07-26T15:34:27.976262Z"
    }
   },
   "outputs": [],
   "source": [
    "trials = 50000\n",
    "funcnames = [func1_pretty, func1_faster, \n",
    "             func2_pretty, func2_faster,\n",
    "             ox.linreg_ols_qr,\n",
    "             ox.linreg_ols_lu]"
   ]
  },
  {
   "cell_type": "code",
   "execution_count": 11,
   "metadata": {
    "ExecuteTime": {
     "end_time": "2018-07-26T15:34:29.908383Z",
     "start_time": "2018-07-26T15:34:27.993235Z"
    }
   },
   "outputs": [
    {
     "name": "stdout",
     "output_type": "stream",
     "text": [
      "func1_pretty [-1.35827281  5.09478798 -0.64235833]\n",
      "func1_faster [-1.35827281  5.09478798 -0.64235833]\n",
      "func2_pretty [-1.35827281  5.09478798 -0.64235833]\n",
      "func2_faster [-1.35827281  5.09478798 -0.64235833]\n",
      "linreg_ols_qr [-1.35827281  5.09478798 -0.64235833]\n",
      "linreg_ols_lu [-1.35827281  5.09478798 -0.64235833]\n"
     ]
    }
   ],
   "source": [
    "for func in funcnames:\n",
    "    beta = func(y,X);\n",
    "    print(func.__name__, beta);"
   ]
  },
  {
   "cell_type": "markdown",
   "metadata": {},
   "source": [
    "Check."
   ]
  },
  {
   "cell_type": "code",
   "execution_count": 12,
   "metadata": {
    "ExecuteTime": {
     "end_time": "2018-07-26T15:35:55.106969Z",
     "start_time": "2018-07-26T15:34:29.913438Z"
    }
   },
   "outputs": [
    {
     "name": "stdout",
     "output_type": "stream",
     "text": [
      "Clock  CPU    function name\n",
      "8.4616 7.9238 func1_pretty\n",
      "7.2205 7.1730 func1_faster\n",
      "30.1979 30.0159 func2_pretty\n",
      "29.9465 29.7724 func2_faster\n",
      "7.1734 7.1510 linreg_ols_qr\n",
      "2.1842 2.1756 linreg_ols_lu\n"
     ]
    }
   ],
   "source": [
    "print('{0:6s} {1:6s} {2:s}'.format('Clock', 'CPU', 'function name'))\n",
    "for func in funcnames:\n",
    "    sh,sc = perf_counter(), process_time();\n",
    "    for i in range(trials):\n",
    "        beta = func(y,X); \n",
    "        if beta is None: print('error solving')\n",
    "        beta = None;\n",
    "    eh,ec = perf_counter(), process_time()\n",
    "    print('{0:.4f} {1:.4f} {2:s}'.format(eh-sh, ec-sc, func.__name__))"
   ]
  },
  {
   "cell_type": "markdown",
   "metadata": {},
   "source": [
    "I picked `func1_faster` for `linreg_ols_qr`."
   ]
  }
 ],
 "metadata": {
  "kernelspec": {
   "display_name": "Python 3",
   "language": "python",
   "name": "python3"
  },
  "language_info": {
   "codemirror_mode": {
    "name": "ipython",
    "version": 3
   },
   "file_extension": ".py",
   "mimetype": "text/x-python",
   "name": "python",
   "nbconvert_exporter": "python",
   "pygments_lexer": "ipython3",
   "version": "3.6.2"
  },
  "varInspector": {
   "cols": {
    "lenName": 16,
    "lenType": 16,
    "lenVar": 40
   },
   "kernels_config": {
    "python": {
     "delete_cmd_postfix": "",
     "delete_cmd_prefix": "del ",
     "library": "var_list.py",
     "varRefreshCmd": "print(var_dic_list())"
    },
    "r": {
     "delete_cmd_postfix": ") ",
     "delete_cmd_prefix": "rm(",
     "library": "var_list.r",
     "varRefreshCmd": "cat(var_dic_list()) "
    }
   },
   "types_to_exclude": [
    "module",
    "function",
    "builtin_function_or_method",
    "instance",
    "_Feature"
   ],
   "window_display": false
  }
 },
 "nbformat": 4,
 "nbformat_minor": 2
}
