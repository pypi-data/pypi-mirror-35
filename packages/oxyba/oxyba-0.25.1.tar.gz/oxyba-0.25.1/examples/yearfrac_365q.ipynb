{
 "cells": [
  {
   "cell_type": "raw",
   "metadata": {},
   "source": [
    "---\n",
    "title: \"yearfrac_365q\"\n",
    "date: 2018-07-17T18:00:00+02:00\n",
    "draft: false\n",
    "tags: [yearfrac_365q]\n",
    "---"
   ]
  },
  {
   "cell_type": "code",
   "execution_count": 1,
   "metadata": {
    "ExecuteTime": {
     "end_time": "2018-07-17T16:14:47.496844Z",
     "start_time": "2018-07-17T16:14:47.481874Z"
    }
   },
   "outputs": [],
   "source": [
    "import oxyba as ox\n",
    "from importlib import reload; reload(ox);\n",
    "from random import seed; seed(42);"
   ]
  },
  {
   "cell_type": "markdown",
   "metadata": {},
   "source": [
    "Generate some random dates"
   ]
  },
  {
   "cell_type": "code",
   "execution_count": 2,
   "metadata": {
    "ExecuteTime": {
     "end_time": "2018-07-17T16:14:47.519961Z",
     "start_time": "2018-07-17T16:14:47.501729Z"
    }
   },
   "outputs": [
    {
     "data": {
      "text/plain": [
       "[datetime.datetime(2001, 1, 14, 20, 56, 0, 609407),\n",
       " datetime.datetime(1971, 3, 20, 11, 22, 57, 511855),\n",
       " datetime.datetime(1983, 5, 9, 6, 20, 35, 234027),\n",
       " datetime.datetime(1980, 11, 1, 11, 54, 9, 500708),\n",
       " datetime.datetime(2005, 10, 1, 11, 31, 15, 34133)]"
      ]
     },
     "execution_count": 2,
     "metadata": {},
     "output_type": "execute_result"
    }
   ],
   "source": [
    "d1 = ox.rand_dates(5)\n",
    "d1"
   ]
  },
  {
   "cell_type": "markdown",
   "metadata": {},
   "source": [
    "Compute `d1 - d1[0]`, i.e. the first element should be `0.0`"
   ]
  },
  {
   "cell_type": "code",
   "execution_count": 3,
   "metadata": {
    "ExecuteTime": {
     "end_time": "2018-07-17T16:14:47.536199Z",
     "start_time": "2018-07-17T16:14:47.524537Z"
    }
   },
   "outputs": [
    {
     "data": {
      "text/plain": [
       "[0.0,\n",
       " -29.824021027125813,\n",
       " -17.68687926514576,\n",
       " -20.203015804568196,\n",
       " 4.711937959027222]"
      ]
     },
     "execution_count": 3,
     "metadata": {},
     "output_type": "execute_result"
    }
   ],
   "source": [
    "yf = ox.yearfrac_365q(d1, d1[0])\n",
    "yf"
   ]
  },
  {
   "cell_type": "markdown",
   "metadata": {},
   "source": [
    "Subtract `d1 - d1` what should return a list with `0.0` values"
   ]
  },
  {
   "cell_type": "code",
   "execution_count": 4,
   "metadata": {
    "ExecuteTime": {
     "end_time": "2018-07-17T16:14:47.550332Z",
     "start_time": "2018-07-17T16:14:47.540442Z"
    }
   },
   "outputs": [
    {
     "data": {
      "text/plain": [
       "[0.0, 0.0, 0.0, 0.0, 0.0]"
      ]
     },
     "execution_count": 4,
     "metadata": {},
     "output_type": "execute_result"
    }
   ],
   "source": [
    "yf = ox.yearfrac_365q(d1, d1)\n",
    "yf"
   ]
  },
  {
   "cell_type": "markdown",
   "metadata": {},
   "source": [
    "### Calculation is based on Days\n",
    "Be aware that only the dates (year, month, day) are used. \n",
    "The time components are ignored in the calculation."
   ]
  },
  {
   "cell_type": "code",
   "execution_count": 5,
   "metadata": {
    "ExecuteTime": {
     "end_time": "2018-07-17T16:14:47.568856Z",
     "start_time": "2018-07-17T16:14:47.554516Z"
    }
   },
   "outputs": [
    {
     "data": {
      "text/plain": [
       "[datetime.date(2001, 1, 14),\n",
       " datetime.date(1971, 3, 20),\n",
       " datetime.date(1983, 5, 9),\n",
       " datetime.date(1980, 11, 1),\n",
       " datetime.date(2005, 10, 1)]"
      ]
     },
     "execution_count": 5,
     "metadata": {},
     "output_type": "execute_result"
    }
   ],
   "source": [
    "from datetime import datetime\n",
    "days = [datetime.date(d) for d in d1]\n",
    "days"
   ]
  },
  {
   "cell_type": "markdown",
   "metadata": {},
   "source": [
    "And the result should be a list of `0.0` values because hours, minutes, etc. does not matter in `yearfrac_365q`."
   ]
  },
  {
   "cell_type": "code",
   "execution_count": 6,
   "metadata": {
    "ExecuteTime": {
     "end_time": "2018-07-17T16:14:47.582652Z",
     "start_time": "2018-07-17T16:14:47.574118Z"
    }
   },
   "outputs": [
    {
     "data": {
      "text/plain": [
       "[0.0, 0.0, 0.0, 0.0, 0.0]"
      ]
     },
     "execution_count": 6,
     "metadata": {},
     "output_type": "execute_result"
    }
   ],
   "source": [
    "yf = ox.yearfrac_365q(d1, days)\n",
    "yf"
   ]
  },
  {
   "cell_type": "markdown",
   "metadata": {},
   "source": [
    "### Elementwise Date Difference\n",
    "Generate some other random dates `d2`"
   ]
  },
  {
   "cell_type": "code",
   "execution_count": 7,
   "metadata": {
    "ExecuteTime": {
     "end_time": "2018-07-17T16:14:47.596239Z",
     "start_time": "2018-07-17T16:14:47.586363Z"
    }
   },
   "outputs": [
    {
     "data": {
      "text/plain": [
       "[datetime.datetime(2002, 11, 6, 16, 55, 8, 882819),\n",
       " datetime.datetime(2013, 4, 23, 3, 19, 55, 855752),\n",
       " datetime.datetime(1974, 3, 22, 10, 32, 16, 745200),\n",
       " datetime.datetime(1990, 6, 25, 14, 54, 4, 909378),\n",
       " datetime.datetime(1971, 6, 13, 8, 4, 54, 422779)]"
      ]
     },
     "execution_count": 7,
     "metadata": {},
     "output_type": "execute_result"
    }
   ],
   "source": [
    "d2 = ox.rand_dates(5)\n",
    "d2"
   ]
  },
  {
   "cell_type": "markdown",
   "metadata": {},
   "source": [
    "Subtract elementwise `d1 - d2`"
   ]
  },
  {
   "cell_type": "code",
   "execution_count": 8,
   "metadata": {
    "ExecuteTime": {
     "end_time": "2018-07-17T16:14:47.608888Z",
     "start_time": "2018-07-17T16:14:47.599822Z"
    }
   },
   "outputs": [
    {
     "data": {
      "text/plain": [
       "[-1.8097565316194035,\n",
       " -42.0953202324483,\n",
       " 9.130919868306673,\n",
       " -9.645646385620513,\n",
       " 34.30323689055901]"
      ]
     },
     "execution_count": 8,
     "metadata": {},
     "output_type": "execute_result"
    }
   ],
   "source": [
    "yf = ox.yearfrac_365q(d1, d2)\n",
    "yf"
   ]
  },
  {
   "cell_type": "markdown",
   "metadata": {},
   "source": [
    "Or the other way around"
   ]
  },
  {
   "cell_type": "code",
   "execution_count": 9,
   "metadata": {
    "ExecuteTime": {
     "end_time": "2018-07-17T16:14:47.620691Z",
     "start_time": "2018-07-17T16:14:47.613083Z"
    }
   },
   "outputs": [
    {
     "data": {
      "text/plain": [
       "[1.8097565316194035,\n",
       " 42.0953202324483,\n",
       " -9.130919868306673,\n",
       " 9.645646385620513,\n",
       " -34.30323689055901]"
      ]
     },
     "execution_count": 9,
     "metadata": {},
     "output_type": "execute_result"
    }
   ],
   "source": [
    "yf = ox.yearfrac_365q(d2, d1)\n",
    "yf"
   ]
  }
 ],
 "metadata": {
  "kernelspec": {
   "display_name": "Python 3",
   "language": "python",
   "name": "python3"
  },
  "language_info": {
   "codemirror_mode": {
    "name": "ipython",
    "version": 3
   },
   "file_extension": ".py",
   "mimetype": "text/x-python",
   "name": "python",
   "nbconvert_exporter": "python",
   "pygments_lexer": "ipython3",
   "version": "3.6.2"
  },
  "varInspector": {
   "cols": {
    "lenName": 16,
    "lenType": 16,
    "lenVar": 40
   },
   "kernels_config": {
    "python": {
     "delete_cmd_postfix": "",
     "delete_cmd_prefix": "del ",
     "library": "var_list.py",
     "varRefreshCmd": "print(var_dic_list())"
    },
    "r": {
     "delete_cmd_postfix": ") ",
     "delete_cmd_prefix": "rm(",
     "library": "var_list.r",
     "varRefreshCmd": "cat(var_dic_list()) "
    }
   },
   "types_to_exclude": [
    "module",
    "function",
    "builtin_function_or_method",
    "instance",
    "_Feature"
   ],
   "window_display": false
  }
 },
 "nbformat": 4,
 "nbformat_minor": 2
}
