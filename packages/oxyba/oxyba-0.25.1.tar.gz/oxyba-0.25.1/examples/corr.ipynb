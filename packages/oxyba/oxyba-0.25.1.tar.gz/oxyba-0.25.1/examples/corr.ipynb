{
 "cells": [
  {
   "cell_type": "raw",
   "metadata": {},
   "source": [
    "---\n",
    "title: \"corr\"\n",
    "date: 2018-06-22T19:00:00+02:00\n",
    "draft: false\n",
    "tags: [corr, Pearson, Correlation]\n",
    "---"
   ]
  },
  {
   "cell_type": "code",
   "execution_count": 1,
   "metadata": {
    "ExecuteTime": {
     "end_time": "2018-07-16T15:27:27.026122Z",
     "start_time": "2018-07-16T15:27:27.020417Z"
    }
   },
   "outputs": [],
   "source": [
    "import warnings; warnings.filterwarnings('ignore')"
   ]
  },
  {
   "cell_type": "markdown",
   "metadata": {},
   "source": [
    "### Example 1"
   ]
  },
  {
   "cell_type": "code",
   "execution_count": 2,
   "metadata": {
    "ExecuteTime": {
     "end_time": "2018-07-16T15:27:32.492101Z",
     "start_time": "2018-07-16T15:27:27.032225Z"
    }
   },
   "outputs": [],
   "source": [
    "#load data\n",
    "from ggplot import mtcars\n",
    "x = mtcars[['mpg', 'drat', 'wt', 'qsec']].values"
   ]
  },
  {
   "cell_type": "code",
   "execution_count": 3,
   "metadata": {
    "ExecuteTime": {
     "end_time": "2018-07-16T15:27:32.513484Z",
     "start_time": "2018-07-16T15:27:32.496466Z"
    }
   },
   "outputs": [],
   "source": [
    "import oxyba as ox\n",
    "r,p = ox.corr(x)"
   ]
  },
  {
   "cell_type": "code",
   "execution_count": 4,
   "metadata": {
    "ExecuteTime": {
     "end_time": "2018-07-16T15:27:32.531043Z",
     "start_time": "2018-07-16T15:27:32.518541Z"
    }
   },
   "outputs": [
    {
     "name": "stdout",
     "output_type": "stream",
     "text": [
      "sample correlation\n",
      " [[ 1.     0.681 -0.868  0.419]\n",
      " [ 0.681  1.    -0.712  0.091]\n",
      " [-0.868 -0.712  1.    -0.175]\n",
      " [ 0.419  0.091 -0.175  1.   ]]\n",
      "\n",
      "p-values\n",
      " [[0.    0.    0.    0.017]\n",
      " [0.    0.    0.    0.62 ]\n",
      " [0.    0.    0.    0.339]\n",
      " [0.017 0.62  0.339 0.   ]]\n",
      "\n",
      "substantial corr?\n",
      " [[ True  True  True  True]\n",
      " [ True  True  True False]\n",
      " [ True  True  True False]\n",
      " [ True False False  True]]\n"
     ]
    }
   ],
   "source": [
    "import numpy as np\n",
    "np.set_printoptions(precision=3, suppress=True)\n",
    "print(\"sample correlation\\n\", r)\n",
    "print(\"\\np-values\\n\", p)\n",
    "print(\"\\nsubstantial corr?\\n\", p < 0.05)"
   ]
  }
 ],
 "metadata": {
  "kernelspec": {
   "display_name": "Python 3",
   "language": "python",
   "name": "python3"
  },
  "language_info": {
   "codemirror_mode": {
    "name": "ipython",
    "version": 3
   },
   "file_extension": ".py",
   "mimetype": "text/x-python",
   "name": "python",
   "nbconvert_exporter": "python",
   "pygments_lexer": "ipython3",
   "version": "3.6.2"
  },
  "varInspector": {
   "cols": {
    "lenName": 16,
    "lenType": 16,
    "lenVar": 40
   },
   "kernels_config": {
    "python": {
     "delete_cmd_postfix": "",
     "delete_cmd_prefix": "del ",
     "library": "var_list.py",
     "varRefreshCmd": "print(var_dic_list())"
    },
    "r": {
     "delete_cmd_postfix": ") ",
     "delete_cmd_prefix": "rm(",
     "library": "var_list.r",
     "varRefreshCmd": "cat(var_dic_list()) "
    }
   },
   "types_to_exclude": [
    "module",
    "function",
    "builtin_function_or_method",
    "instance",
    "_Feature"
   ],
   "window_display": false
  }
 },
 "nbformat": 4,
 "nbformat_minor": 2
}
