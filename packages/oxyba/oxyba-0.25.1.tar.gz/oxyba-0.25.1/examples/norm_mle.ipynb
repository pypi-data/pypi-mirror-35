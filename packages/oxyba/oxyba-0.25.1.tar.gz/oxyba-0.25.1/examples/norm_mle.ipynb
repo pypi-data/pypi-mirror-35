{
 "cells": [
  {
   "cell_type": "raw",
   "metadata": {},
   "source": [
    "---\n",
    "title: \"norm_mle\"\n",
    "date: 2018-08-14T11:00:00+02:00\n",
    "draft: false\n",
    "tags: [norm_mle, linreg_ols_lu, linreg_predict]\n",
    "---"
   ]
  },
  {
   "cell_type": "code",
   "execution_count": 1,
   "metadata": {
    "ExecuteTime": {
     "end_time": "2018-08-14T11:54:03.676600Z",
     "start_time": "2018-08-14T11:54:03.230579Z"
    }
   },
   "outputs": [],
   "source": [
    "import warnings; warnings.filterwarnings('ignore')\n",
    "import numpy as np\n",
    "import oxyba as ox\n",
    "from importlib import reload; reload(ox);"
   ]
  },
  {
   "cell_type": "markdown",
   "metadata": {},
   "source": [
    "The random test data with sample size $N=10000$ has a mean of $\\mu=-.05$ and a standard deviation of $\\sigma=.25$.\n",
    "We know this for sure and would compare any estimators' performance against it. "
   ]
  },
  {
   "cell_type": "code",
   "execution_count": 2,
   "metadata": {
    "ExecuteTime": {
     "end_time": "2018-08-14T11:54:03.686263Z",
     "start_time": "2018-08-14T11:54:03.680312Z"
    }
   },
   "outputs": [],
   "source": [
    "mu_ = -0.05\n",
    "sd_ =  0.25\n",
    "N = 10000"
   ]
  },
  {
   "cell_type": "markdown",
   "metadata": {},
   "source": [
    "We use a fixed seed for reproducibility."
   ]
  },
  {
   "cell_type": "code",
   "execution_count": 3,
   "metadata": {
    "ExecuteTime": {
     "end_time": "2018-08-14T11:54:03.701571Z",
     "start_time": "2018-08-14T11:54:03.690941Z"
    }
   },
   "outputs": [],
   "source": [
    "np.random.seed(42)\n",
    "y = np.random.normal(loc=mu_, scale=sd_, size=(N,))"
   ]
  },
  {
   "cell_type": "markdown",
   "metadata": {},
   "source": [
    "The function `norm_mle` minimize the negative log-likelihood function of normal distribution (with estimated $\\hat{\\mu}$ and $\\hat{\\sigma}$ as input arguments) by using the simplex algorithm (scipy `'Nelder-Mead'`)."
   ]
  },
  {
   "cell_type": "code",
   "execution_count": 4,
   "metadata": {
    "ExecuteTime": {
     "end_time": "2018-08-14T11:54:04.979156Z",
     "start_time": "2018-08-14T11:54:03.706071Z"
    }
   },
   "outputs": [
    {
     "name": "stdout",
     "output_type": "stream",
     "text": [
      "[-0.0505  0.2508]\n"
     ]
    }
   ],
   "source": [
    "mu,sd = ox.norm_mle(y)\n",
    "print(np.array([mu,sd]).round(4))"
   ]
  },
  {
   "cell_type": "markdown",
   "metadata": {},
   "source": [
    "The result does not look bad. \n",
    "How does it compare to Linear Regression against the intercept only?"
   ]
  },
  {
   "cell_type": "code",
   "execution_count": 5,
   "metadata": {
    "ExecuteTime": {
     "end_time": "2018-08-14T11:54:05.000061Z",
     "start_time": "2018-08-14T11:54:04.984366Z"
    }
   },
   "outputs": [
    {
     "name": "stdout",
     "output_type": "stream",
     "text": [
      "[-0.0505  0.2509]\n"
     ]
    }
   ],
   "source": [
    "beta = ox.linreg_ols_lu(y=y, X=np.ones((len(y),1)))\n",
    "yhat = ox.linreg_predict(np.ones((len(y),1)), beta)\n",
    "se = np.std(y-yhat)\n",
    "print(np.array([beta[0],se]).round(4))"
   ]
  }
 ],
 "metadata": {
  "kernelspec": {
   "display_name": "Python 3",
   "language": "python",
   "name": "python3"
  },
  "language_info": {
   "codemirror_mode": {
    "name": "ipython",
    "version": 3
   },
   "file_extension": ".py",
   "mimetype": "text/x-python",
   "name": "python",
   "nbconvert_exporter": "python",
   "pygments_lexer": "ipython3",
   "version": "3.6.2"
  },
  "varInspector": {
   "cols": {
    "lenName": 16,
    "lenType": 16,
    "lenVar": 40
   },
   "kernels_config": {
    "python": {
     "delete_cmd_postfix": "",
     "delete_cmd_prefix": "del ",
     "library": "var_list.py",
     "varRefreshCmd": "print(var_dic_list())"
    },
    "r": {
     "delete_cmd_postfix": ") ",
     "delete_cmd_prefix": "rm(",
     "library": "var_list.r",
     "varRefreshCmd": "cat(var_dic_list()) "
    }
   },
   "types_to_exclude": [
    "module",
    "function",
    "builtin_function_or_method",
    "instance",
    "_Feature"
   ],
   "window_display": false
  }
 },
 "nbformat": 4,
 "nbformat_minor": 2
}
