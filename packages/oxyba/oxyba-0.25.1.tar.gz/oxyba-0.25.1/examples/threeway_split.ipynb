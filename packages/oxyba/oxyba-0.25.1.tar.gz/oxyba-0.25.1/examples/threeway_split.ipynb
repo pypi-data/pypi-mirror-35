{
 "cells": [
  {
   "cell_type": "raw",
   "metadata": {},
   "source": [
    "---\n",
    "title: \"threeway_split\"\n",
    "date: 2018-06-27T19:00:00+02:00\n",
    "draft: false\n",
    "tags: [threeway_split, Three Way Split, Data Splitting, Cross Validation]\n",
    "---"
   ]
  },
  {
   "cell_type": "code",
   "execution_count": 1,
   "metadata": {
    "ExecuteTime": {
     "end_time": "2018-07-16T15:31:25.493524Z",
     "start_time": "2018-07-16T15:31:25.480244Z"
    }
   },
   "outputs": [],
   "source": [
    "import warnings; warnings.filterwarnings('ignore')\n",
    "import oxyba as ox"
   ]
  },
  {
   "cell_type": "markdown",
   "metadata": {},
   "source": [
    "### Example 1\n",
    "* one input argument `data`. Thus, only 3 output args\n",
    "* 60/20/20 split with `test_size=0.2`\n",
    "* no random draws, `shuffle=False`"
   ]
  },
  {
   "cell_type": "code",
   "execution_count": 2,
   "metadata": {
    "ExecuteTime": {
     "end_time": "2018-07-16T15:31:25.709223Z",
     "start_time": "2018-07-16T15:31:25.499092Z"
    }
   },
   "outputs": [
    {
     "name": "stdout",
     "output_type": "stream",
     "text": [
      "training set: [[0 1 2 3 4 5]]\n",
      "validation set: [[6 7]]\n",
      "test set: [[8 9]]\n"
     ]
    }
   ],
   "source": [
    "data = list(range(0,10))\n",
    "\n",
    "train, valid, test = ox.threeway_split(\n",
    "    data, test_size=0.2, shuffle=False)\n",
    "\n",
    "print(\"training set:\", train.T)\n",
    "print(\"validation set:\", valid.T)\n",
    "print(\"test set:\", test.T)"
   ]
  },
  {
   "cell_type": "markdown",
   "metadata": {},
   "source": [
    "### Example 2 - Shuffle\n",
    "Same as Example 1\n",
    "\n",
    "* one input argument `data`. Thus, only 3 output args\n",
    "* 60/20/20 split with `test_size=0.2`\n",
    "* random draws, `shuffle=True`\n",
    "\n",
    "Shuffle\n",
    "\n",
    "* intial state externally with `np.random.seed`"
   ]
  },
  {
   "cell_type": "code",
   "execution_count": 3,
   "metadata": {
    "ExecuteTime": {
     "end_time": "2018-07-16T15:31:25.727034Z",
     "start_time": "2018-07-16T15:31:25.713885Z"
    }
   },
   "outputs": [
    {
     "name": "stdout",
     "output_type": "stream",
     "text": [
      "training set: [[5 8 2 9 4 7]]\n",
      "validation set: [[1 0]]\n",
      "test set: [[6 3]]\n"
     ]
    }
   ],
   "source": [
    "import numpy as np\n",
    "np.random.seed(23)\n",
    "\n",
    "data = list(range(0,10))\n",
    "\n",
    "train, valid, test = ox.threeway_split(\n",
    "    data, test_size=0.2, shuffle=True)\n",
    "\n",
    "print(\"training set:\", train.T)\n",
    "print(\"validation set:\", valid.T)\n",
    "print(\"test set:\", test.T)"
   ]
  },
  {
   "cell_type": "markdown",
   "metadata": {},
   "source": [
    "### Example 3 - Shuffle\n",
    "Same as Example 1\n",
    "\n",
    "* one input argument `data`. Thus, only 3 output args\n",
    "* 60/20/20 split with `test_size=0.2`\n",
    "* random draws, `shuffle=True`\n",
    "\n",
    "Shuffle \n",
    "\n",
    "* intial state set internally with `random_state` (should be the same as in Example 2)"
   ]
  },
  {
   "cell_type": "code",
   "execution_count": 4,
   "metadata": {
    "ExecuteTime": {
     "end_time": "2018-07-16T15:31:25.749176Z",
     "start_time": "2018-07-16T15:31:25.734850Z"
    }
   },
   "outputs": [
    {
     "name": "stdout",
     "output_type": "stream",
     "text": [
      "training set: [[5 8 2 9 4 7]]\n",
      "validation set: [[1 0]]\n",
      "test set: [[6 3]]\n"
     ]
    }
   ],
   "source": [
    "data = list(range(0,10))\n",
    "\n",
    "train, valid, test = ox.threeway_split(\n",
    "    data, test_size=0.2, shuffle=True, random_state=23)\n",
    "\n",
    "print(\"training set:\", train.T)\n",
    "print(\"validation set:\", valid.T)\n",
    "print(\"test set:\", test.T)"
   ]
  },
  {
   "cell_type": "markdown",
   "metadata": {},
   "source": [
    "### Example 4 - Array with many variables as 1 input argument\n",
    "Same as Example 1\n",
    "\n",
    "* one input argument `data`. Thus, only 3 output args\n",
    "* 60/20/20 split with `test_size=0.2`\n",
    "* no random draws, `shuffle=False`\n",
    "\n",
    "\n",
    "The `data` variable is an array \n",
    "\n",
    "* with 3 variables (columns) \n",
    "* and 10 observations (rows).\n",
    "\n",
    "Use case\n",
    "\n",
    "* there is no dependent variable `y` (e.g. correlation matrices for different subsets)\n",
    "* not yet decided what variables is `y` (e.g. selection algorithms choose different variables to be `y`)"
   ]
  },
  {
   "cell_type": "code",
   "execution_count": 5,
   "metadata": {
    "ExecuteTime": {
     "end_time": "2018-07-16T15:31:25.780478Z",
     "start_time": "2018-07-16T15:31:25.762672Z"
    }
   },
   "outputs": [
    {
     "name": "stdout",
     "output_type": "stream",
     "text": [
      "training set:\n",
      " [[ 0 10 20]\n",
      " [ 1 11 21]\n",
      " [ 2 12 22]\n",
      " [ 3 13 23]\n",
      " [ 4 14 24]\n",
      " [ 5 15 25]]\n",
      "validation set:\n",
      " [[ 6 16 26]\n",
      " [ 7 17 27]]\n",
      "test set:\n",
      " [[ 8 18 28]\n",
      " [ 9 19 29]]\n"
     ]
    }
   ],
   "source": [
    "data = np.arange(30).reshape(3,10).T\n",
    "\n",
    "train, valid, test = ox.threeway_split(\n",
    "    data, test_size=0.2, shuffle=False)\n",
    "\n",
    "print(\"training set:\\n\", train)\n",
    "print(\"validation set:\\n\", valid)\n",
    "print(\"test set:\\n\", test)"
   ]
  },
  {
   "cell_type": "markdown",
   "metadata": {},
   "source": [
    "### Example 5 - Two input argument\n",
    "* two input arguments `x` and `y`. Thus, only 6 output args\n",
    "* 60/20/20 split with `test_size=0.2`\n",
    "* no random draws, `shuffle=False`"
   ]
  },
  {
   "cell_type": "code",
   "execution_count": 6,
   "metadata": {
    "ExecuteTime": {
     "end_time": "2018-07-16T15:31:25.810936Z",
     "start_time": "2018-07-16T15:31:25.785604Z"
    },
    "scrolled": true
   },
   "outputs": [
    {
     "name": "stdout",
     "output_type": "stream",
     "text": [
      "y training set: [[0 1 2 3 4 5]]\n",
      "y validation set: [[6 7]]\n",
      "y test set: [[8 9]]\n",
      "\n",
      "x training set:\n",
      " [[10 20]\n",
      " [11 21]\n",
      " [12 22]\n",
      " [13 23]\n",
      " [14 24]\n",
      " [15 25]]\n",
      "x validation set:\n",
      " [[16 26]\n",
      " [17 27]]\n",
      "x test set:\n",
      " [[18 28]\n",
      " [19 29]]\n"
     ]
    }
   ],
   "source": [
    "data = np.arange(30).reshape(3,10).T\n",
    "\n",
    "y = data[:,0]\n",
    "x = data[:,1:]\n",
    "\n",
    "x_train, x_valid, x_test, y_train, y_valid, y_test = ox.threeway_split(\n",
    "    x, y, test_size=0.2, shuffle=False)\n",
    "\n",
    "print(\"y training set:\", y_train.T)\n",
    "print(\"y validation set:\", y_valid.T)\n",
    "print(\"y test set:\", y_test.T)\n",
    "\n",
    "print(\"\\nx training set:\\n\", x_train)\n",
    "print(\"x validation set:\\n\", x_valid)\n",
    "print(\"x test set:\\n\", x_test)"
   ]
  },
  {
   "cell_type": "markdown",
   "metadata": {},
   "source": [
    "### Example 6\n",
    "Default usages\n",
    "\n",
    "* 60/20/20 split, `test_size=0.2`\n",
    "* random draws, `shuffle=True`\n",
    "* initial seed is **not** set, `random_state=None`\n",
    "\n",
    "\n",
    "This is most similar how `train_test_split` but with 6 output arguments"
   ]
  },
  {
   "cell_type": "code",
   "execution_count": 7,
   "metadata": {
    "ExecuteTime": {
     "end_time": "2018-07-16T15:31:25.828143Z",
     "start_time": "2018-07-16T15:31:25.815651Z"
    }
   },
   "outputs": [
    {
     "name": "stdout",
     "output_type": "stream",
     "text": [
      "y training set: [[0 7 8 2 1 4]]\n",
      "y validation set: [[5 9]]\n",
      "y test set: [[6 3]]\n",
      "\n",
      "x training set:\n",
      " [[10 20]\n",
      " [17 27]\n",
      " [18 28]\n",
      " [12 22]\n",
      " [11 21]\n",
      " [14 24]]\n",
      "x validation set:\n",
      " [[15 25]\n",
      " [19 29]]\n",
      "x test set:\n",
      " [[16 26]\n",
      " [13 23]]\n"
     ]
    }
   ],
   "source": [
    "data = np.arange(30).reshape(3,10).T\n",
    "\n",
    "y = data[:,0]\n",
    "x = data[:,1:]\n",
    "\n",
    "x_train, x_valid, x_test, y_train, y_valid, y_test = ox.threeway_split(x, y)\n",
    "\n",
    "print(\"y training set:\", y_train.T)\n",
    "print(\"y validation set:\", y_valid.T)\n",
    "print(\"y test set:\", y_test.T)\n",
    "\n",
    "print(\"\\nx training set:\\n\", x_train)\n",
    "print(\"x validation set:\\n\", x_valid)\n",
    "print(\"x test set:\\n\", x_test)"
   ]
  }
 ],
 "metadata": {
  "kernelspec": {
   "display_name": "Python 3",
   "language": "python",
   "name": "python3"
  },
  "language_info": {
   "codemirror_mode": {
    "name": "ipython",
    "version": 3
   },
   "file_extension": ".py",
   "mimetype": "text/x-python",
   "name": "python",
   "nbconvert_exporter": "python",
   "pygments_lexer": "ipython3",
   "version": "3.6.2"
  },
  "varInspector": {
   "cols": {
    "lenName": 16,
    "lenType": 16,
    "lenVar": 40
   },
   "kernels_config": {
    "python": {
     "delete_cmd_postfix": "",
     "delete_cmd_prefix": "del ",
     "library": "var_list.py",
     "varRefreshCmd": "print(var_dic_list())"
    },
    "r": {
     "delete_cmd_postfix": ") ",
     "delete_cmd_prefix": "rm(",
     "library": "var_list.r",
     "varRefreshCmd": "cat(var_dic_list()) "
    }
   },
   "types_to_exclude": [
    "module",
    "function",
    "builtin_function_or_method",
    "instance",
    "_Feature"
   ],
   "window_display": false
  }
 },
 "nbformat": 4,
 "nbformat_minor": 2
}
