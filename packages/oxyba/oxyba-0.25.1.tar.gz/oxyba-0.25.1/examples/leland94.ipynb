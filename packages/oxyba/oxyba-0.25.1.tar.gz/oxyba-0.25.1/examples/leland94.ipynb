{
 "cells": [
  {
   "cell_type": "raw",
   "metadata": {},
   "source": [
    "---\n",
    "title: \"leland94\"\n",
    "date: 2018-07-27T15:00:00+02:00\n",
    "draft: false\n",
    "tags: [leland94, corporate debt, capital structure, debt valuation]\n",
    "---"
   ]
  },
  {
   "cell_type": "code",
   "execution_count": 1,
   "metadata": {
    "ExecuteTime": {
     "end_time": "2018-07-27T13:30:23.604007Z",
     "start_time": "2018-07-27T13:30:23.303814Z"
    }
   },
   "outputs": [],
   "source": [
    "import warnings; warnings.filterwarnings('ignore')\n",
    "\n",
    "import numpy as np\n",
    "import oxyba as ox\n",
    "from importlib import reload; reload(ox);"
   ]
  },
  {
   "cell_type": "markdown",
   "metadata": {},
   "source": [
    "### Endogenous Bankruptcy, Unprotected Debt"
   ]
  },
  {
   "cell_type": "code",
   "execution_count": 2,
   "metadata": {
    "ExecuteTime": {
     "end_time": "2018-07-27T13:30:23.621033Z",
     "start_time": "2018-07-27T13:30:23.608828Z"
    }
   },
   "outputs": [],
   "source": [
    "V=100       #asset value of unlevered firm\n",
    "s=0.20      #volatility of unlevered firm\n",
    "r=0.06      #riskfree rate\n",
    "a=0.50      #bankruptcy costs\n",
    "t=0.35      #corp tax rate\n",
    "C=5.00      #exogenous bankruptcy\n",
    "d=None      #100% retained profits\n",
    "PosEq=False #unprotected"
   ]
  },
  {
   "cell_type": "code",
   "execution_count": 3,
   "metadata": {
    "ExecuteTime": {
     "end_time": "2018-07-27T13:30:23.636929Z",
     "start_time": "2018-07-27T13:30:23.631389Z"
    }
   },
   "outputs": [],
   "source": [
    "D,E,W,T,B,VB,PV,lr,yld,sprd,X,C2,A = ox.leland94(V,s,r,a,t,C,d,PosEq)"
   ]
  },
  {
   "cell_type": "code",
   "execution_count": 4,
   "metadata": {
    "ExecuteTime": {
     "end_time": "2018-07-27T13:30:23.669562Z",
     "start_time": "2018-07-27T13:30:23.648352Z"
    }
   },
   "outputs": [
    {
     "name": "stdout",
     "output_type": "stream",
     "text": [
      "Input Parameters:\n",
      "       (unlevered) Asset Value:   100.00$\n",
      "                    Volatility:     0.20 \n",
      "                Risk free rate:     6.00%\n",
      "               Bankruptcy cost:    50.00%\n",
      "                Corp. Tax Rate:    35.00%\n",
      "            (exogenous) Coupon:     5.00$\n",
      "                 Debt Covenant: unprotected\n",
      "\n",
      "Results:\n",
      "                    Debt Value:    79.11$\n",
      "                  Equity Value:    46.74$\n",
      "          (levered) Firm Value:   125.85$\n",
      "                   Tax Benefit:    27.21$\n",
      "              Bankruptcy Costs:     1.36$\n",
      "          Bankruptcy Threshold:    40.62$\n",
      "        PV of $1 if Bankruptcy:     0.07$\n",
      "\n",
      "Metrics:\n",
      "                Leverage Ratio:     0.63\n",
      "                 Yield on Debt:     6.32%\n",
      "                  Yield Spread:    32.05bps\n",
      "\n",
      "Intermediate Results:\n",
      "               Net Cash Payout:     3.00$\n",
      "                 Annuity Value:    83.33$\n"
     ]
    }
   ],
   "source": [
    "ox.leland94_print(V,s,r,a,t,C,d,PosEq, D,E,W,T,B,VB,PV,lr,yld,sprd,X,C2,A)"
   ]
  },
  {
   "cell_type": "markdown",
   "metadata": {},
   "source": [
    "### Endogenous Bankruptcy, Unprotected Debt"
   ]
  },
  {
   "cell_type": "code",
   "execution_count": 5,
   "metadata": {
    "ExecuteTime": {
     "end_time": "2018-07-27T13:30:23.684083Z",
     "start_time": "2018-07-27T13:30:23.677059Z"
    }
   },
   "outputs": [],
   "source": [
    "V=100       #asset value of unlevered firm\n",
    "s=0.20      #volatility of unlevered firm\n",
    "r=0.06      #riskfree rate\n",
    "a=0.50      #bankruptcy costs\n",
    "t=0.35      #corp tax rate\n",
    "C=None      #endogenous bankruptcy case\n",
    "d=None      #100% retained profits\n",
    "PosEq=False #unprotected"
   ]
  },
  {
   "cell_type": "code",
   "execution_count": 6,
   "metadata": {
    "ExecuteTime": {
     "end_time": "2018-07-27T13:30:23.700737Z",
     "start_time": "2018-07-27T13:30:23.690042Z"
    }
   },
   "outputs": [],
   "source": [
    "D,E,W,T,B,VB,PV,lr,yld,sprd,X,C2,A = ox.leland94(V,s,r,a,t,C,d,PosEq)"
   ]
  },
  {
   "cell_type": "code",
   "execution_count": 7,
   "metadata": {
    "ExecuteTime": {
     "end_time": "2018-07-27T13:30:23.751039Z",
     "start_time": "2018-07-27T13:30:23.724833Z"
    }
   },
   "outputs": [
    {
     "name": "stdout",
     "output_type": "stream",
     "text": [
      "Input Parameters:\n",
      "       (unlevered) Asset Value:   100.00$\n",
      "                    Volatility:     0.20 \n",
      "                Risk free rate:     6.00%\n",
      "               Bankruptcy cost:    50.00%\n",
      "                Corp. Tax Rate:    35.00%\n",
      "                 Debt Covenant: unprotected\n",
      "\n",
      "Results:\n",
      "                    Debt Value:    96.27$\n",
      "                  Equity Value:    32.17$\n",
      "          (levered) Firm Value:   128.44$\n",
      "                   Tax Benefit:    32.33$\n",
      "              Bankruptcy Costs:     3.89$\n",
      "          Bankruptcy Threshold:    52.82$\n",
      "        PV of $1 if Bankruptcy:     0.15$\n",
      "\n",
      "Metrics:\n",
      "                Leverage Ratio:     0.75\n",
      "                 Yield on Debt:     6.75%\n",
      "                  Yield Spread:    75.26bps\n",
      "\n",
      "Intermediate Results:\n",
      "               Net Cash Payout:     3.00$\n",
      "           (endogenous) Coupon:     6.50$\n",
      "                 Annuity Value:   108.35$\n"
     ]
    }
   ],
   "source": [
    "ox.leland94_print(V,s,r,a,t,C,d,PosEq, D,E,W,T,B,VB,PV,lr,yld,sprd,X,C2,A)"
   ]
  },
  {
   "cell_type": "markdown",
   "metadata": {},
   "source": [
    "### Endogenous Bankruptcy, Protected Debt"
   ]
  },
  {
   "cell_type": "code",
   "execution_count": 8,
   "metadata": {
    "ExecuteTime": {
     "end_time": "2018-07-27T13:30:23.778309Z",
     "start_time": "2018-07-27T13:30:23.765443Z"
    }
   },
   "outputs": [],
   "source": [
    "V=100       #asset value of unlevered firm\n",
    "s=0.20      #volatility of unlevered firm\n",
    "r=0.06      #riskfree rate\n",
    "a=0.50      #bankruptcy costs\n",
    "t=0.35      #corp tax rate\n",
    "C=5.00      #exogenous bankruptcy case\n",
    "d=None      #100% retained profits\n",
    "PosEq=True  #Protected"
   ]
  },
  {
   "cell_type": "code",
   "execution_count": 9,
   "metadata": {
    "ExecuteTime": {
     "end_time": "2018-07-27T13:30:24.293701Z",
     "start_time": "2018-07-27T13:30:23.782805Z"
    }
   },
   "outputs": [],
   "source": [
    "D,E,W,T,B,VB,PV,lr,yld,sprd,X,C2,A = ox.leland94(V,s,r,a,t,C,d,PosEq)"
   ]
  },
  {
   "cell_type": "code",
   "execution_count": 10,
   "metadata": {
    "ExecuteTime": {
     "end_time": "2018-07-27T13:30:24.317230Z",
     "start_time": "2018-07-27T13:30:24.298220Z"
    }
   },
   "outputs": [
    {
     "name": "stdout",
     "output_type": "stream",
     "text": [
      "Input Parameters:\n",
      "       (unlevered) Asset Value:   100.00$\n",
      "                    Volatility:     0.20 \n",
      "                Risk free rate:     6.00%\n",
      "               Bankruptcy cost:    50.00%\n",
      "                Corp. Tax Rate:    35.00%\n",
      "            (exogenous) Coupon:     5.00$\n",
      "                 Debt Covenant: protected\n",
      "\n",
      "Results:\n",
      "                    Debt Value:    67.88$\n",
      "                  Equity Value:    41.54$\n",
      "          (levered) Firm Value:   109.43$\n",
      "                   Tax Benefit:    20.04$\n",
      "              Bankruptcy Costs:    10.62$\n",
      "          Bankruptcy Threshold:    67.88$\n",
      "        PV of $1 if Bankruptcy:     0.31$\n",
      "\n",
      "Metrics:\n",
      "                Leverage Ratio:     0.62\n",
      "                 Yield on Debt:     7.37%\n",
      "                  Yield Spread:   136.56bps\n",
      "\n",
      "Intermediate Results:\n",
      "               Net Cash Payout:     3.00$\n",
      "                 Annuity Value:    83.33$\n"
     ]
    }
   ],
   "source": [
    "ox.leland94_print(V,s,r,a,t,C,d,PosEq, D,E,W,T,B,VB,PV,lr,yld,sprd,X,C2,A)"
   ]
  }
 ],
 "metadata": {
  "kernelspec": {
   "display_name": "Python 3",
   "language": "python",
   "name": "python3"
  },
  "language_info": {
   "codemirror_mode": {
    "name": "ipython",
    "version": 3
   },
   "file_extension": ".py",
   "mimetype": "text/x-python",
   "name": "python",
   "nbconvert_exporter": "python",
   "pygments_lexer": "ipython3",
   "version": "3.6.2"
  },
  "varInspector": {
   "cols": {
    "lenName": 16,
    "lenType": 16,
    "lenVar": 40
   },
   "kernels_config": {
    "python": {
     "delete_cmd_postfix": "",
     "delete_cmd_prefix": "del ",
     "library": "var_list.py",
     "varRefreshCmd": "print(var_dic_list())"
    },
    "r": {
     "delete_cmd_postfix": ") ",
     "delete_cmd_prefix": "rm(",
     "library": "var_list.r",
     "varRefreshCmd": "cat(var_dic_list()) "
    }
   },
   "types_to_exclude": [
    "module",
    "function",
    "builtin_function_or_method",
    "instance",
    "_Feature"
   ],
   "window_display": false
  }
 },
 "nbformat": 4,
 "nbformat_minor": 2
}
