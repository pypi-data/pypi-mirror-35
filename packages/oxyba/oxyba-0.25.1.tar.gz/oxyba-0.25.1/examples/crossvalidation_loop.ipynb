{
 "cells": [
  {
   "cell_type": "raw",
   "metadata": {},
   "source": [
    "---\n",
    "title: \"crossvalidation_loop\"\n",
    "date: 2018-08-04T19:00:00+02:00\n",
    "draft: false\n",
    "tags: [crossvalidation_loop, crossvalidation_stats, Cross Validation, Jackknife, jackknife_loop, jackknife_stats, jackknife_print, linreg_ols_lu, linreg_rmse]\n",
    "---"
   ]
  },
  {
   "cell_type": "code",
   "execution_count": 1,
   "metadata": {
    "ExecuteTime": {
     "end_time": "2018-08-04T18:32:55.911592Z",
     "start_time": "2018-08-04T18:32:55.744648Z"
    }
   },
   "outputs": [],
   "source": [
    "import warnings; warnings.filterwarnings('ignore')\n",
    "import numpy as np\n",
    "import oxyba as ox\n",
    "from importlib import reload; reload(ox);"
   ]
  },
  {
   "cell_type": "markdown",
   "metadata": {},
   "source": [
    "We will check if a Linear Regression model outperform the baseline model in terms of crossvalidation results."
   ]
  },
  {
   "cell_type": "markdown",
   "metadata": {},
   "source": [
    "### Create Wrapper Functions for the Model/Algorithm\n",
    "The `oxyba.crossvalidation_loop` function requires a fit/estimation function that returns coefficients, and an evaluation function that returns some fitness score. \n",
    "\n",
    "In `myfit` the Linear Regression model based on LU decomposition `oxyba.linreg_ols_lu` is wrapped."
   ]
  },
  {
   "cell_type": "code",
   "execution_count": 2,
   "metadata": {
    "ExecuteTime": {
     "end_time": "2018-08-04T18:32:55.923682Z",
     "start_time": "2018-08-04T18:32:55.916805Z"
    }
   },
   "outputs": [],
   "source": [
    "def myfit(data):\n",
    "    import oxyba as ox\n",
    "    return ox.linreg_ols_lu(data[:,0], data[:,1:]);"
   ]
  },
  {
   "cell_type": "markdown",
   "metadata": {},
   "source": [
    "The `myeval` wraps the RMSE calculation for Linear Regressions `oxyba.linreg_rmse`."
   ]
  },
  {
   "cell_type": "code",
   "execution_count": 3,
   "metadata": {
    "ExecuteTime": {
     "end_time": "2018-08-04T18:32:55.939464Z",
     "start_time": "2018-08-04T18:32:55.929998Z"
    }
   },
   "outputs": [],
   "source": [
    "def myeval(data, coeffs):\n",
    "    import oxyba as ox\n",
    "    return ox.linreg_rmse(data[:,0], data[:,1:], coeffs);"
   ]
  },
  {
   "cell_type": "markdown",
   "metadata": {},
   "source": [
    "### Load the Demo dataset\n",
    "As usual the Boston demo dataset is used. \n",
    "\n",
    "The Linear Regression Model doe snot use an intercept and is specified as\n",
    "\n",
    "$$\n",
    "y = \\beta_1 x_{RM} + \\beta_2 x_{LSTAT} + \\epsilon\n",
    "$$\n"
   ]
  },
  {
   "cell_type": "code",
   "execution_count": 4,
   "metadata": {
    "ExecuteTime": {
     "end_time": "2018-08-04T18:32:56.621505Z",
     "start_time": "2018-08-04T18:32:55.943994Z"
    }
   },
   "outputs": [],
   "source": [
    "from sklearn.datasets import load_boston\n",
    "tmp = load_boston()\n",
    "y = tmp.target\n",
    "varnames = tmp.feature_names[[5,12]]\n",
    "X = np.c_[tmp.data[:,[5,12]] ];"
   ]
  },
  {
   "cell_type": "markdown",
   "metadata": {},
   "source": [
    "20% of the dataset is reserved for testing lateron"
   ]
  },
  {
   "cell_type": "code",
   "execution_count": 5,
   "metadata": {
    "ExecuteTime": {
     "end_time": "2018-08-04T18:32:56.657111Z",
     "start_time": "2018-08-04T18:32:56.625939Z"
    }
   },
   "outputs": [
    {
     "name": "stdout",
     "output_type": "stream",
     "text": [
      "Number of observations in the training set: 404\n"
     ]
    }
   ],
   "source": [
    "from sklearn.model_selection import train_test_split\n",
    "X_train, X_test, y_train, y_test = train_test_split(X,y,test_size=0.2, shuffle=False)\n",
    "N=len(y_train)\n",
    "print('Number of observations in the training set: {:d}'.format(N))"
   ]
  },
  {
   "cell_type": "markdown",
   "metadata": {
    "ExecuteTime": {
     "end_time": "2018-08-04T16:46:57.647904Z",
     "start_time": "2018-08-04T16:46:57.641504Z"
    }
   },
   "source": [
    "### Number of CV Blocks\n",
    "Cross-validation is often conducted with `K=10` or `K=5` number of blocks. \n",
    "However, running a t-Test by comparing just 5 or 10 CV errors, it is statistically not really the right thing to do. \n",
    "In order to run a proper t-Test lateron the number of blcoks should be `K=30`.\n",
    "However, out training set has just `N=404` observations, what would result in just `int(N/K)=13` observations to compute the fitess score with a validation block.\n",
    "\n",
    "With `N=404` a trade-off could be `K=20` what implies a block size of `20`. \n",
    "However, this notebook is also about demonstrating the t-Test."
   ]
  },
  {
   "cell_type": "code",
   "execution_count": 6,
   "metadata": {
    "ExecuteTime": {
     "end_time": "2018-08-04T18:32:56.666894Z",
     "start_time": "2018-08-04T18:32:56.662005Z"
    }
   },
   "outputs": [],
   "source": [
    "K=30"
   ]
  },
  {
   "cell_type": "markdown",
   "metadata": {},
   "source": [
    "### The Linear Regression Model\n",
    "We put the target variable `y` and design matrix `X` into the array `data`."
   ]
  },
  {
   "cell_type": "code",
   "execution_count": 7,
   "metadata": {
    "ExecuteTime": {
     "end_time": "2018-08-04T18:32:56.677422Z",
     "start_time": "2018-08-04T18:32:56.671927Z"
    }
   },
   "outputs": [],
   "source": [
    "data = np.c_[y_train, X_train]"
   ]
  },
  {
   "cell_type": "markdown",
   "metadata": {},
   "source": [
    "First, run a Jackknife Test and check if the p-values of the estimated coefficients are significant.\n",
    "And yes they are."
   ]
  },
  {
   "cell_type": "code",
   "execution_count": 8,
   "metadata": {
    "ExecuteTime": {
     "end_time": "2018-08-04T18:32:56.767891Z",
     "start_time": "2018-08-04T18:32:56.682059Z"
    }
   },
   "outputs": [
    {
     "name": "stdout",
     "output_type": "stream",
     "text": [
      "\n",
      "Delete-1 Jackknife\n",
      "                                   Var0       Var1    \n",
      "                      p-Values:    0.00000    0.00000 \n",
      "                      t-Scores:   49.96298   -12.80183 \n",
      " Jackknife Standard Error (SE):    0.09926    0.04928 \n",
      "   Jackknife Estimates (theta):    4.959     -0.631   \n"
     ]
    }
   ],
   "source": [
    "coeff_subs, coeff_full = ox.jackknife_loop(myfit, data, d=1);\n",
    "jk_pval, jk_tstat, jk_coeff, jk_se, _ = ox.jackknife_stats(coeff_subs, coeff_full, d=1)\n",
    "ox.jackknife_print(jk_pval, jk_tstat, jk_coeff, jk_se, d=1)"
   ]
  },
  {
   "cell_type": "markdown",
   "metadata": {},
   "source": [
    "Second, run the cross-validation procedure. "
   ]
  },
  {
   "cell_type": "code",
   "execution_count": 9,
   "metadata": {
    "ExecuteTime": {
     "end_time": "2018-08-04T18:32:56.792919Z",
     "start_time": "2018-08-04T18:32:56.773700Z"
    }
   },
   "outputs": [
    {
     "name": "stdout",
     "output_type": "stream",
     "text": [
      "CV error of the baseline model: 5.2147\n",
      "                    CV std dev: 1.6908\n"
     ]
    }
   ],
   "source": [
    "errors1, coeffs1, idxmat = ox.crossvalidation_loop(\n",
    "    myfit, myeval, data, K=K, random_state=42)\n",
    "\n",
    "print('{2:>30s}: {0:.4f}\\n{3:>30s}: {1:.4f}'.format(\n",
    "    *ox.crossvalidation_error(errors1), \n",
    "    'CV error of the baseline model', \n",
    "    'CV std dev'))"
   ]
  },
  {
   "cell_type": "markdown",
   "metadata": {
    "ExecuteTime": {
     "end_time": "2018-08-04T14:39:05.309413Z",
     "start_time": "2018-08-04T14:39:05.301850Z"
    }
   },
   "source": [
    "One cross-validation result is worth nothing if it is not compared to another model, e.g. the model with different hyperparmeters, another model class, or a baseline model. \n",
    "A baseline model is some simple naive prediction. \n",
    "\n",
    "### The Baseline Model\n",
    "In our case, the baseline model is the mean\n",
    "\n",
    "$$\n",
    "y = \\mu + \\epsilon\n",
    "$$\n",
    "\n",
    "The `data` variable contain the target variable `y` and the intercept term as `x`."
   ]
  },
  {
   "cell_type": "code",
   "execution_count": 10,
   "metadata": {
    "ExecuteTime": {
     "end_time": "2018-08-04T18:32:56.807380Z",
     "start_time": "2018-08-04T18:32:56.796622Z"
    }
   },
   "outputs": [],
   "source": [
    "data = np.c_[y_train, np.ones(shape=(N,1))]"
   ]
  },
  {
   "cell_type": "markdown",
   "metadata": {},
   "source": [
    "First, let's check the Jackknife Estimation on the training set. The mean $\\mu$ turns out to be an eligible predictor of the target variable (Check the JK p-value below)."
   ]
  },
  {
   "cell_type": "code",
   "execution_count": 11,
   "metadata": {
    "ExecuteTime": {
     "end_time": "2018-08-04T18:32:56.902504Z",
     "start_time": "2018-08-04T18:32:56.813461Z"
    }
   },
   "outputs": [
    {
     "name": "stdout",
     "output_type": "stream",
     "text": [
      "\n",
      "Delete-1 Jackknife\n",
      "                                   Var0    \n",
      "                      p-Values:    0.00000 \n",
      "                      t-Scores:   52.47001 \n",
      " Jackknife Standard Error (SE):    0.46075 \n",
      "   Jackknife Estimates (theta):   24.176   \n"
     ]
    }
   ],
   "source": [
    "coeff_subs, coeff_full = ox.jackknife_loop(myfit, data, d=1);\n",
    "jk_pval, jk_tstat, jk_coeff, jk_se, _ = ox.jackknife_stats(coeff_subs, coeff_full, d=1)\n",
    "ox.jackknife_print(jk_pval, jk_tstat, jk_coeff, jk_se, d=1)"
   ]
  },
  {
   "cell_type": "markdown",
   "metadata": {},
   "source": [
    "Second, conduct the cross-validation procedure. We will use exactly the same reshuffled blocks `idxmat` that have been used above."
   ]
  },
  {
   "cell_type": "code",
   "execution_count": 12,
   "metadata": {
    "ExecuteTime": {
     "end_time": "2018-08-04T18:32:56.924945Z",
     "start_time": "2018-08-04T18:32:56.908762Z"
    }
   },
   "outputs": [
    {
     "name": "stdout",
     "output_type": "stream",
     "text": [
      "CV error of the baseline model: 8.9902\n",
      "                    CV std dev: 2.1711\n"
     ]
    }
   ],
   "source": [
    "errors2, coeffs2, _ = ox.crossvalidation_loop(\n",
    "    myfit, myeval, data, idxmat=idxmat)\n",
    "\n",
    "print('{2:>30s}: {0:.4f}\\n{3:>30s}: {1:.4f}'.format(\n",
    "    *ox.crossvalidation_error(errors2), \n",
    "    'CV error of the baseline model', \n",
    "    'CV std dev'))"
   ]
  },
  {
   "cell_type": "markdown",
   "metadata": {},
   "source": [
    "Just by eyeballing, we might conclude that the Linear Regression model is better than its Baseline model.\n",
    "However, the CV error difference might not always very big and thus wrong conclusions not very far away."
   ]
  },
  {
   "cell_type": "markdown",
   "metadata": {},
   "source": [
    "### Is the difference significant?\n",
    "Depending on your own threshold you might accept or reject the model.\n",
    "(In Social Science `p < 0.05` would be close enough to Zero)"
   ]
  },
  {
   "cell_type": "code",
   "execution_count": 13,
   "metadata": {
    "ExecuteTime": {
     "end_time": "2018-08-04T18:32:56.942496Z",
     "start_time": "2018-08-04T18:32:56.929364Z"
    }
   },
   "outputs": [
    {
     "name": "stdout",
     "output_type": "stream",
     "text": [
      "P-Value of CV error differences: 0.0309\n"
     ]
    }
   ],
   "source": [
    "pvalue, tscore, se, mu = ox.crossvalidation_stats(errors1, errors2)\n",
    "print('P-Value of CV error differences: {:.4f}'.format(pvalue))"
   ]
  }
 ],
 "metadata": {
  "kernelspec": {
   "display_name": "Python 3",
   "language": "python",
   "name": "python3"
  },
  "language_info": {
   "codemirror_mode": {
    "name": "ipython",
    "version": 3
   },
   "file_extension": ".py",
   "mimetype": "text/x-python",
   "name": "python",
   "nbconvert_exporter": "python",
   "pygments_lexer": "ipython3",
   "version": "3.6.2"
  },
  "varInspector": {
   "cols": {
    "lenName": 16,
    "lenType": 16,
    "lenVar": 40
   },
   "kernels_config": {
    "python": {
     "delete_cmd_postfix": "",
     "delete_cmd_prefix": "del ",
     "library": "var_list.py",
     "varRefreshCmd": "print(var_dic_list())"
    },
    "r": {
     "delete_cmd_postfix": ") ",
     "delete_cmd_prefix": "rm(",
     "library": "var_list.r",
     "varRefreshCmd": "cat(var_dic_list()) "
    }
   },
   "types_to_exclude": [
    "module",
    "function",
    "builtin_function_or_method",
    "instance",
    "_Feature"
   ],
   "window_display": false
  }
 },
 "nbformat": 4,
 "nbformat_minor": 2
}
