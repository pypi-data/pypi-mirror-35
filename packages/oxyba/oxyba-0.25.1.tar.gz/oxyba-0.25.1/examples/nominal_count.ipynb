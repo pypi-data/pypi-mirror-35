{
 "cells": [
  {
   "cell_type": "raw",
   "metadata": {},
   "source": [
    "---\n",
    "title: \"nominal_count\"\n",
    "date: 2018-07-12T19:00:00+02:00\n",
    "draft: false\n",
    "tags: [nominal_count, nominal_mode, Nominal Scale, Count, Mode]\n",
    "---"
   ]
  },
  {
   "cell_type": "code",
   "execution_count": 1,
   "metadata": {
    "ExecuteTime": {
     "end_time": "2018-07-16T15:32:03.525072Z",
     "start_time": "2018-07-16T15:32:03.511924Z"
    }
   },
   "outputs": [],
   "source": [
    "import warnings; warnings.filterwarnings('ignore')"
   ]
  },
  {
   "cell_type": "markdown",
   "metadata": {},
   "source": [
    "### Create single Nominal Variable from a blog article\n",
    "The text was copied from [this spielverlagerung.de article](https://spielverlagerung.com/2018/06/26/how-to-messi/)."
   ]
  },
  {
   "cell_type": "code",
   "execution_count": 2,
   "metadata": {
    "ExecuteTime": {
     "end_time": "2018-07-16T15:32:04.336047Z",
     "start_time": "2018-07-16T15:32:03.531835Z"
    }
   },
   "outputs": [],
   "source": [
    "import re\n",
    "from bs4 import BeautifulSoup\n",
    "import requests\n",
    "\n",
    "#download article\n",
    "req = requests.get('https://spielverlagerung.com/2018/06/26/how-to-messi/')\n",
    "soup = BeautifulSoup((req.content), 'lxml')\n",
    "\n",
    "#extract the article content\n",
    "#print(soup.prettify())\n",
    "articlecontent = soup.select('article p')"
   ]
  },
  {
   "cell_type": "code",
   "execution_count": 3,
   "metadata": {
    "ExecuteTime": {
     "end_time": "2018-07-16T15:32:04.351457Z",
     "start_time": "2018-07-16T15:32:04.340251Z"
    }
   },
   "outputs": [],
   "source": [
    "#loop over each <p> tag, get the inner HTML text, manipulate string, split into list, append to list y\n",
    "y = []\n",
    "for p in articlecontent:\n",
    "    txt = p.get_text().lower()\n",
    "    txt = re.sub('[^0-9a-z]+', ' ', txt)\n",
    "    y = y + txt.split(' ')\n"
   ]
  },
  {
   "cell_type": "code",
   "execution_count": 4,
   "metadata": {
    "ExecuteTime": {
     "end_time": "2018-07-16T15:32:04.363546Z",
     "start_time": "2018-07-16T15:32:04.356106Z"
    }
   },
   "outputs": [],
   "source": [
    "# clean my nominal variable\n",
    "minwordlength = 5\n",
    "y = [word for word in y if len(word)>=minwordlength]"
   ]
  },
  {
   "cell_type": "markdown",
   "metadata": {},
   "source": [
    "### Count occurence of each label\n"
   ]
  },
  {
   "cell_type": "code",
   "execution_count": 5,
   "metadata": {
    "ExecuteTime": {
     "end_time": "2018-07-16T15:32:04.378749Z",
     "start_time": "2018-07-16T15:32:04.367554Z"
    }
   },
   "outputs": [],
   "source": [
    "import oxyba as ox"
   ]
  },
  {
   "cell_type": "code",
   "execution_count": 6,
   "metadata": {
    "ExecuteTime": {
     "end_time": "2018-07-16T15:32:04.520914Z",
     "start_time": "2018-07-16T15:32:04.382357Z"
    }
   },
   "outputs": [
    {
     "data": {
      "text/plain": [
       "array([['81', 'messi'],\n",
       "       ['27', 'right'],\n",
       "       ['25', 'space'],\n",
       "       ['24', 'opponent'],\n",
       "       ['19', 'position'],\n",
       "       ['18', 'would'],\n",
       "       ['15', 'because'],\n",
       "       ['15', 'there'],\n",
       "       ['15', 'options'],\n",
       "       ['12', 'defender'],\n",
       "       ['12', 'important'],\n",
       "       ['12', 'could'],\n",
       "       ['11', 'against'],\n",
       "       ['11', 'striker'],\n",
       "       ['11', 'players'],\n",
       "       ['9', 'other'],\n",
       "       ['9', 'forward'],\n",
       "       ['9', 'which'],\n",
       "       ['9', 'usually'],\n",
       "       ['9', 'player']], dtype='<U21')"
      ]
     },
     "execution_count": 6,
     "metadata": {},
     "output_type": "execute_result"
    }
   ],
   "source": [
    "res = ox.nominal_count(y)\n",
    "res[:20,]"
   ]
  },
  {
   "cell_type": "code",
   "execution_count": 7,
   "metadata": {
    "ExecuteTime": {
     "end_time": "2018-07-16T15:32:04.537094Z",
     "start_time": "2018-07-16T15:32:04.525192Z"
    }
   },
   "outputs": [
    {
     "data": {
      "text/plain": [
       "'messi'"
      ]
     },
     "execution_count": 7,
     "metadata": {},
     "output_type": "execute_result"
    }
   ],
   "source": [
    "mode = ox.nominal_mode(y)\n",
    "mode"
   ]
  }
 ],
 "metadata": {
  "kernelspec": {
   "display_name": "Python 3",
   "language": "python",
   "name": "python3"
  },
  "language_info": {
   "codemirror_mode": {
    "name": "ipython",
    "version": 3
   },
   "file_extension": ".py",
   "mimetype": "text/x-python",
   "name": "python",
   "nbconvert_exporter": "python",
   "pygments_lexer": "ipython3",
   "version": "3.6.2"
  },
  "varInspector": {
   "cols": {
    "lenName": 16,
    "lenType": 16,
    "lenVar": 40
   },
   "kernels_config": {
    "python": {
     "delete_cmd_postfix": "",
     "delete_cmd_prefix": "del ",
     "library": "var_list.py",
     "varRefreshCmd": "print(var_dic_list())"
    },
    "r": {
     "delete_cmd_postfix": ") ",
     "delete_cmd_prefix": "rm(",
     "library": "var_list.r",
     "varRefreshCmd": "cat(var_dic_list()) "
    }
   },
   "types_to_exclude": [
    "module",
    "function",
    "builtin_function_or_method",
    "instance",
    "_Feature"
   ],
   "window_display": false
  }
 },
 "nbformat": 4,
 "nbformat_minor": 2
}
