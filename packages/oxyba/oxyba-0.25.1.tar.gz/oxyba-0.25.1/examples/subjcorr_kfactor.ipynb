{
 "cells": [
  {
   "cell_type": "raw",
   "metadata": {},
   "source": [
    "---\n",
    "title: \"subjcorr_kfactor - k-Factor Nearest Correlation Matrix\"\n",
    "date: 2018-08-11T19:00:00+02:00\n",
    "draft: false\n",
    "tags: [subjcorr_kfactor, illcond_corrmat]\n",
    "---"
   ]
  },
  {
   "cell_type": "code",
   "execution_count": 1,
   "metadata": {
    "ExecuteTime": {
     "end_time": "2018-08-11T21:02:11.228149Z",
     "start_time": "2018-08-11T21:02:10.800481Z"
    }
   },
   "outputs": [],
   "source": [
    "import warnings; warnings.filterwarnings('ignore')\n",
    "import numpy as np\n",
    "import oxyba as ox\n",
    "from importlib import reload; reload(ox);"
   ]
  },
  {
   "cell_type": "markdown",
   "metadata": {},
   "source": [
    "### Create Example Matrix\n",
    "First, create an ill-conditioned correlation matrix. \n",
    "This matrix might have set manually by experts."
   ]
  },
  {
   "cell_type": "code",
   "execution_count": 2,
   "metadata": {
    "ExecuteTime": {
     "end_time": "2018-08-11T21:02:11.243852Z",
     "start_time": "2018-08-11T21:02:11.232407Z"
    }
   },
   "outputs": [
    {
     "name": "stdout",
     "output_type": "stream",
     "text": [
      "Ill-conditioned Correlation Matrix\n",
      "[[ 1.    -0.948  0.099 -0.129]\n",
      " [-0.948  1.    -0.591  0.239]\n",
      " [ 0.099 -0.591  1.     0.058]\n",
      " [-0.129  0.239  0.058  1.   ]]\n"
     ]
    }
   ],
   "source": [
    "R = ox.illcond_corrmat(4, random_state=2)\n",
    "print(\"Ill-conditioned Correlation Matrix\")\n",
    "print(R.round(3))"
   ]
  },
  {
   "cell_type": "code",
   "execution_count": 3,
   "metadata": {
    "ExecuteTime": {
     "end_time": "2018-08-11T21:02:11.256155Z",
     "start_time": "2018-08-11T21:02:11.248510Z"
    }
   },
   "outputs": [
    {
     "name": "stdout",
     "output_type": "stream",
     "text": [
      "Matrix is not positive definite\n"
     ]
    }
   ],
   "source": [
    "try: np.linalg.cholesky(R);\n",
    "except: print(\"Matrix is not positive definite\");"
   ]
  },
  {
   "cell_type": "code",
   "execution_count": 4,
   "metadata": {
    "ExecuteTime": {
     "end_time": "2018-08-11T21:02:11.272088Z",
     "start_time": "2018-08-11T21:02:11.264309Z"
    }
   },
   "outputs": [
    {
     "name": "stdout",
     "output_type": "stream",
     "text": [
      "Det(R) is negative:  -0.1660653430570136\n"
     ]
    }
   ],
   "source": [
    "print(\"Det(R) is negative: \", np.linalg.det(R))"
   ]
  },
  {
   "cell_type": "code",
   "execution_count": 5,
   "metadata": {
    "ExecuteTime": {
     "end_time": "2018-08-11T21:02:11.289107Z",
     "start_time": "2018-08-11T21:02:11.279361Z"
    }
   },
   "outputs": [
    {
     "name": "stdout",
     "output_type": "stream",
     "text": [
      "One or more eigenvalues are negative\n",
      "[ 2.20386329 -0.08662667  0.81350395  1.06925943]\n"
     ]
    }
   ],
   "source": [
    "print(\"One or more eigenvalues are negative\")\n",
    "print(np.linalg.eigvals(R))"
   ]
  },
  {
   "cell_type": "markdown",
   "metadata": {},
   "source": [
    "### Adjust the Matrix \n",
    "Use the k-Factor Nearest correlation optimization problem to find an adjusted matrix that is semi-positive definite. "
   ]
  },
  {
   "cell_type": "code",
   "execution_count": 6,
   "metadata": {
    "ExecuteTime": {
     "end_time": "2018-08-11T21:02:11.302017Z",
     "start_time": "2018-08-11T21:02:11.295409Z"
    }
   },
   "outputs": [],
   "source": [
    "k = 3"
   ]
  },
  {
   "cell_type": "markdown",
   "metadata": {},
   "source": [
    "The first test is using scipy's SLSQP solver"
   ]
  },
  {
   "cell_type": "code",
   "execution_count": 7,
   "metadata": {
    "ExecuteTime": {
     "end_time": "2018-08-11T21:02:14.211303Z",
     "start_time": "2018-08-11T21:02:11.310828Z"
    },
    "scrolled": false
   },
   "outputs": [
    {
     "name": "stdout",
     "output_type": "stream",
     "text": [
      "Fitted Correlation Matrix\n",
      "[[ 1.011 -0.903  0.113 -0.141]\n",
      " [-0.903  1.017 -0.538  0.221]\n",
      " [ 0.113 -0.538  1.003  0.071]\n",
      " [-0.141  0.221  0.071  1.   ]]\n",
      "Is Det(C)>=0 ?  -1.0498841996441135e-16\n",
      "\n",
      "Diff\n",
      "[[0.0115 0.0454 0.0138 0.0116]\n",
      " [0.0454 0.017  0.0524 0.0177]\n",
      " [0.0138 0.0524 0.0035 0.0125]\n",
      " [0.0116 0.0177 0.0125 0.0003]]\n"
     ]
    }
   ],
   "source": [
    "C, X, f, g, results = ox.subjcorr_kfactor(R,k, 'SLSQP')\n",
    "print(\"Fitted Correlation Matrix\")\n",
    "print(C.round(3))\n",
    "print(\"Is Det(C)>=0 ? \", np.linalg.det(C))\n",
    "print(\"\\nDiff\")\n",
    "print(np.abs(R-C).round(4))"
   ]
  },
  {
   "cell_type": "markdown",
   "metadata": {},
   "source": [
    "The SLSQP solver **not** could create a correlation matrix (see diagonal elements and negative `det`).\n",
    "The SLSQP algorithm also converges very slowly for this type of problem."
   ]
  },
  {
   "cell_type": "markdown",
   "metadata": {},
   "source": [
    "`subjcorr_kfactor` uses COBYLA as default algorithm. \n",
    "It's faster and more likely to return an useable correlation matrix."
   ]
  },
  {
   "cell_type": "code",
   "execution_count": 8,
   "metadata": {
    "ExecuteTime": {
     "end_time": "2018-08-11T21:02:14.322976Z",
     "start_time": "2018-08-11T21:02:14.215683Z"
    },
    "scrolled": false
   },
   "outputs": [
    {
     "name": "stdout",
     "output_type": "stream",
     "text": [
      "Fitted Correlation Matrix\n",
      "[[ 1.    -0.874  0.131 -0.131]\n",
      " [-0.874  1.    -0.563  0.255]\n",
      " [ 0.131 -0.563  1.     0.06 ]\n",
      " [-0.131  0.255  0.06   1.   ]]\n",
      "Is Det(C)>=0 ?  6.039076265258523e-17\n",
      "\n",
      "Diff\n",
      "[[0.     0.0744 0.0312 0.0017]\n",
      " [0.0744 0.     0.0278 0.0163]\n",
      " [0.0312 0.0278 0.     0.002 ]\n",
      " [0.0017 0.0163 0.002  0.    ]]\n"
     ]
    }
   ],
   "source": [
    "C, X, f, g, results = ox.subjcorr_kfactor(R,k,'COBYLA')\n",
    "print(\"Fitted Correlation Matrix\")\n",
    "print(C.round(3))\n",
    "print(\"Is Det(C)>=0 ? \", np.linalg.det(C))\n",
    "print(\"\\nDiff\")\n",
    "print(np.abs(R-C).round(4))"
   ]
  },
  {
   "cell_type": "markdown",
   "metadata": {},
   "source": [
    "### Slightly bigger matrices\n",
    "The k-Factor approach will run into troubles, the bigger the matrix."
   ]
  },
  {
   "cell_type": "code",
   "execution_count": 9,
   "metadata": {
    "ExecuteTime": {
     "end_time": "2018-08-11T21:02:14.335293Z",
     "start_time": "2018-08-11T21:02:14.328058Z"
    }
   },
   "outputs": [
    {
     "name": "stdout",
     "output_type": "stream",
     "text": [
      "Ill-conditioned Correlation Matrix\n",
      "[[ 1.    0.89  0.53 -0.44 -0.56  0.37 -0.67 -0.22]\n",
      " [ 0.89  1.   -1.    0.77  0.77 -0.4   0.18  0.96]\n",
      " [ 0.53 -1.    1.   -0.42  0.64  0.25 -0.78 -1.  ]\n",
      " [-0.44  0.77 -0.42  1.    0.74 -0.14  0.66  0.44]\n",
      " [-0.56  0.77  0.64  0.74  1.   -0.07 -0.68  0.1 ]\n",
      " [ 0.37 -0.4   0.25 -0.14 -0.07  1.    0.01 -0.21]\n",
      " [-0.67  0.18 -0.78  0.66 -0.68  0.01  1.   -0.84]\n",
      " [-0.22  0.96 -1.    0.44  0.1  -0.21 -0.84  1.  ]]\n"
     ]
    }
   ],
   "source": [
    "R = ox.illcond_corrmat(8, random_state=23)\n",
    "print(\"Ill-conditioned Correlation Matrix\")\n",
    "print(R.round(2))"
   ]
  },
  {
   "cell_type": "code",
   "execution_count": 10,
   "metadata": {
    "ExecuteTime": {
     "end_time": "2018-08-11T21:02:14.675162Z",
     "start_time": "2018-08-11T21:02:14.340682Z"
    },
    "scrolled": true
   },
   "outputs": [
    {
     "name": "stdout",
     "output_type": "stream",
     "text": [
      "Fitted Correlation Matrix\n",
      "[[ 1.   -0.06  0.67 -0.44  0.58  0.65 -0.87  0.09]\n",
      " [-0.06  1.   -0.65  0.86  0.73  0.11  0.13  0.77]\n",
      " [ 0.67 -0.65  1.   -0.66  0.04  0.66 -0.43 -0.68]\n",
      " [-0.44  0.86 -0.66  1.    0.48  0.08  0.61  0.4 ]\n",
      " [ 0.58  0.73  0.04  0.48  1.    0.69 -0.31  0.47]\n",
      " [ 0.65  0.11  0.66  0.08  0.69  1.   -0.2  -0.3 ]\n",
      " [-0.87  0.13 -0.43  0.61 -0.31 -0.2   1.   -0.31]\n",
      " [ 0.09  0.77 -0.68  0.4   0.47 -0.3  -0.31  1.  ]]\n",
      "Is Det(C)>=0 ?  4.621626757262551e-79\n",
      "\n",
      "Diff\n",
      "[[0.   0.95 0.14 0.01 1.14 0.28 0.21 0.3 ]\n",
      " [0.95 0.   0.35 0.09 0.04 0.5  0.05 0.18]\n",
      " [0.14 0.35 0.   0.24 0.61 0.41 0.35 0.32]\n",
      " [0.01 0.09 0.24 0.   0.26 0.23 0.05 0.03]\n",
      " [1.14 0.04 0.61 0.26 0.   0.76 0.37 0.38]\n",
      " [0.28 0.5  0.41 0.23 0.76 0.   0.21 0.09]\n",
      " [0.21 0.05 0.35 0.05 0.37 0.21 0.   0.53]\n",
      " [0.3  0.18 0.32 0.03 0.38 0.09 0.53 0.  ]]\n"
     ]
    }
   ],
   "source": [
    "k = 3\n",
    "C, X, f, g, results = ox.subjcorr_kfactor(R,k,'COBYLA')\n",
    "print(\"Fitted Correlation Matrix\")\n",
    "print(C.round(2))\n",
    "print(\"Is Det(C)>=0 ? \", np.linalg.det(C))\n",
    "print(\"\\nDiff\")\n",
    "print(np.abs(R-C).round(2))"
   ]
  },
  {
   "cell_type": "markdown",
   "metadata": {},
   "source": [
    "### Links\n",
    "* Higham, N.J., 2002. Computing the nearest correlation matrix -- a problem from finance. IMA Journal of Numerical Analysis 22, 329–343. [DOI](https://doi.org/10.1093/imanum/22.3.329), [PDF](http://www.maths.manchester.ac.uk/~higham/narep/narep369.pdf)\n",
    "* Higham, Nick, 2009, [presentation](https://www.nag.com/market/nagquantday2009_ComputingaNearestCorrelationMatrixNickHigham.pdf)\n"
   ]
  }
 ],
 "metadata": {
  "kernelspec": {
   "display_name": "Python 3",
   "language": "python",
   "name": "python3"
  },
  "language_info": {
   "codemirror_mode": {
    "name": "ipython",
    "version": 3
   },
   "file_extension": ".py",
   "mimetype": "text/x-python",
   "name": "python",
   "nbconvert_exporter": "python",
   "pygments_lexer": "ipython3",
   "version": "3.6.2"
  },
  "varInspector": {
   "cols": {
    "lenName": 16,
    "lenType": 16,
    "lenVar": 40
   },
   "kernels_config": {
    "python": {
     "delete_cmd_postfix": "",
     "delete_cmd_prefix": "del ",
     "library": "var_list.py",
     "varRefreshCmd": "print(var_dic_list())"
    },
    "r": {
     "delete_cmd_postfix": ") ",
     "delete_cmd_prefix": "rm(",
     "library": "var_list.r",
     "varRefreshCmd": "cat(var_dic_list()) "
    }
   },
   "types_to_exclude": [
    "module",
    "function",
    "builtin_function_or_method",
    "instance",
    "_Feature"
   ],
   "window_display": false
  }
 },
 "nbformat": 4,
 "nbformat_minor": 2
}
