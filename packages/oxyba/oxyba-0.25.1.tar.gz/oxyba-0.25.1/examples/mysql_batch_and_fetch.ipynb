{
 "cells": [
  {
   "cell_type": "raw",
   "metadata": {},
   "source": [
    "---\n",
    "title: \"mysql_batch_and_fetch\"\n",
    "date: 2018-07-02T19:00:00+02:00\n",
    "draft: false\n",
    "tags: [mysql_batch_and_fetch, MySQL]\n",
    "---"
   ]
  },
  {
   "cell_type": "code",
   "execution_count": 1,
   "metadata": {
    "ExecuteTime": {
     "end_time": "2018-07-16T15:36:42.990367Z",
     "start_time": "2018-07-16T15:36:42.983211Z"
    }
   },
   "outputs": [],
   "source": [
    "import warnings; warnings.filterwarnings('ignore')"
   ]
  },
  {
   "cell_type": "markdown",
   "metadata": {},
   "source": [
    "load the `oxyba` module"
   ]
  },
  {
   "cell_type": "code",
   "execution_count": 2,
   "metadata": {
    "ExecuteTime": {
     "end_time": "2018-07-16T15:36:43.004718Z",
     "start_time": "2018-07-16T15:36:42.995562Z"
    }
   },
   "outputs": [],
   "source": [
    "import oxyba as ox"
   ]
  },
  {
   "cell_type": "markdown",
   "metadata": {
    "ExecuteTime": {
     "end_time": "2018-07-16T15:32:32.927525Z",
     "start_time": "2018-07-16T15:32:32.916610Z"
    }
   },
   "source": [
    "Define the credentials to access the database"
   ]
  },
  {
   "cell_type": "code",
   "execution_count": 3,
   "metadata": {
    "ExecuteTime": {
     "end_time": "2018-07-16T15:36:43.015565Z",
     "start_time": "2018-07-16T15:36:43.009412Z"
    }
   },
   "outputs": [],
   "source": [
    "cfg_mysql = {'user': 'anonymous', 'passwd': '', 'host': 'ensembldb.ensembl.org', 'port': 3306}"
   ]
  },
  {
   "cell_type": "markdown",
   "metadata": {
    "ExecuteTime": {
     "end_time": "2018-07-02T20:46:33.711623Z",
     "start_time": "2018-07-02T20:46:33.352968Z"
    }
   },
   "source": [
    "### All SQL statements in one string"
   ]
  },
  {
   "cell_type": "markdown",
   "metadata": {},
   "source": [
    "Fetch the data and show the result table as tuple of tuple"
   ]
  },
  {
   "cell_type": "code",
   "execution_count": 4,
   "metadata": {
    "ExecuteTime": {
     "end_time": "2018-07-16T15:36:43.385507Z",
     "start_time": "2018-07-16T15:36:43.019954Z"
    }
   },
   "outputs": [
    {
     "data": {
      "text/plain": [
       "((36, Decimal('7.5')),)"
      ]
     },
     "execution_count": 4,
     "metadata": {},
     "output_type": "execute_result"
    }
   ],
   "source": [
    "sql_query = \"set @x := 12; set @y := 3; select @x * @y, @y * 2.5;\"\n",
    "\n",
    "data = ox.mysql_batch_and_fetch(cfg_mysql, sql_query)\n",
    "data"
   ]
  },
  {
   "cell_type": "markdown",
   "metadata": {
    "ExecuteTime": {
     "end_time": "2018-07-16T15:32:34.214580Z",
     "start_time": "2018-07-16T15:32:33.741296Z"
    }
   },
   "source": [
    "Convert to ndarray or dataframe"
   ]
  },
  {
   "cell_type": "code",
   "execution_count": 5,
   "metadata": {
    "ExecuteTime": {
     "end_time": "2018-07-16T15:36:43.884901Z",
     "start_time": "2018-07-16T15:36:43.388713Z"
    }
   },
   "outputs": [
    {
     "data": {
      "text/html": [
       "<div>\n",
       "<style scoped>\n",
       "    .dataframe tbody tr th:only-of-type {\n",
       "        vertical-align: middle;\n",
       "    }\n",
       "\n",
       "    .dataframe tbody tr th {\n",
       "        vertical-align: top;\n",
       "    }\n",
       "\n",
       "    .dataframe thead th {\n",
       "        text-align: right;\n",
       "    }\n",
       "</style>\n",
       "<table border=\"1\" class=\"dataframe\">\n",
       "  <thead>\n",
       "    <tr style=\"text-align: right;\">\n",
       "      <th></th>\n",
       "      <th>0</th>\n",
       "      <th>1</th>\n",
       "    </tr>\n",
       "  </thead>\n",
       "  <tbody>\n",
       "    <tr>\n",
       "      <th>0</th>\n",
       "      <td>36</td>\n",
       "      <td>7.5</td>\n",
       "    </tr>\n",
       "  </tbody>\n",
       "</table>\n",
       "</div>"
      ],
      "text/plain": [
       "    0    1\n",
       "0  36  7.5"
      ]
     },
     "execution_count": 5,
     "metadata": {},
     "output_type": "execute_result"
    }
   ],
   "source": [
    "import pandas as pd\n",
    "import numpy as np\n",
    "df = pd.DataFrame(np.asarray(data))\n",
    "df"
   ]
  },
  {
   "cell_type": "markdown",
   "metadata": {
    "ExecuteTime": {
     "end_time": "2018-07-02T20:46:38.543662Z",
     "start_time": "2018-07-02T20:46:38.207956Z"
    }
   },
   "source": [
    "### Queries as array of strings"
   ]
  },
  {
   "cell_type": "code",
   "execution_count": 6,
   "metadata": {
    "ExecuteTime": {
     "end_time": "2018-07-16T15:36:44.202501Z",
     "start_time": "2018-07-16T15:36:43.889202Z"
    },
    "scrolled": true
   },
   "outputs": [
    {
     "data": {
      "text/plain": [
       "((36, Decimal('7.5')),)"
      ]
     },
     "execution_count": 6,
     "metadata": {},
     "output_type": "execute_result"
    }
   ],
   "source": [
    "sql_query = [\"set @x := 12\", \"set @y := 3\", \"select @x * @y, @y * 2.5\"]\n",
    "data = ox.mysql_batch_and_fetch(cfg_mysql, sql_query)\n",
    "data"
   ]
  },
  {
   "cell_type": "markdown",
   "metadata": {
    "ExecuteTime": {
     "end_time": "2018-07-02T20:47:33.444677Z",
     "start_time": "2018-07-02T20:47:33.120291Z"
    }
   },
   "source": [
    "### Each SQL statement as input argument"
   ]
  },
  {
   "cell_type": "code",
   "execution_count": 7,
   "metadata": {
    "ExecuteTime": {
     "end_time": "2018-07-16T15:36:44.528655Z",
     "start_time": "2018-07-16T15:36:44.207053Z"
    }
   },
   "outputs": [
    {
     "data": {
      "text/plain": [
       "((36, Decimal('7.5')),)"
      ]
     },
     "execution_count": 7,
     "metadata": {},
     "output_type": "execute_result"
    }
   ],
   "source": [
    "data = ox.mysql_batch_and_fetch(cfg_mysql, \"set @x := 12\", \"set @y := 3\", \"select @x * @y, @y * 2.5\")\n",
    "data"
   ]
  },
  {
   "cell_type": "markdown",
   "metadata": {},
   "source": [
    "### Installation\n",
    "I did not include the `MySQLdb` package in `setup.py` because Database Driver can be very painful to install. \n",
    "\n",
    "#### Step 1/2\n",
    "First, install the the dependencies\n",
    "\n",
    "Debian/Ubuntu: \n",
    "\n",
    "```\n",
    "sudo apt-get install python-pip python-dev libmysqlclient-dev\n",
    "```\n",
    "\n",
    "Fedora: \n",
    "\n",
    "```\n",
    "sudo dnf install python python-devel mysql-devel redhat-rpm-config gcc\n",
    "```\n",
    "\n",
    "MacOS\n",
    "```\n",
    "brew uninstall mysql \n",
    "brew install mysql-connector-c \n",
    "brew unlink mysql-connector-c\n",
    "brew install mysql\n",
    "```\n",
    "\n",
    "In June 2018 homebrew moved to MySQL 8 what was not supported by the `MySQLdb` at that time. \n",
    "Follow [this instructionn](https://stackoverflow.com/a/51031221) to switch back to version 5.7 on MacOS.\n",
    "\n",
    "```\n",
    "brew uninstall mysql\n",
    "brew install mysql@5.7\n",
    "brew link --force mysql@5.7\n",
    "mysql.server start\n",
    "mysql_secure_installation\n",
    "```\n",
    "\n",
    "#### Step 2/2\n",
    "Finally, run pip and hope for the best.\n",
    "```\n",
    "pip install mysqlclient\n",
    "```\n",
    "\n",
    "### Links\n",
    "* http://mysqlclient.readthedocs.io/\n",
    "* https://www.ensembl.org/info/data/mysql.html\n",
    "* https://stackoverflow.com/a/51031221\n"
   ]
  }
 ],
 "metadata": {
  "kernelspec": {
   "display_name": "Python 3",
   "language": "python",
   "name": "python3"
  },
  "language_info": {
   "codemirror_mode": {
    "name": "ipython",
    "version": 3
   },
   "file_extension": ".py",
   "mimetype": "text/x-python",
   "name": "python",
   "nbconvert_exporter": "python",
   "pygments_lexer": "ipython3",
   "version": "3.6.2"
  },
  "varInspector": {
   "cols": {
    "lenName": 16,
    "lenType": 16,
    "lenVar": 40
   },
   "kernels_config": {
    "python": {
     "delete_cmd_postfix": "",
     "delete_cmd_prefix": "del ",
     "library": "var_list.py",
     "varRefreshCmd": "print(var_dic_list())"
    },
    "r": {
     "delete_cmd_postfix": ") ",
     "delete_cmd_prefix": "rm(",
     "library": "var_list.r",
     "varRefreshCmd": "cat(var_dic_list()) "
    }
   },
   "types_to_exclude": [
    "module",
    "function",
    "builtin_function_or_method",
    "instance",
    "_Feature"
   ],
   "window_display": false
  }
 },
 "nbformat": 4,
 "nbformat_minor": 2
}
