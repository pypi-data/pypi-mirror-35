{
 "cells": [
  {
   "cell_type": "raw",
   "metadata": {},
   "source": [
    "---\n",
    "title: \"block_idxmat_shuffle for k-fold Cross-Validation\"\n",
    "date: 2018-07-29T12:00:00+02:00\n",
    "draft: false\n",
    "tags: [block_idxmat_shuffle, cross-validation, rotation estimation, out-of-sample]\n",
    "---"
   ]
  },
  {
   "cell_type": "code",
   "execution_count": 1,
   "metadata": {
    "ExecuteTime": {
     "end_time": "2018-08-03T19:58:32.634493Z",
     "start_time": "2018-08-03T19:58:31.326146Z"
    }
   },
   "outputs": [],
   "source": [
    "import warnings; warnings.filterwarnings('ignore')\n",
    "import matplotlib.pyplot as plt\n",
    "%matplotlib inline\n",
    "\n",
    "import numpy as np\n",
    "import oxyba as ox\n",
    "from importlib import reload; reload(ox);"
   ]
  },
  {
   "cell_type": "markdown",
   "metadata": {},
   "source": [
    "In this article we apply `block_idxmat_shuffle` for k-fold Cross-Validation\n",
    "\n",
    "### Load a demo dataset"
   ]
  },
  {
   "cell_type": "code",
   "execution_count": 2,
   "metadata": {
    "ExecuteTime": {
     "end_time": "2018-08-03T19:58:34.172948Z",
     "start_time": "2018-08-03T19:58:32.637703Z"
    }
   },
   "outputs": [],
   "source": [
    "from sklearn.datasets import load_boston\n",
    "tmp = load_boston()\n",
    "N = len(tmp.target);\n",
    "y = tmp.target\n",
    "X = np.c_[ np.ones(shape=(N,1)), tmp.data[:,[5,12]] ];\n",
    "#X = np.c_[ tmp.data[:,[5,12]] ];"
   ]
  },
  {
   "cell_type": "markdown",
   "metadata": {},
   "source": [
    "### Generate Blocks\n",
    "We are using ten blocks"
   ]
  },
  {
   "cell_type": "code",
   "execution_count": 3,
   "metadata": {
    "ExecuteTime": {
     "end_time": "2018-08-03T19:58:34.185215Z",
     "start_time": "2018-08-03T19:58:34.179071Z"
    }
   },
   "outputs": [],
   "source": [
    "K = 10\n",
    "#K = 20"
   ]
  },
  {
   "cell_type": "markdown",
   "metadata": {},
   "source": [
    "However we will generate `K+1` blocks. \n",
    "The additional block is the test block that will be used for the ultimate model test.\n",
    "Assign the `N` row indicies randomly to the `K+1` blocks"
   ]
  },
  {
   "cell_type": "code",
   "execution_count": 4,
   "metadata": {
    "ExecuteTime": {
     "end_time": "2018-08-03T19:58:34.196807Z",
     "start_time": "2018-08-03T19:58:34.190412Z"
    }
   },
   "outputs": [],
   "source": [
    "np.random.seed(42)\n",
    "idx, _ = ox.block_idxmat_shuffle(N,K+1)"
   ]
  },
  {
   "cell_type": "markdown",
   "metadata": {},
   "source": [
    "### Remove the Test Block for later usage\n",
    "The `idx` matrix contains `K+1` columns wheras the one column is the test block (I discretionary pick the last one). \n",
    "Store the row indicies in a seperate variable `idx_test` and delete this column from `idx`"
   ]
  },
  {
   "cell_type": "code",
   "execution_count": 5,
   "metadata": {
    "ExecuteTime": {
     "end_time": "2018-08-03T19:58:34.211919Z",
     "start_time": "2018-08-03T19:58:34.204871Z"
    }
   },
   "outputs": [],
   "source": [
    "idx_test = idx[:,-1]\n",
    "idx = idx[:,:K]"
   ]
  },
  {
   "cell_type": "markdown",
   "metadata": {},
   "source": [
    "### Fit the model K-times\n",
    "Let's loop over all `K` blocks and run a linear regression for each."
   ]
  },
  {
   "cell_type": "code",
   "execution_count": 6,
   "metadata": {
    "ExecuteTime": {
     "end_time": "2018-08-03T19:58:34.266066Z",
     "start_time": "2018-08-03T19:58:34.217772Z"
    }
   },
   "outputs": [],
   "source": [
    "errors = []\n",
    "coeffs = []\n",
    "\n",
    "for b in range(K):\n",
    "    #temporary store indicies when using block b for validation\n",
    "    idx_valid = idx[:,b]\n",
    "    idx_train = idx[:,[c for c in range(K) if c is not b]]\n",
    "    idx_train = idx_train.reshape((np.prod(idx_train.shape),))\n",
    "    \n",
    "    #estimate with all blocks that are not block b\n",
    "    beta = ox.linreg_ols_lu( y[idx_train], X[idx_train,:] )\n",
    "    \n",
    "    #compute error of validation block\n",
    "    ssr = ox.linreg_ssr( y[idx_valid], X[idx_valid,:], beta )\n",
    "    \n",
    "    #store the results\n",
    "    errors.append(ssr)\n",
    "    coeffs.append(beta)"
   ]
  },
  {
   "cell_type": "markdown",
   "metadata": {},
   "source": [
    "### Eyeball the CV error\n",
    "The SSR errors for `K` model estimations"
   ]
  },
  {
   "cell_type": "code",
   "execution_count": 7,
   "metadata": {
    "ExecuteTime": {
     "end_time": "2018-08-03T19:58:34.283073Z",
     "start_time": "2018-08-03T19:58:34.270639Z"
    }
   },
   "outputs": [
    {
     "data": {
      "text/plain": [
       "[1210.1204486366632,\n",
       " 1644.4395574125672,\n",
       " 1255.066991306598,\n",
       " 751.4737008987915,\n",
       " 894.3232425943116,\n",
       " 1252.9153409807957,\n",
       " 2177.6917011295136,\n",
       " 1307.0535571216994,\n",
       " 2413.241211782481,\n",
       " 1539.9019647982748]"
      ]
     },
     "execution_count": 7,
     "metadata": {},
     "output_type": "execute_result"
    }
   ],
   "source": [
    "errors"
   ]
  },
  {
   "cell_type": "markdown",
   "metadata": {},
   "source": [
    "The **CV error** is the average of all predictions errors on the validation sets $CV = 1/K \\sum_{b=1}^K error_b$"
   ]
  },
  {
   "cell_type": "code",
   "execution_count": 8,
   "metadata": {
    "ExecuteTime": {
     "end_time": "2018-08-03T19:58:34.302208Z",
     "start_time": "2018-08-03T19:58:34.287349Z"
    }
   },
   "outputs": [
    {
     "data": {
      "text/plain": [
       "1444.6"
      ]
     },
     "execution_count": 8,
     "metadata": {},
     "output_type": "execute_result"
    }
   ],
   "source": [
    "CVerror = np.mean(errors)\n",
    "CVerror.round(1)"
   ]
  },
  {
   "cell_type": "markdown",
   "metadata": {
    "ExecuteTime": {
     "end_time": "2018-07-29T09:09:19.995581Z",
     "start_time": "2018-07-29T09:09:19.989406Z"
    }
   },
   "source": [
    "and the $CV_\\sigma$ is"
   ]
  },
  {
   "cell_type": "code",
   "execution_count": 9,
   "metadata": {
    "ExecuteTime": {
     "end_time": "2018-08-03T19:58:34.318937Z",
     "start_time": "2018-08-03T19:58:34.308446Z"
    }
   },
   "outputs": [
    {
     "data": {
      "text/plain": [
       "495.4"
      ]
     },
     "execution_count": 9,
     "metadata": {},
     "output_type": "execute_result"
    }
   ],
   "source": [
    "CVstd = np.std(errors)\n",
    "CVstd.round(1)"
   ]
  },
  {
   "cell_type": "markdown",
   "metadata": {},
   "source": [
    "### Eyeball the estimated coefficients\n",
    "The second `X` variable fluctates around `-0.6**` and seems to be stable.\n",
    "However, the intercept and first `X` variable fluctate a lot."
   ]
  },
  {
   "cell_type": "code",
   "execution_count": 10,
   "metadata": {
    "ExecuteTime": {
     "end_time": "2018-08-03T19:58:34.334376Z",
     "start_time": "2018-08-03T19:58:34.323720Z"
    }
   },
   "outputs": [
    {
     "data": {
      "text/plain": [
       "[array([-1.09158302,  5.08211545, -0.64482444]),\n",
       " array([ 1.2630857 ,  4.70182935, -0.65549503]),\n",
       " array([-1.99476753,  5.2643    , -0.65887735]),\n",
       " array([-1.7791738 ,  5.19193636, -0.63935956]),\n",
       " array([-1.66717213,  5.17161521, -0.6404554 ]),\n",
       " array([-3.25019204,  5.41816829, -0.63567991]),\n",
       " array([-6.75956921,  5.86500093, -0.59705978]),\n",
       " array([ 0.19023594,  4.86762755, -0.64849271]),\n",
       " array([-5.45458379,  5.61631636, -0.57820467]),\n",
       " array([-0.00527083,  4.90919767, -0.65244998])]"
      ]
     },
     "execution_count": 10,
     "metadata": {},
     "output_type": "execute_result"
    }
   ],
   "source": [
    "coeffs"
   ]
  },
  {
   "cell_type": "markdown",
   "metadata": {},
   "source": [
    "It seems that the intercept is sensitive to subsamples of the first `X` variable. "
   ]
  },
  {
   "cell_type": "code",
   "execution_count": 11,
   "metadata": {
    "ExecuteTime": {
     "end_time": "2018-08-03T19:58:34.922057Z",
     "start_time": "2018-08-03T19:58:34.338818Z"
    }
   },
   "outputs": [
    {
     "data": {
      "image/png": "[encoded data removed]",
      "text/plain": [
       "<Figure size 432x288 with 1 Axes>"
      ]
     },
     "metadata": {},
     "output_type": "display_data"
    }
   ],
   "source": [
    "tmp = np.array(coeffs)\n",
    "plt.scatter(x=tmp[:,0], y=tmp[:,1])\n",
    "plt.xlabel('intercept');\n",
    "plt.ylabel('X_1 coeff');"
   ]
  },
  {
   "cell_type": "markdown",
   "metadata": {
    "ExecuteTime": {
     "end_time": "2018-07-30T07:55:14.595837Z",
     "start_time": "2018-07-30T07:55:14.580090Z"
    }
   },
   "source": [
    "The CV error is approx 1400 and we could check if the intercept and first `X` variable behave somewhat stable for subsamples with SSR errors close to the mean CV error. \n",
    "However it is not the case (see column `0` for SSR errors around 1400, look right at column `1` for the intercept parameter, and column `2` for the first `X` parameter)"
   ]
  },
  {
   "cell_type": "code",
   "execution_count": 12,
   "metadata": {
    "ExecuteTime": {
     "end_time": "2018-08-03T19:58:35.715207Z",
     "start_time": "2018-08-03T19:58:34.926210Z"
    }
   },
   "outputs": [
    {
     "data": {
      "text/html": [
       "<div>\n",
       "<style scoped>\n",
       "    .dataframe tbody tr th:only-of-type {\n",
       "        vertical-align: middle;\n",
       "    }\n",
       "\n",
       "    .dataframe tbody tr th {\n",
       "        vertical-align: top;\n",
       "    }\n",
       "\n",
       "    .dataframe thead th {\n",
       "        text-align: right;\n",
       "    }\n",
       "</style>\n",
       "<table border=\"1\" class=\"dataframe\">\n",
       "  <thead>\n",
       "    <tr style=\"text-align: right;\">\n",
       "      <th></th>\n",
       "      <th>0</th>\n",
       "      <th>1</th>\n",
       "      <th>2</th>\n",
       "      <th>3</th>\n",
       "    </tr>\n",
       "  </thead>\n",
       "  <tbody>\n",
       "    <tr>\n",
       "      <th>3</th>\n",
       "      <td>751.473701</td>\n",
       "      <td>-1.779174</td>\n",
       "      <td>5.191936</td>\n",
       "      <td>-0.639360</td>\n",
       "    </tr>\n",
       "    <tr>\n",
       "      <th>4</th>\n",
       "      <td>894.323243</td>\n",
       "      <td>-1.667172</td>\n",
       "      <td>5.171615</td>\n",
       "      <td>-0.640455</td>\n",
       "    </tr>\n",
       "    <tr>\n",
       "      <th>0</th>\n",
       "      <td>1210.120449</td>\n",
       "      <td>-1.091583</td>\n",
       "      <td>5.082115</td>\n",
       "      <td>-0.644824</td>\n",
       "    </tr>\n",
       "    <tr>\n",
       "      <th>5</th>\n",
       "      <td>1252.915341</td>\n",
       "      <td>-3.250192</td>\n",
       "      <td>5.418168</td>\n",
       "      <td>-0.635680</td>\n",
       "    </tr>\n",
       "    <tr>\n",
       "      <th>2</th>\n",
       "      <td>1255.066991</td>\n",
       "      <td>-1.994768</td>\n",
       "      <td>5.264300</td>\n",
       "      <td>-0.658877</td>\n",
       "    </tr>\n",
       "    <tr>\n",
       "      <th>7</th>\n",
       "      <td>1307.053557</td>\n",
       "      <td>0.190236</td>\n",
       "      <td>4.867628</td>\n",
       "      <td>-0.648493</td>\n",
       "    </tr>\n",
       "    <tr>\n",
       "      <th>9</th>\n",
       "      <td>1539.901965</td>\n",
       "      <td>-0.005271</td>\n",
       "      <td>4.909198</td>\n",
       "      <td>-0.652450</td>\n",
       "    </tr>\n",
       "    <tr>\n",
       "      <th>1</th>\n",
       "      <td>1644.439557</td>\n",
       "      <td>1.263086</td>\n",
       "      <td>4.701829</td>\n",
       "      <td>-0.655495</td>\n",
       "    </tr>\n",
       "    <tr>\n",
       "      <th>6</th>\n",
       "      <td>2177.691701</td>\n",
       "      <td>-6.759569</td>\n",
       "      <td>5.865001</td>\n",
       "      <td>-0.597060</td>\n",
       "    </tr>\n",
       "    <tr>\n",
       "      <th>8</th>\n",
       "      <td>2413.241212</td>\n",
       "      <td>-5.454584</td>\n",
       "      <td>5.616316</td>\n",
       "      <td>-0.578205</td>\n",
       "    </tr>\n",
       "  </tbody>\n",
       "</table>\n",
       "</div>"
      ],
      "text/plain": [
       "             0         1         2         3\n",
       "3   751.473701 -1.779174  5.191936 -0.639360\n",
       "4   894.323243 -1.667172  5.171615 -0.640455\n",
       "0  1210.120449 -1.091583  5.082115 -0.644824\n",
       "5  1252.915341 -3.250192  5.418168 -0.635680\n",
       "2  1255.066991 -1.994768  5.264300 -0.658877\n",
       "7  1307.053557  0.190236  4.867628 -0.648493\n",
       "9  1539.901965 -0.005271  4.909198 -0.652450\n",
       "1  1644.439557  1.263086  4.701829 -0.655495\n",
       "6  2177.691701 -6.759569  5.865001 -0.597060\n",
       "8  2413.241212 -5.454584  5.616316 -0.578205"
      ]
     },
     "execution_count": 12,
     "metadata": {},
     "output_type": "execute_result"
    }
   ],
   "source": [
    "import pandas as pd\n",
    "pd.DataFrame( np.c_[np.array(errors), np.array(coeffs)] ).sort_values(by=[0], axis=0)"
   ]
  },
  {
   "cell_type": "markdown",
   "metadata": {},
   "source": [
    "What to try next? (Iterate!)\n",
    "\n",
    "* increase the number of blocks `K`\n",
    "* remove the intercept from the model as it overcompensate fluctuations in the first X variables"
   ]
  },
  {
   "cell_type": "markdown",
   "metadata": {},
   "source": [
    "### What to do next?\n",
    "* compare the CV error $CV$ of different models, algorithms, hyperparameters, etc. (model selection)\n",
    "* compare the test set (test block) with the $CV$ and $CV_\\sigma$"
   ]
  }
 ],
 "metadata": {
  "kernelspec": {
   "display_name": "Python 3",
   "language": "python",
   "name": "python3"
  },
  "language_info": {
   "codemirror_mode": {
    "name": "ipython",
    "version": 3
   },
   "file_extension": ".py",
   "mimetype": "text/x-python",
   "name": "python",
   "nbconvert_exporter": "python",
   "pygments_lexer": "ipython3",
   "version": "3.6.2"
  },
  "varInspector": {
   "cols": {
    "lenName": 16,
    "lenType": 16,
    "lenVar": 40
   },
   "kernels_config": {
    "python": {
     "delete_cmd_postfix": "",
     "delete_cmd_prefix": "del ",
     "library": "var_list.py",
     "varRefreshCmd": "print(var_dic_list())"
    },
    "r": {
     "delete_cmd_postfix": ") ",
     "delete_cmd_prefix": "rm(",
     "library": "var_list.r",
     "varRefreshCmd": "cat(var_dic_list()) "
    }
   },
   "types_to_exclude": [
    "module",
    "function",
    "builtin_function_or_method",
    "instance",
    "_Feature"
   ],
   "window_display": false
  }
 },
 "nbformat": 4,
 "nbformat_minor": 2
}
