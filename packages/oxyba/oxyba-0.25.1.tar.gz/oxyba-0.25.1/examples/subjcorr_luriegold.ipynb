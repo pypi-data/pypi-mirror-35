{
 "cells": [
  {
   "cell_type": "raw",
   "metadata": {},
   "source": [
    "---\n",
    "title: \"subjcorr_luriegold - Lurie-Goldberg Algorithm\"\n",
    "date: 2018-08-11T23:00:00+02:00\n",
    "draft: false\n",
    "tags: [subjcorr_luriegold, illcond_corrmat, subjcorr_kfactor]\n",
    "---"
   ]
  },
  {
   "cell_type": "code",
   "execution_count": 1,
   "metadata": {
    "ExecuteTime": {
     "end_time": "2018-08-11T23:12:18.555219Z",
     "start_time": "2018-08-11T23:12:18.415193Z"
    }
   },
   "outputs": [],
   "source": [
    "import warnings; warnings.filterwarnings('ignore')\n",
    "import numpy as np\n",
    "import oxyba as ox\n",
    "from importlib import reload; reload(ox);"
   ]
  },
  {
   "cell_type": "markdown",
   "metadata": {},
   "source": [
    "### Lurie-Goldberg Algorithm\n",
    "The Lurie-Goldberg Algorithm is based on the idea that \n",
    "$L\\,L^T$ is always a semi-positive definite matrix \n",
    "with $L$ the lower triangular matrix of a Cholesky decomposition.\n",
    "\n",
    "Let $R \\in \\mathbb{R}^{d\\times d}$ a given ill-conditioned correlation matrix (e.g. subjective correlations from expert opinions), \n",
    "$L = (l_{ij})$ a lower triangular matrix,\n",
    "and $C \\in \\mathbb{R}^{d\\times d}$ the correlation matrix $C = L \\, L^T$.\n",
    "\n",
    "$$\n",
    "\\min_{l_{ij}} \\frac{1}{2} \\, || R - L \\, L^T ||^2 \n",
    "$$\n",
    "\n",
    "The number of parameters is $(d^2+d)/2$"
   ]
  },
  {
   "cell_type": "markdown",
   "metadata": {
    "ExecuteTime": {
     "end_time": "2018-08-11T22:51:33.688234Z",
     "start_time": "2018-08-11T22:51:33.674779Z"
    }
   },
   "source": [
    "### Example 1\n",
    "Load an ill-conditioned matrix"
   ]
  },
  {
   "cell_type": "code",
   "execution_count": 2,
   "metadata": {
    "ExecuteTime": {
     "end_time": "2018-08-11T23:12:18.569536Z",
     "start_time": "2018-08-11T23:12:18.559386Z"
    }
   },
   "outputs": [
    {
     "name": "stdout",
     "output_type": "stream",
     "text": [
      "Ill-conditioned Correlation Matrix\n",
      "[[ 1.    -0.948  0.099 -0.129]\n",
      " [-0.948  1.    -0.591  0.239]\n",
      " [ 0.099 -0.591  1.     0.058]\n",
      " [-0.129  0.239  0.058  1.   ]]\n"
     ]
    }
   ],
   "source": [
    "R = ox.illcond_corrmat(4, random_state=2)\n",
    "print(\"Ill-conditioned Correlation Matrix\")\n",
    "print(R.round(3))"
   ]
  },
  {
   "cell_type": "markdown",
   "metadata": {},
   "source": [
    "The k-Factor method for comparision"
   ]
  },
  {
   "cell_type": "code",
   "execution_count": 3,
   "metadata": {
    "ExecuteTime": {
     "end_time": "2018-08-11T23:12:19.007188Z",
     "start_time": "2018-08-11T23:12:18.573212Z"
    },
    "scrolled": true
   },
   "outputs": [
    {
     "name": "stdout",
     "output_type": "stream",
     "text": [
      "Fitted Correlation Matrix\n",
      "[[ 1.    -0.885  0.337 -0.188]\n",
      " [-0.885  1.    -0.536  0.205]\n",
      " [ 0.337 -0.536  1.     0.668]\n",
      " [-0.188  0.205  0.668  1.   ]]\n",
      "Is Det(C)>=0 ?  1.6620592691407305e-08\n",
      "\n",
      "Diff\n",
      "[[0.     0.063  0.2381 0.0587]\n",
      " [0.063  0.     0.0546 0.0331]\n",
      " [0.2381 0.0546 0.     0.6096]\n",
      " [0.0587 0.0331 0.6096 0.    ]]\n"
     ]
    }
   ],
   "source": [
    "C,_,_,_,_ = ox.subjcorr_kfactor(R,4)\n",
    "print(\"Fitted Correlation Matrix\")\n",
    "print(C.round(3))\n",
    "print(\"Is Det(C)>=0 ? \", np.linalg.det(C))\n",
    "print(\"\\nDiff\")\n",
    "print(np.abs(R-C).round(4))"
   ]
  },
  {
   "cell_type": "markdown",
   "metadata": {},
   "source": [
    "And the Lurie-Goldberg method"
   ]
  },
  {
   "cell_type": "code",
   "execution_count": 4,
   "metadata": {
    "ExecuteTime": {
     "end_time": "2018-08-11T23:12:19.061650Z",
     "start_time": "2018-08-11T23:12:19.010791Z"
    },
    "scrolled": false
   },
   "outputs": [
    {
     "name": "stdout",
     "output_type": "stream",
     "text": [
      "Fitted Correlation Matrix\n",
      "[[ 1.    -0.885  0.128 -0.138]\n",
      " [-0.885  1.    -0.555  0.227]\n",
      " [ 0.128 -0.555  1.     0.053]\n",
      " [-0.138  0.227  0.053  1.   ]]\n",
      "Is Det(C)>=0 ?  1.095672105281764e-08\n",
      "\n",
      "Diff\n",
      "[[0.     0.0633 0.029  0.0089]\n",
      " [0.0633 0.     0.036  0.011 ]\n",
      " [0.029  0.036  0.     0.005 ]\n",
      " [0.0089 0.011  0.005  0.    ]]\n"
     ]
    }
   ],
   "source": [
    "C, L, results = ox.subjcorr_luriegold(R)\n",
    "print(\"Fitted Correlation Matrix\")\n",
    "print(C.round(3))\n",
    "print(\"Is Det(C)>=0 ? \", np.linalg.det(C))\n",
    "print(\"\\nDiff\")\n",
    "print(np.abs(R-C).round(4))"
   ]
  },
  {
   "cell_type": "markdown",
   "metadata": {},
   "source": [
    "### Example 2"
   ]
  },
  {
   "cell_type": "code",
   "execution_count": 5,
   "metadata": {
    "ExecuteTime": {
     "end_time": "2018-08-11T23:12:19.072222Z",
     "start_time": "2018-08-11T23:12:19.065447Z"
    },
    "scrolled": true
   },
   "outputs": [
    {
     "name": "stdout",
     "output_type": "stream",
     "text": [
      "Ill-conditioned Correlation Matrix\n",
      "[[ 1.    0.89  0.53 -0.44 -0.56  0.37 -0.67 -0.22]\n",
      " [ 0.89  1.   -1.    0.77  0.77 -0.4   0.18  0.96]\n",
      " [ 0.53 -1.    1.   -0.42  0.64  0.25 -0.78 -1.  ]\n",
      " [-0.44  0.77 -0.42  1.    0.74 -0.14  0.66  0.44]\n",
      " [-0.56  0.77  0.64  0.74  1.   -0.07 -0.68  0.1 ]\n",
      " [ 0.37 -0.4   0.25 -0.14 -0.07  1.    0.01 -0.21]\n",
      " [-0.67  0.18 -0.78  0.66 -0.68  0.01  1.   -0.84]\n",
      " [-0.22  0.96 -1.    0.44  0.1  -0.21 -0.84  1.  ]]\n"
     ]
    }
   ],
   "source": [
    "R = ox.illcond_corrmat(8, random_state=23)\n",
    "print(\"Ill-conditioned Correlation Matrix\")\n",
    "print(R.round(2))"
   ]
  },
  {
   "cell_type": "code",
   "execution_count": 6,
   "metadata": {
    "ExecuteTime": {
     "end_time": "2018-08-11T23:12:19.305202Z",
     "start_time": "2018-08-11T23:12:19.076412Z"
    },
    "scrolled": false
   },
   "outputs": [
    {
     "name": "stdout",
     "output_type": "stream",
     "text": [
      "Fitted Correlation Matrix\n",
      "[[ 1.    0.29  0.25 -0.4  -0.19  0.28 -0.44 -0.  ]\n",
      " [ 0.29  1.   -0.58  0.64  0.32 -0.27 -0.04  0.73]\n",
      " [ 0.25 -0.58  1.   -0.48  0.3   0.28 -0.51 -0.63]\n",
      " [-0.4   0.64 -0.48  1.    0.56 -0.17  0.42  0.35]\n",
      " [-0.19  0.32  0.3   0.56  1.   -0.12 -0.4   0.23]\n",
      " [ 0.28 -0.27  0.28 -0.17 -0.12  1.   -0.03 -0.27]\n",
      " [-0.44 -0.04 -0.51  0.42 -0.4  -0.03  1.   -0.31]\n",
      " [-0.    0.73 -0.63  0.35  0.23 -0.27 -0.31  1.  ]]\n",
      "Is Det(C)>=0 ?  5.523811327071143e-25\n",
      "\n",
      "Diff\n",
      "[[0.   0.61 0.28 0.04 0.37 0.09 0.23 0.21]\n",
      " [0.61 0.   0.42 0.13 0.45 0.13 0.22 0.23]\n",
      " [0.28 0.42 0.   0.06 0.35 0.03 0.27 0.36]\n",
      " [0.04 0.13 0.06 0.   0.18 0.03 0.24 0.09]\n",
      " [0.37 0.45 0.35 0.18 0.   0.05 0.28 0.13]\n",
      " [0.09 0.13 0.03 0.03 0.05 0.   0.05 0.06]\n",
      " [0.23 0.22 0.27 0.24 0.28 0.05 0.   0.53]\n",
      " [0.21 0.23 0.36 0.09 0.13 0.06 0.53 0.  ]]\n"
     ]
    }
   ],
   "source": [
    "C, L, results = ox.subjcorr_luriegold(R)\n",
    "print(\"Fitted Correlation Matrix\")\n",
    "print(C.round(2))\n",
    "print(\"Is Det(C)>=0 ? \", np.linalg.det(C))\n",
    "print(\"\\nDiff\")\n",
    "print(np.abs(R-C).round(2))"
   ]
  },
  {
   "cell_type": "markdown",
   "metadata": {},
   "source": [
    "### Links\n",
    "* Philip M. Lurie, Matthew S. Goldberg, 1998. An Approximate Method for Sampling Correlated Random Variables from Partially-Specified Distributions. Management Science 44, 203–218. [researchgate](https://www.researchgate.net/profile/Philip_Lurie/publication/227447095_An_Approximate_Method_for_Sampling_Correlated_Random_Variables_from_Partially-Specified_Distributions/links/562ec86f08aef25a2444538c.pdf), \n"
   ]
  }
 ],
 "metadata": {
  "kernelspec": {
   "display_name": "Python 3",
   "language": "python",
   "name": "python3"
  },
  "language_info": {
   "codemirror_mode": {
    "name": "ipython",
    "version": 3
   },
   "file_extension": ".py",
   "mimetype": "text/x-python",
   "name": "python",
   "nbconvert_exporter": "python",
   "pygments_lexer": "ipython3",
   "version": "3.6.2"
  },
  "varInspector": {
   "cols": {
    "lenName": 16,
    "lenType": 16,
    "lenVar": 40
   },
   "kernels_config": {
    "python": {
     "delete_cmd_postfix": "",
     "delete_cmd_prefix": "del ",
     "library": "var_list.py",
     "varRefreshCmd": "print(var_dic_list())"
    },
    "r": {
     "delete_cmd_postfix": ") ",
     "delete_cmd_prefix": "rm(",
     "library": "var_list.r",
     "varRefreshCmd": "cat(var_dic_list()) "
    }
   },
   "types_to_exclude": [
    "module",
    "function",
    "builtin_function_or_method",
    "instance",
    "_Feature"
   ],
   "window_display": false
  }
 },
 "nbformat": 4,
 "nbformat_minor": 2
}
