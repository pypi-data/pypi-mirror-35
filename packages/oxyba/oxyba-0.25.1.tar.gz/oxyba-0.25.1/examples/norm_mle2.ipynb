{
 "cells": [
  {
   "cell_type": "raw",
   "metadata": {},
   "source": [
    "---\n",
    "title: \"norm_mle - Compare with Jackknife\"\n",
    "date: 2018-08-15T19:00:00+02:00\n",
    "draft: false\n",
    "tags: [norm_mle, linreg_ols_lu, linreg_predict]\n",
    "---"
   ]
  },
  {
   "cell_type": "code",
   "execution_count": 1,
   "metadata": {
    "ExecuteTime": {
     "end_time": "2018-08-14T13:06:37.368414Z",
     "start_time": "2018-08-14T13:06:36.995385Z"
    }
   },
   "outputs": [],
   "source": [
    "import warnings; warnings.filterwarnings('ignore')\n",
    "import time \n",
    "\n",
    "import numpy as np\n",
    "import oxyba as ox\n",
    "from importlib import reload; reload(ox);"
   ]
  },
  {
   "cell_type": "markdown",
   "metadata": {},
   "source": [
    "### Generate Random Data"
   ]
  },
  {
   "cell_type": "markdown",
   "metadata": {},
   "source": [
    "We choose a small $N=30+d$ to amplify the \"law of small numbers\" effect."
   ]
  },
  {
   "cell_type": "code",
   "execution_count": 2,
   "metadata": {
    "ExecuteTime": {
     "end_time": "2018-08-14T13:06:37.378435Z",
     "start_time": "2018-08-14T13:06:37.373489Z"
    }
   },
   "outputs": [],
   "source": [
    "mu_ = -0.05\n",
    "sd_ =  0.25\n",
    "N = 32"
   ]
  },
  {
   "cell_type": "markdown",
   "metadata": {},
   "source": [
    "Fixed seed of 42 for reproducibility."
   ]
  },
  {
   "cell_type": "code",
   "execution_count": 3,
   "metadata": {
    "ExecuteTime": {
     "end_time": "2018-08-14T13:06:37.389922Z",
     "start_time": "2018-08-14T13:06:37.384121Z"
    }
   },
   "outputs": [],
   "source": [
    "np.random.seed(42)\n",
    "y = np.random.normal(loc=mu_, scale=sd_, size=(N,1))"
   ]
  },
  {
   "cell_type": "markdown",
   "metadata": {},
   "source": [
    "### Prepare the Estimator Function handles"
   ]
  },
  {
   "cell_type": "markdown",
   "metadata": {},
   "source": [
    "Yes, we could just use `y.mean()` and `y.std()` but we can apply `linreg_ols_lu` to achieve the same with much more obscure lines of codes. "
   ]
  },
  {
   "cell_type": "code",
   "execution_count": 4,
   "metadata": {
    "ExecuteTime": {
     "end_time": "2018-08-14T13:06:37.404611Z",
     "start_time": "2018-08-14T13:06:37.395987Z"
    }
   },
   "outputs": [],
   "source": [
    "def func_norm_ols(y):\n",
    "    import numpy as np\n",
    "    import oxyba as ox\n",
    "    beta = ox.linreg_ols_lu(y=y, X=np.ones((len(y),1)))\n",
    "    yhat = ox.linreg_predict(np.ones((len(y),1)), beta)\n",
    "    se = np.std(y - yhat)\n",
    "    return np.array([beta[0][0], se]);\n",
    "    #return np.array([y.mean(), y.std()])"
   ]
  },
  {
   "cell_type": "markdown",
   "metadata": {},
   "source": [
    "We can also use `ox.norm_mle` directly but for the sake of consistency we put it into a wrapper"
   ]
  },
  {
   "cell_type": "code",
   "execution_count": 5,
   "metadata": {
    "ExecuteTime": {
     "end_time": "2018-08-14T13:06:37.418489Z",
     "start_time": "2018-08-14T13:06:37.409334Z"
    }
   },
   "outputs": [],
   "source": [
    "def func_norm_mle(y):\n",
    "    import oxyba as ox\n",
    "    mu,sd = ox.norm_mle(y)\n",
    "    return np.array([mu,sd])"
   ]
  },
  {
   "cell_type": "markdown",
   "metadata": {},
   "source": [
    "### Delete-1 Jackknife Estimation"
   ]
  },
  {
   "cell_type": "code",
   "execution_count": 6,
   "metadata": {
    "ExecuteTime": {
     "end_time": "2018-08-14T13:06:37.429999Z",
     "start_time": "2018-08-14T13:06:37.424211Z"
    }
   },
   "outputs": [],
   "source": [
    "d=2"
   ]
  },
  {
   "cell_type": "code",
   "execution_count": 7,
   "metadata": {
    "ExecuteTime": {
     "end_time": "2018-08-14T13:06:46.057477Z",
     "start_time": "2018-08-14T13:06:37.436101Z"
    }
   },
   "outputs": [
    {
     "name": "stdout",
     "output_type": "stream",
     "text": [
      "\n",
      "Delete-2 Jackknife, N=32, C(N,d)=496\n",
      "                                  1st Mom    2nd Mom  \n",
      "                      p-Values:    0.04960    0.00000 \n",
      "                      t-Scores:   -2.05223    8.64024 \n",
      " Jackknife Standard Error (SE):    0.04180    0.02826 \n",
      "   Jackknife Estimates (theta):   -0.086      0.244   \n",
      "     Jackknife Biased Estimate:   -0.084      0.232   \n",
      "          Full Sample Estimate:   -0.084      0.233   \n",
      "norm_mle in 8.531778 seconds\n",
      "\n",
      "Delete-2 Jackknife, N=32, C(N,d)=496\n",
      "                                  1st Mom    2nd Mom  \n",
      "                      p-Values:    0.05337    0.00000 \n",
      "                      t-Scores:   -2.01703    8.63729 \n",
      " Jackknife Standard Error (SE):    0.04181    0.02826 \n",
      "   Jackknife Estimates (theta):   -0.084      0.244   \n",
      "     Jackknife Biased Estimate:   -0.084      0.232   \n",
      "          Full Sample Estimate:   -0.084      0.233   \n",
      "func_norm_ols in 0.076866 seconds\n"
     ]
    }
   ],
   "source": [
    "for myfunc in (ox.norm_mle, func_norm_ols):\n",
    "    #measure time\n",
    "    start_time = time.time()\n",
    "    theta_subs, theta_full = ox.jackknife_loop(myfunc, y, d=d);\n",
    "    proc_time = time.time() - start_time;\n",
    "\n",
    "    #output some stats\n",
    "    pvalues, tscores, theta_jack, se_jack, theta_biased = ox.jackknife_stats(theta_subs, theta_full, N=N, d=d);\n",
    "    ox.jackknife_print(pvalues, tscores, theta_jack, se_jack, theta_biased, theta_full, ['1st Mom','2nd Mom'], N=N, d=d);\n",
    "    print('{:s} in {:.6f} seconds'.format(myfunc.__name__, proc_time))"
   ]
  },
  {
   "cell_type": "markdown",
   "metadata": {},
   "source": [
    "The MLE jackknife estimate has a slightly smaller p-value for $\\mu$ than the OLS variant. \n",
    "However, both still failed to estimate the $\\mu$ parameter. \n",
    "A p-value around 0.05 is just worthless."
   ]
  }
 ],
 "metadata": {
  "kernelspec": {
   "display_name": "Python 3",
   "language": "python",
   "name": "python3"
  },
  "language_info": {
   "codemirror_mode": {
    "name": "ipython",
    "version": 3
   },
   "file_extension": ".py",
   "mimetype": "text/x-python",
   "name": "python",
   "nbconvert_exporter": "python",
   "pygments_lexer": "ipython3",
   "version": "3.6.2"
  },
  "varInspector": {
   "cols": {
    "lenName": 16,
    "lenType": 16,
    "lenVar": 40
   },
   "kernels_config": {
    "python": {
     "delete_cmd_postfix": "",
     "delete_cmd_prefix": "del ",
     "library": "var_list.py",
     "varRefreshCmd": "print(var_dic_list())"
    },
    "r": {
     "delete_cmd_postfix": ") ",
     "delete_cmd_prefix": "rm(",
     "library": "var_list.r",
     "varRefreshCmd": "cat(var_dic_list()) "
    }
   },
   "types_to_exclude": [
    "module",
    "function",
    "builtin_function_or_method",
    "instance",
    "_Feature"
   ],
   "window_display": false
  }
 },
 "nbformat": 4,
 "nbformat_minor": 2
}
