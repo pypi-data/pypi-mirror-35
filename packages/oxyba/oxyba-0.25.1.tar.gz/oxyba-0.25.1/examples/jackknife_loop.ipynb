{
 "cells": [
  {
   "cell_type": "raw",
   "metadata": {},
   "source": [
    "---\n",
    "title: \"jackknife_loop\"\n",
    "date: 2018-08-02T19:00:00+02:00\n",
    "draft: false\n",
    "tags: [jackknife_loop, jackknife_stats, jackknife_print, model development]\n",
    "---"
   ]
  },
  {
   "cell_type": "code",
   "execution_count": 1,
   "metadata": {
    "ExecuteTime": {
     "end_time": "2018-08-02T17:14:33.769778Z",
     "start_time": "2018-08-02T17:14:30.705471Z"
    }
   },
   "outputs": [],
   "source": [
    "import warnings; warnings.filterwarnings('ignore')\n",
    "%matplotlib inline\n",
    "import numpy as np\n",
    "import oxyba as ox\n",
    "from importlib import reload; reload(ox);\n",
    "\n",
    "from sklearn.model_selection import train_test_split\n",
    "from sklearn.datasets import load_boston"
   ]
  },
  {
   "cell_type": "markdown",
   "metadata": {},
   "source": [
    "### Load Demo Dataset\n",
    "At this point we will just load the demo dataset into a `tmp` list."
   ]
  },
  {
   "cell_type": "code",
   "execution_count": 2,
   "metadata": {
    "ExecuteTime": {
     "end_time": "2018-08-02T17:14:33.795654Z",
     "start_time": "2018-08-02T17:14:33.774218Z"
    }
   },
   "outputs": [],
   "source": [
    "tmp = load_boston()"
   ]
  },
  {
   "cell_type": "markdown",
   "metadata": {},
   "source": [
    "### Our Model\n",
    "The model is an multivariate OLS regression (`oxyba.linreg_ols_lu`).\n",
    "It is wrapped in `myfunc` what accept 1 variable `data` and returns the estimated coefficients."
   ]
  },
  {
   "cell_type": "code",
   "execution_count": 3,
   "metadata": {
    "ExecuteTime": {
     "end_time": "2018-08-02T17:14:33.808645Z",
     "start_time": "2018-08-02T17:14:33.800839Z"
    }
   },
   "outputs": [],
   "source": [
    "def myfunc(data):\n",
    "    import oxyba as ox;\n",
    "    return ox.linreg_ols_lu( data[:,0], data[:,1:] );"
   ]
  },
  {
   "cell_type": "markdown",
   "metadata": {},
   "source": [
    "The wrapper function fulfills the assumptions for the input argument `func` of the `oxyba.jackknife_loop` routine."
   ]
  },
  {
   "cell_type": "markdown",
   "metadata": {},
   "source": [
    "### First Try\n",
    "The first model has an intercept, and two features as independent variables.\n",
    "There is no further data processing."
   ]
  },
  {
   "cell_type": "code",
   "execution_count": 4,
   "metadata": {
    "ExecuteTime": {
     "end_time": "2018-08-02T17:14:33.821703Z",
     "start_time": "2018-08-02T17:14:33.813694Z"
    }
   },
   "outputs": [],
   "source": [
    "varnames = ['intercept'] + list(tmp.feature_names[[5,12]])\n",
    "y = tmp.target\n",
    "X = np.c_[ np.ones(shape=(len(y),1)), tmp.data[:,[5,12]] ];"
   ]
  },
  {
   "cell_type": "markdown",
   "metadata": {},
   "source": [
    "We will use just 10% of the full sample as training set"
   ]
  },
  {
   "cell_type": "code",
   "execution_count": 5,
   "metadata": {
    "ExecuteTime": {
     "end_time": "2018-08-02T17:14:33.843016Z",
     "start_time": "2018-08-02T17:14:33.827529Z"
    }
   },
   "outputs": [
    {
     "data": {
      "text/plain": [
       "50"
      ]
     },
     "execution_count": 5,
     "metadata": {},
     "output_type": "execute_result"
    }
   ],
   "source": [
    "X_train, X_test, y_train, y_test = train_test_split(X,y,test_size=0.9, random_state=42)\n",
    "N = len(y_train)\n",
    "N"
   ]
  },
  {
   "cell_type": "markdown",
   "metadata": {},
   "source": [
    "The Jackknife procedure makes a lot of sense for smaller dataset `N>=40`.\n",
    "Thus, `N=50` is choosen as training set for demonstration purposes.\n",
    "\n",
    "Let's compute the Jackknife with d=1 to 3."
   ]
  },
  {
   "cell_type": "code",
   "execution_count": 6,
   "metadata": {
    "ExecuteTime": {
     "end_time": "2018-08-02T17:14:36.631636Z",
     "start_time": "2018-08-02T17:14:33.849622Z"
    }
   },
   "outputs": [
    {
     "name": "stdout",
     "output_type": "stream",
     "text": [
      "\n",
      "Delete-1 Jackknife, N=50\n",
      "                                 intercept     RM        LSTAT   \n",
      "                      p-Values:    0.62570    0.09172    0.09315 \n",
      "                      t-Scores:   -0.49109    1.72239   -1.71460 \n",
      " Jackknife Standard Error (SE):   25.77396    3.75935    0.24130 \n",
      "   Jackknife Estimates (theta):  -12.657      6.475     -0.414   \n",
      "     Jackknife Biased Estimate:   -4.975      5.313     -0.461   \n",
      "          Full Sample Estimate:   -5.128      5.336     -0.460   \n",
      "                 In-sample MSE:   33.404\n",
      "             Out-of-sample MSE:   32.116\n",
      "\n",
      "Delete-2 Jackknife, N=50, C(N,d)=1225\n",
      "                                 intercept     RM        LSTAT   \n",
      "                      p-Values:    0.43110    0.04702    0.13620 \n",
      "                      t-Scores:   -0.79446    2.04215   -1.51723 \n",
      " Jackknife Standard Error (SE):   25.67814    3.74443    0.24101 \n",
      "   Jackknife Estimates (theta):  -20.400      7.647     -0.366   \n",
      "     Jackknife Biased Estimate:   -4.817      5.289     -0.462   \n",
      "          Full Sample Estimate:   -5.128      5.336     -0.460   \n",
      "                 In-sample MSE:   34.467\n",
      "             Out-of-sample MSE:   33.420\n",
      "\n",
      "Delete-3 Jackknife, N=50, C(N,d)=19600\n",
      "                                 intercept     RM        LSTAT   \n",
      "                      p-Values:    0.27350    0.02204    0.19593 \n",
      "                      t-Scores:   -1.10890    2.37371   -1.31318 \n",
      " Jackknife Standard Error (SE):   25.58046    3.72921    0.24072 \n",
      "   Jackknife Estimates (theta):  -28.366      8.852     -0.316   \n",
      "     Jackknife Biased Estimate:   -4.654      5.264     -0.463   \n",
      "          Full Sample Estimate:   -5.128      5.336     -0.460   \n",
      "                 In-sample MSE:   36.314\n",
      "             Out-of-sample MSE:   35.840\n"
     ]
    }
   ],
   "source": [
    "for d in [1,2,3]:\n",
    "    theta_subsample, theta_fullsample = ox.jackknife_loop(myfunc, np.c_[y_train, X_train], d=d);\n",
    "    pvalues, tscores, theta_jack, se_jack, theta_biased = ox.jackknife_stats(theta_subsample, theta_fullsample, N=N, d=d)\n",
    "    ox.jackknife_print(pvalues, tscores, theta_jack, se_jack, theta_biased, theta_fullsample, varnames, N, d)\n",
    "    \n",
    "    ins = ox.linreg_mse( y_train, X_train, theta_jack )\n",
    "    out = ox.linreg_mse( y_test, X_test, theta_jack )\n",
    "    print('{0:>30s}: {1:8.3f}'.format('In-sample MSE', ins))\n",
    "    print('{0:>30s}: {1:8.3f}'.format('Out-of-sample MSE', out))"
   ]
  },
  {
   "cell_type": "markdown",
   "metadata": {},
   "source": [
    "This does not look good. \n",
    "Why? Especially the intercept term is far away from being stable. \n",
    "The intercept's high p-value strongly indicates that the Jackknife Estimate (theta) is just chance.\n",
    "You can even eyeball that the Jackknife Standard Error (SE) is relativly huge compared to the absolute Jackknife Estimate - It's almost 1-to-1. In case of the `RM` variables it is about 2-to-5 (pvalue 0.02). \n",
    "\n",
    "Conclusion: **We must reject this model**\n",
    "\n"
   ]
  },
  {
   "cell_type": "markdown",
   "metadata": {},
   "source": [
    "### Second Try - Remove the Intercept Term\n",
    "Again, the same, the same training data, the same independent variables except the intercept term"
   ]
  },
  {
   "cell_type": "code",
   "execution_count": 7,
   "metadata": {
    "ExecuteTime": {
     "end_time": "2018-08-02T17:14:38.618853Z",
     "start_time": "2018-08-02T17:14:36.636008Z"
    },
    "scrolled": false
   },
   "outputs": [
    {
     "name": "stdout",
     "output_type": "stream",
     "text": [
      "\n",
      "Delete-1 Jackknife, N=50\n",
      "                                    RM        LSTAT   \n",
      "                      p-Values:    0.00000    0.00055 \n",
      "                      t-Scores:   15.87989   -3.70640 \n",
      " Jackknife Standard Error (SE):    0.28963    0.13362 \n",
      "   Jackknife Estimates (theta):    4.599     -0.495   \n",
      "     Jackknife Biased Estimate:    4.610     -0.506   \n",
      "          Full Sample Estimate:    4.610     -0.506   \n",
      "                 In-sample MSE:   33.197\n",
      "             Out-of-sample MSE:   32.084\n",
      "\n",
      "Delete-2 Jackknife, N=50, C(N,d)=1225\n",
      "                                    RM        LSTAT   \n",
      "                      p-Values:    0.00000    0.00072 \n",
      "                      t-Scores:   15.83443   -3.62287 \n",
      " Jackknife Standard Error (SE):    0.28975    0.13372 \n",
      "   Jackknife Estimates (theta):    4.588     -0.484   \n",
      "     Jackknife Biased Estimate:    4.610     -0.506   \n",
      "          Full Sample Estimate:    4.610     -0.506   \n",
      "                 In-sample MSE:   33.228\n",
      "             Out-of-sample MSE:   32.342\n",
      "\n",
      "Delete-3 Jackknife, N=50, C(N,d)=19600\n",
      "                                    RM        LSTAT   \n",
      "                      p-Values:    0.00000    0.00096 \n",
      "                      t-Scores:   15.78682   -3.53548 \n",
      " Jackknife Standard Error (SE):    0.28989    0.13381 \n",
      "   Jackknife Estimates (theta):    4.576     -0.473   \n",
      "     Jackknife Biased Estimate:    4.611     -0.506   \n",
      "          Full Sample Estimate:    4.610     -0.506   \n",
      "                 In-sample MSE:   33.282\n",
      "             Out-of-sample MSE:   32.637\n"
     ]
    }
   ],
   "source": [
    "varnames = list(tmp.feature_names[[5,12]])\n",
    "y = tmp.target\n",
    "X = tmp.data[:,[5,12]];\n",
    "\n",
    "X_train, X_test, y_train, y_test = train_test_split(X,y,test_size=0.9, random_state=42)\n",
    "N = len(y_train)\n",
    "\n",
    "for d in [1,2,3]:\n",
    "    theta_subsample, theta_fullsample = ox.jackknife_loop(myfunc, np.c_[y_train, X_train], d=d);\n",
    "    pvalues, tscores, theta_jack, se_jack, theta_biased = ox.jackknife_stats(theta_subsample, theta_fullsample, N=N, d=d)\n",
    "    ox.jackknife_print(pvalues, tscores, theta_jack, se_jack, theta_biased, theta_fullsample, varnames, N, d)\n",
    "    \n",
    "    ins = ox.linreg_mse( y_train, X_train, theta_jack )\n",
    "    out = ox.linreg_mse( y_test, X_test, theta_jack )\n",
    "    print('{0:>30s}: {1:8.3f}'.format('In-sample MSE', ins))\n",
    "    print('{0:>30s}: {1:8.3f}'.format('Out-of-sample MSE', out))"
   ]
  },
  {
   "cell_type": "markdown",
   "metadata": {},
   "source": [
    "And the p-values indicate that the Jackknife Estimates (theta) are stable.\n",
    "Compared to the 1st try, both `RM` and `LSTAT` coefficients improved a lot, i.e. lower Jackknife SE and as a result lower, more significant p-values.\n",
    "\n",
    "As interesting side note, you will **not** detect parameter (in)stability from out-of-sample performance, model scores, etc. like MSE. The 1st and 2nd model perform about the same, and out-of-sample performance confirms the in-sample performance. \n",
    "\n",
    "Conclusion: **Model accepted**"
   ]
  }
 ],
 "metadata": {
  "kernelspec": {
   "display_name": "Python 3",
   "language": "python",
   "name": "python3"
  },
  "language_info": {
   "codemirror_mode": {
    "name": "ipython",
    "version": 3
   },
   "file_extension": ".py",
   "mimetype": "text/x-python",
   "name": "python",
   "nbconvert_exporter": "python",
   "pygments_lexer": "ipython3",
   "version": "3.6.2"
  },
  "varInspector": {
   "cols": {
    "lenName": 16,
    "lenType": 16,
    "lenVar": 40
   },
   "kernels_config": {
    "python": {
     "delete_cmd_postfix": "",
     "delete_cmd_prefix": "del ",
     "library": "var_list.py",
     "varRefreshCmd": "print(var_dic_list())"
    },
    "r": {
     "delete_cmd_postfix": ") ",
     "delete_cmd_prefix": "rm(",
     "library": "var_list.r",
     "varRefreshCmd": "cat(var_dic_list()) "
    }
   },
   "types_to_exclude": [
    "module",
    "function",
    "builtin_function_or_method",
    "instance",
    "_Feature"
   ],
   "window_display": false
  }
 },
 "nbformat": 4,
 "nbformat_minor": 2
}
