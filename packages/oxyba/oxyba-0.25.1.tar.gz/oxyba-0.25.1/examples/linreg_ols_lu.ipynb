{
 "cells": [
  {
   "cell_type": "raw",
   "metadata": {},
   "source": [
    "---\n",
    "title: \"linreg_ols_lu\"\n",
    "date: 2018-07-26T13:00:00+02:00\n",
    "draft: false\n",
    "tags: [linreg_ols_lu]\n",
    "---"
   ]
  },
  {
   "cell_type": "code",
   "execution_count": 1,
   "metadata": {
    "ExecuteTime": {
     "end_time": "2018-07-26T15:01:28.363447Z",
     "start_time": "2018-07-26T15:01:28.076569Z"
    }
   },
   "outputs": [],
   "source": [
    "import warnings; warnings.filterwarnings('ignore')\n",
    "import numpy as np\n",
    "import oxyba as ox; from importlib import reload; reload(ox);\n",
    "from time import perf_counter, process_time"
   ]
  },
  {
   "cell_type": "markdown",
   "metadata": {
    "ExecuteTime": {
     "end_time": "2018-07-26T07:09:49.553674Z",
     "start_time": "2018-07-26T07:09:49.549482Z"
    }
   },
   "source": [
    "### Load Demo Dataset"
   ]
  },
  {
   "cell_type": "code",
   "execution_count": 2,
   "metadata": {
    "ExecuteTime": {
     "end_time": "2018-07-26T15:01:29.433221Z",
     "start_time": "2018-07-26T15:01:28.367232Z"
    }
   },
   "outputs": [],
   "source": [
    "from sklearn.datasets import load_boston\n",
    "tmp = load_boston()\n",
    "num_obs = len(tmp.target);\n",
    "y = tmp.target\n",
    "X = np.c_[ np.ones(shape=(num_obs,1)), tmp.data[:,[5,12]] ];"
   ]
  },
  {
   "cell_type": "markdown",
   "metadata": {},
   "source": [
    "### How to estimate? (What is OLS?)\n",
    "Let $y \\in \\mathbb{R}^{n \\times 1}$ the dependent variable, \n",
    "$X \\in \\mathbb{R}^{n \\times m}$ the indendent variables (including the intercept), \n",
    "and $\\beta \\in \\mathbb{R}^{m \\times 1}$ the regression coefficients.\n",
    "\n",
    "The residuals or errors $\\epsilon \\in \\mathbb{R}^{n \\times 1}$ are the difference between $y$ and the prediction $X\\beta$ \n",
    "\n",
    "$$\n",
    "\\epsilon = y - X \\beta\n",
    "$$\n",
    "\n",
    "and the **Mean Squared Error** is\n",
    "\n",
    "$$\n",
    "MSE(\\beta) = \\frac{1}{n} \\epsilon^T \\epsilon \n",
    "$$\n",
    "\n",
    "The **gradient** of the MSE is\n",
    "\n",
    "$$\n",
    "\\nabla \\, MSE(\\beta) = \\frac{2}{n} (X^T X\\beta - X^T y)\n",
    "$$\n",
    "\n",
    "The gradient would be $\\nabla MSE(\\hat{\\beta}) = 0$ for the **optimum** solution $\\hat{\\beta}$\n",
    "\n",
    "$$\n",
    "0 = X^T X\\hat{\\beta} - X^T y \\\\\n",
    "\\Leftrightarrow \\hat{\\beta} = (X^T X)^{-1} - (X^T y)\n",
    "$$\n",
    "\n",
    "The Ordinary Least Square (OLS) method is basically a) setting the gradient of the MSE to zero, and b) solving after $\\beta$."
   ]
  },
  {
   "cell_type": "markdown",
   "metadata": {},
   "source": [
    "### Solving by LU decomposition\n",
    "The oxyba package has a function `linreg_ols_lu`. \n",
    "In this chapter we will compare different implementations in python.\n",
    "\n",
    "At its core `linreg_ols_lu` tries to solve $Ax=b$ wheras $A=X^T X$, $x=\\beta$ and $b=X^T y$\n",
    "\n",
    "$$\n",
    "\\min_x Ax - b\n",
    "$$\n",
    "\n",
    "wheras LU decomposition is applied to $A = LU = PA$ at some point in the program."
   ]
  },
  {
   "cell_type": "markdown",
   "metadata": {},
   "source": [
    "The second test implementation (I spare you from the first one) appies scipy's [lu_factor](https://docs.scipy.org/doc/scipy-0.13.0/reference/generated/scipy.linalg.lu_factor.html#scipy.linalg.lu_factor) and [lu_solve](https://docs.scipy.org/doc/scipy-0.13.0/reference/generated/scipy.linalg.lu_solve.html#scipy.linalg.lu_solve) after another.\n",
    "`func2_pretty` is the more readable and slower version of `func2_faster`."
   ]
  },
  {
   "cell_type": "code",
   "execution_count": 3,
   "metadata": {
    "ExecuteTime": {
     "end_time": "2018-07-26T15:01:29.444377Z",
     "start_time": "2018-07-26T15:01:29.437118Z"
    }
   },
   "outputs": [],
   "source": [
    "def func2_pretty(y,X):\n",
    "    from numpy import dot;\n",
    "    from scipy.linalg import lu_factor, lu_solve;\n",
    "    A = dot(X.T, X);\n",
    "    b = dot(X.T, y);\n",
    "    lu,piv = lu_factor(A)\n",
    "    return lu_solve((lu,piv),b)"
   ]
  },
  {
   "cell_type": "code",
   "execution_count": 4,
   "metadata": {
    "ExecuteTime": {
     "end_time": "2018-07-26T15:01:29.453914Z",
     "start_time": "2018-07-26T15:01:29.448414Z"
    }
   },
   "outputs": [],
   "source": [
    "def func2_faster(y,X):\n",
    "    import numpy as np;\n",
    "    import scipy;\n",
    "    return scipy.linalg.lu_solve(scipy.linalg.lu_factor(np.dot(X.T,X)), np.dot(X.T,y));"
   ]
  },
  {
   "cell_type": "markdown",
   "metadata": {},
   "source": [
    "The third implementation is used for `linreg_ols_lu`. \n",
    "It applies Numpy's [solve](https://docs.scipy.org/doc/numpy-1.14.0/reference/generated/numpy.linalg.solve.html)\n",
    "what in turn is based on LAPACK's [_gesv](http://www.netlib.org/lapack/explore-html/d7/d3b/group__double_g_esolve_ga5ee879032a8365897c3ba91e3dc8d512.html#ga5ee879032a8365897c3ba91e3dc8d512)\n",
    "that applies LU decomposition. \n",
    "It is not really obvious that `numpy.linalg.solve` is Linear Regression by LU decomposition if you don't read the manual. \n",
    "`func3_pretty` is the more readable and slower version of `func3_faster`."
   ]
  },
  {
   "cell_type": "code",
   "execution_count": 5,
   "metadata": {
    "ExecuteTime": {
     "end_time": "2018-07-26T15:01:29.464169Z",
     "start_time": "2018-07-26T15:01:29.458312Z"
    }
   },
   "outputs": [],
   "source": [
    "def func3_pretty(y,X):\n",
    "    from numpy import dot;\n",
    "    from numpy.linalg import solve;\n",
    "    return solve(dot(X.T,X), dot(X.T,y));"
   ]
  },
  {
   "cell_type": "code",
   "execution_count": 6,
   "metadata": {
    "ExecuteTime": {
     "end_time": "2018-07-26T15:01:29.475896Z",
     "start_time": "2018-07-26T15:01:29.468787Z"
    }
   },
   "outputs": [],
   "source": [
    "def func3_faster(y,X):\n",
    "    import numpy as np;\n",
    "    return np.linalg.solve(np.dot(X.T,X), np.dot(X.T,y));"
   ]
  },
  {
   "cell_type": "markdown",
   "metadata": {},
   "source": [
    "Surprise, surprise. Numpy's [inv](https://docs.scipy.org/doc/numpy/reference/generated/numpy.linalg.inv.html#numpy.linalg.inv) is actually a wrapper for `numpy.linalg.solve`."
   ]
  },
  {
   "cell_type": "code",
   "execution_count": 7,
   "metadata": {
    "ExecuteTime": {
     "end_time": "2018-07-26T15:01:29.489254Z",
     "start_time": "2018-07-26T15:01:29.481648Z"
    }
   },
   "outputs": [],
   "source": [
    "def func4_pretty(y,X):\n",
    "    from numpy import dot\n",
    "    from numpy.linalg import inv\n",
    "    x2inv = inv(dot(X.T, X));\n",
    "    return dot(x2inv, dot(X.T,y)) "
   ]
  },
  {
   "cell_type": "code",
   "execution_count": 8,
   "metadata": {
    "ExecuteTime": {
     "end_time": "2018-07-26T15:01:29.503175Z",
     "start_time": "2018-07-26T15:01:29.494970Z"
    }
   },
   "outputs": [],
   "source": [
    "def func4_faster(y,X):\n",
    "    import numpy as np\n",
    "    return np.dot(np.linalg.inv(np.dot(X.T, X)), np.dot(X.T,y)) "
   ]
  },
  {
   "cell_type": "markdown",
   "metadata": {},
   "source": [
    "### Benchmark"
   ]
  },
  {
   "cell_type": "code",
   "execution_count": 9,
   "metadata": {
    "ExecuteTime": {
     "end_time": "2018-07-26T15:01:29.510852Z",
     "start_time": "2018-07-26T15:01:29.506185Z"
    }
   },
   "outputs": [],
   "source": [
    "trials = 50000\n",
    "funcnames = [func2_pretty, func2_faster, \n",
    "             func3_pretty, func3_faster, \n",
    "             func4_pretty, func4_faster, \n",
    "             ox.linreg_ols_lu]"
   ]
  },
  {
   "cell_type": "markdown",
   "metadata": {},
   "source": [
    "Let's conduct a quick check if results are correct"
   ]
  },
  {
   "cell_type": "code",
   "execution_count": 10,
   "metadata": {
    "ExecuteTime": {
     "end_time": "2018-07-26T15:01:29.529172Z",
     "start_time": "2018-07-26T15:01:29.515133Z"
    }
   },
   "outputs": [
    {
     "name": "stdout",
     "output_type": "stream",
     "text": [
      "func2_pretty [-1.35827281  5.09478798 -0.64235833]\n",
      "func2_faster [-1.35827281  5.09478798 -0.64235833]\n",
      "func3_pretty [-1.35827281  5.09478798 -0.64235833]\n",
      "func3_faster [-1.35827281  5.09478798 -0.64235833]\n",
      "func4_pretty [-1.35827281  5.09478798 -0.64235833]\n",
      "func4_faster [-1.35827281  5.09478798 -0.64235833]\n",
      "linreg_ols_lu [-1.35827281  5.09478798 -0.64235833]\n"
     ]
    }
   ],
   "source": [
    "for func in funcnames:\n",
    "    beta = func(y,X);\n",
    "    print(func.__name__, beta);"
   ]
  },
  {
   "cell_type": "markdown",
   "metadata": {},
   "source": [
    "Looks Ok. Proceed with the benchmark"
   ]
  },
  {
   "cell_type": "code",
   "execution_count": 11,
   "metadata": {
    "ExecuteTime": {
     "end_time": "2018-07-26T15:01:49.050995Z",
     "start_time": "2018-07-26T15:01:29.534182Z"
    }
   },
   "outputs": [
    {
     "name": "stdout",
     "output_type": "stream",
     "text": [
      "Clock  CPU    function name\n",
      "5.0989 4.9988 func2_pretty\n",
      "4.7060 4.6117 func2_faster\n",
      "2.0440 2.0014 func3_pretty\n",
      "1.7836 1.7566 func3_faster\n",
      "1.9170 1.8274 func4_pretty\n",
      "1.8330 1.8001 func4_faster\n",
      "2.1270 2.0063 linreg_ols_lu\n"
     ]
    }
   ],
   "source": [
    "print('{0:6s} {1:6s} {2:s}'.format('Clock', 'CPU', 'function name'))\n",
    "for func in funcnames:\n",
    "    sh,sc = perf_counter(), process_time();\n",
    "    for i in range(trials):\n",
    "        beta = func(y,X); \n",
    "        if beta is None: print('error solving')\n",
    "        beta = None;\n",
    "    eh,ec = perf_counter(), process_time()\n",
    "    print('{0:.4f} {1:.4f} {2:s}'.format(eh-sh, ec-sc, func.__name__))"
   ]
  },
  {
   "cell_type": "markdown",
   "metadata": {},
   "source": [
    "Scipy's `lu_factor` and `lu_solve` (`func2...`) are likely to be slower than Numpy's `solve` (`func3...`) due to the overhead by calling external C functions (LAPACK) twice.\n",
    "\n",
    "`func4_...` (Numpy's `inv`) is as fast as `func3_...` (Numpy's `solve`) \n",
    "but I prefer `func3_faster` for my wrapper function `linreg_ols_lu`.\n",
    "\n",
    "`linreg_ols_lu` is a little it slower than `func3_faster` due to additional error checking."
   ]
  }
 ],
 "metadata": {
  "kernelspec": {
   "display_name": "Python 3",
   "language": "python",
   "name": "python3"
  },
  "language_info": {
   "codemirror_mode": {
    "name": "ipython",
    "version": 3
   },
   "file_extension": ".py",
   "mimetype": "text/x-python",
   "name": "python",
   "nbconvert_exporter": "python",
   "pygments_lexer": "ipython3",
   "version": "3.6.2"
  },
  "varInspector": {
   "cols": {
    "lenName": 16,
    "lenType": 16,
    "lenVar": 40
   },
   "kernels_config": {
    "python": {
     "delete_cmd_postfix": "",
     "delete_cmd_prefix": "del ",
     "library": "var_list.py",
     "varRefreshCmd": "print(var_dic_list())"
    },
    "r": {
     "delete_cmd_postfix": ") ",
     "delete_cmd_prefix": "rm(",
     "library": "var_list.r",
     "varRefreshCmd": "cat(var_dic_list()) "
    }
   },
   "types_to_exclude": [
    "module",
    "function",
    "builtin_function_or_method",
    "instance",
    "_Feature"
   ],
   "window_display": false
  }
 },
 "nbformat": 4,
 "nbformat_minor": 2
}
