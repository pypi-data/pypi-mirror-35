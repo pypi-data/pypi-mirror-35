{
 "cells": [
  {
   "cell_type": "raw",
   "metadata": {},
   "source": [
    "---\n",
    "title: \"linreg_mle\"\n",
    "date: 2018-08-14T16:00:00+02:00\n",
    "draft: false\n",
    "tags: [linreg_mle, rand_bivar, corr, linreg_ols, linreg_predict]\n",
    "---"
   ]
  },
  {
   "cell_type": "code",
   "execution_count": 1,
   "metadata": {
    "ExecuteTime": {
     "end_time": "2018-08-14T14:49:01.979048Z",
     "start_time": "2018-08-14T14:49:01.730096Z"
    }
   },
   "outputs": [],
   "source": [
    "import warnings; warnings.filterwarnings('ignore')\n",
    "\n",
    "import numpy as np\n",
    "import oxyba as ox\n",
    "from importlib import reload; reload(ox);"
   ]
  },
  {
   "cell_type": "markdown",
   "metadata": {},
   "source": [
    "### Generate correlated random numbers"
   ]
  },
  {
   "cell_type": "markdown",
   "metadata": {},
   "source": [
    "The first random variable is $Y\\sim N(3,0.5)$ and the second $X \\sim N(0,0.5)$.\n",
    "Therefore, the regression model $y = \\beta_0 = \\beta_1 X + \\epsilon$ \n",
    "should have residuals $\\epsilon \\sim N(0,0.5)$ and an intercept $\\beta_0 = 3$"
   ]
  },
  {
   "cell_type": "code",
   "execution_count": 2,
   "metadata": {
    "ExecuteTime": {
     "end_time": "2018-08-14T14:49:01.987743Z",
     "start_time": "2018-08-14T14:49:01.982919Z"
    }
   },
   "outputs": [],
   "source": [
    "N = 1000\n",
    "np.random.seed(11)\n",
    "data = np.random.normal(loc=[3.0, 0.0], scale=[0.5, 0.5], size=(N,2))"
   ]
  },
  {
   "cell_type": "markdown",
   "metadata": {},
   "source": [
    "Make it correlated with $\\rho=.25$. \n",
    "Thus the regression coefficient should be estimated as $\\beta_1 = 0.25$."
   ]
  },
  {
   "cell_type": "code",
   "execution_count": 3,
   "metadata": {
    "ExecuteTime": {
     "end_time": "2018-08-14T14:49:01.995423Z",
     "start_time": "2018-08-14T14:49:01.991399Z"
    }
   },
   "outputs": [],
   "source": [
    "data = ox.rand_bivar(data, .25)"
   ]
  },
  {
   "cell_type": "markdown",
   "metadata": {},
   "source": [
    "A little check what $\\rho$ can be computed from this fake dataset"
   ]
  },
  {
   "cell_type": "code",
   "execution_count": 4,
   "metadata": {
    "ExecuteTime": {
     "end_time": "2018-08-14T14:49:02.547974Z",
     "start_time": "2018-08-14T14:49:02.000212Z"
    }
   },
   "outputs": [
    {
     "name": "stdout",
     "output_type": "stream",
     "text": [
      "Beta1 coefficient is expected to be:  0.26653508085149163\n"
     ]
    }
   ],
   "source": [
    "rho,_ = ox.corr(data)\n",
    "rho = rho[0][1]\n",
    "print(\"Beta1 coefficient is expected to be: \", rho)"
   ]
  },
  {
   "cell_type": "markdown",
   "metadata": {},
   "source": [
    "### Prepare y and X"
   ]
  },
  {
   "cell_type": "markdown",
   "metadata": {},
   "source": [
    "Define `y` and `X` in python. Ones are added to `X` for the intercept estimation."
   ]
  },
  {
   "cell_type": "code",
   "execution_count": 5,
   "metadata": {
    "ExecuteTime": {
     "end_time": "2018-08-14T14:49:02.557570Z",
     "start_time": "2018-08-14T14:49:02.552007Z"
    }
   },
   "outputs": [],
   "source": [
    "y = data[:,0]\n",
    "X = np.c_[np.ones((len(y),1)), data[:,1]]"
   ]
  },
  {
   "cell_type": "markdown",
   "metadata": {},
   "source": [
    "### Estimate Parameters"
   ]
  },
  {
   "cell_type": "markdown",
   "metadata": {},
   "source": [
    "Run the MLE estimation. The results looks similar to what is expected."
   ]
  },
  {
   "cell_type": "code",
   "execution_count": 6,
   "metadata": {
    "ExecuteTime": {
     "end_time": "2018-08-14T14:49:02.642825Z",
     "start_time": "2018-08-14T14:49:02.562328Z"
    }
   },
   "outputs": [
    {
     "name": "stdout",
     "output_type": "stream",
     "text": [
      "[2.79380104 0.27366747]\n"
     ]
    }
   ],
   "source": [
    "beta = ox.linreg_mle(y,X)\n",
    "print(beta)"
   ]
  },
  {
   "cell_type": "markdown",
   "metadata": {},
   "source": [
    "Let's compare it againts OLS regression."
   ]
  },
  {
   "cell_type": "code",
   "execution_count": 7,
   "metadata": {
    "ExecuteTime": {
     "end_time": "2018-08-14T14:49:02.656376Z",
     "start_time": "2018-08-14T14:49:02.647575Z"
    }
   },
   "outputs": [
    {
     "name": "stdout",
     "output_type": "stream",
     "text": [
      "[2.7938177  0.27367108]\n"
     ]
    }
   ],
   "source": [
    "print(ox.linreg_ols_lu(y,X))"
   ]
  },
  {
   "cell_type": "markdown",
   "metadata": {},
   "source": [
    "### Check the Residuals\n",
    "The function `linreg_mle` allows to return the scipy result object. \n",
    "The standard deviation of the residuals is one parameter of the MLE estimation \n",
    "but it's returned along the regression coefficients."
   ]
  },
  {
   "cell_type": "code",
   "execution_count": 8,
   "metadata": {
    "ExecuteTime": {
     "end_time": "2018-08-14T14:49:02.810620Z",
     "start_time": "2018-08-14T14:49:02.662376Z"
    }
   },
   "outputs": [
    {
     "name": "stdout",
     "output_type": "stream",
     "text": [
      "beta: [2.7938 0.2737]\n",
      "sd:   0.495\n"
     ]
    }
   ],
   "source": [
    "results = ox.linreg_mle(y,X, debug=True)\n",
    "print(\"beta:\", results.x[:-1].round(4))\n",
    "print(\"sd:  \", results.x[-1].round(3) )"
   ]
  },
  {
   "cell_type": "markdown",
   "metadata": {},
   "source": [
    "All `ox.linreg_...` estimation function are returning only the regression coefficients\n",
    "what is the reason why the residuals standard deviation is not returned by default.\n",
    "This metric can be computed from `X` and `beta` outside `linreg_mle` if required."
   ]
  },
  {
   "cell_type": "code",
   "execution_count": 9,
   "metadata": {
    "ExecuteTime": {
     "end_time": "2018-08-14T14:49:02.826212Z",
     "start_time": "2018-08-14T14:49:02.815109Z"
    }
   },
   "outputs": [
    {
     "name": "stdout",
     "output_type": "stream",
     "text": [
      "sd:  0.495\n"
     ]
    }
   ],
   "source": [
    "yhat = ox.linreg_predict(X,beta)\n",
    "print(\"sd: \", np.std(yhat-y).round(3) )"
   ]
  }
 ],
 "metadata": {
  "kernelspec": {
   "display_name": "Python 3",
   "language": "python",
   "name": "python3"
  },
  "language_info": {
   "codemirror_mode": {
    "name": "ipython",
    "version": 3
   },
   "file_extension": ".py",
   "mimetype": "text/x-python",
   "name": "python",
   "nbconvert_exporter": "python",
   "pygments_lexer": "ipython3",
   "version": "3.6.2"
  },
  "varInspector": {
   "cols": {
    "lenName": 16,
    "lenType": 16,
    "lenVar": 40
   },
   "kernels_config": {
    "python": {
     "delete_cmd_postfix": "",
     "delete_cmd_prefix": "del ",
     "library": "var_list.py",
     "varRefreshCmd": "print(var_dic_list())"
    },
    "r": {
     "delete_cmd_postfix": ") ",
     "delete_cmd_prefix": "rm(",
     "library": "var_list.r",
     "varRefreshCmd": "cat(var_dic_list()) "
    }
   },
   "types_to_exclude": [
    "module",
    "function",
    "builtin_function_or_method",
    "instance",
    "_Feature"
   ],
   "window_display": false
  }
 },
 "nbformat": 4,
 "nbformat_minor": 2
}
