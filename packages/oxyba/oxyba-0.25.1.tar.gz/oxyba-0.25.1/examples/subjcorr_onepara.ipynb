{
 "cells": [
  {
   "cell_type": "raw",
   "metadata": {},
   "source": [
    "---\n",
    "title: \"subjcorr_onepara - One-Parameter Correlation Matrix\"\n",
    "date: 2018-08-10T19:00:00+02:00\n",
    "draft: false\n",
    "tags: [subjcorr_onepara, illcond_corrmat]\n",
    "---"
   ]
  },
  {
   "cell_type": "code",
   "execution_count": 1,
   "metadata": {
    "ExecuteTime": {
     "end_time": "2018-08-10T20:36:18.078180Z",
     "start_time": "2018-08-10T20:36:17.682269Z"
    }
   },
   "outputs": [],
   "source": [
    "import warnings; warnings.filterwarnings('ignore')\n",
    "import numpy as np\n",
    "import oxyba as ox\n",
    "from importlib import reload; reload(ox);"
   ]
  },
  {
   "cell_type": "markdown",
   "metadata": {},
   "source": [
    "### The One-Parameter Correlation Matrix"
   ]
  },
  {
   "cell_type": "markdown",
   "metadata": {},
   "source": [
    "Let $C \\in \\mathbb{R}^{d\\times d}$ a correlation matrix\n",
    "with 1s as diagonal elements \n",
    "and $c_{ij}=x \\forall i\\neq j$ (i.e. one common parameter $x$ for all other coefficients)\n",
    "\n",
    "$$\n",
    "C = \\left(\\begin{array}{ccc} 1 & x & x\\\\ x & 1 & x\\\\ x & x & 1  \\end{array}\\right) \\quad x\\in\\mathbb{R}\n",
    "$$\n",
    "\n",
    "Let $R \\in \\mathbb{R}^{d\\times d}$ an ill-conditioned correlation matrix (e.g. subjective correlations from expert opinions) then $x$ is the solution for the optimization problem\n",
    "\n",
    "$$\n",
    "\\min_x || R - C(x) || \n",
    "$$\n",
    "\n",
    "One analytic solution is \n",
    "\n",
    "$$\n",
    "x = \\frac{ \\mathbf{1}^T \\, R \\, \\mathbf{1} + {\\rm tr}(R) }{d^2-d} \n",
    "\t\\qquad  {\\rm with} \\quad \\frac{-1}{d-1} \\leq x \\leq 1\n",
    "$$\n"
   ]
  },
  {
   "cell_type": "markdown",
   "metadata": {
    "ExecuteTime": {
     "end_time": "2018-08-10T16:52:50.574214Z",
     "start_time": "2018-08-10T16:52:50.566846Z"
    }
   },
   "source": [
    "### Example"
   ]
  },
  {
   "cell_type": "markdown",
   "metadata": {},
   "source": [
    "First, create a random ill-conditioned correlation matrix for three variables."
   ]
  },
  {
   "cell_type": "code",
   "execution_count": 2,
   "metadata": {
    "ExecuteTime": {
     "end_time": "2018-08-10T20:36:18.105018Z",
     "start_time": "2018-08-10T20:36:18.082613Z"
    }
   },
   "outputs": [
    {
     "data": {
      "text/plain": [
       "array([[ 1.        , -0.94814754,  0.09932496],\n",
       "       [-0.94814754,  1.        , -0.33933036],\n",
       "       [ 0.09932496, -0.33933036,  1.        ]])"
      ]
     },
     "execution_count": 2,
     "metadata": {},
     "output_type": "execute_result"
    }
   ],
   "source": [
    "d = 3\n",
    "R = ox.illcond_corrmat(d, random_state=2)\n",
    "R"
   ]
  },
  {
   "cell_type": "markdown",
   "metadata": {},
   "source": [
    "Second, try to compute a feasible solution for $x$"
   ]
  },
  {
   "cell_type": "code",
   "execution_count": 3,
   "metadata": {
    "ExecuteTime": {
     "end_time": "2018-08-10T20:36:18.119096Z",
     "start_time": "2018-08-10T20:36:18.109364Z"
    }
   },
   "outputs": [
    {
     "data": {
      "text/plain": [
       "array([[1.        , 0.60394902, 0.60394902],\n",
       "       [0.60394902, 1.        , 0.60394902],\n",
       "       [0.60394902, 0.60394902, 1.        ]])"
      ]
     },
     "execution_count": 3,
     "metadata": {},
     "output_type": "execute_result"
    }
   ],
   "source": [
    "C = ox.subjcorr_onepara(R)\n",
    "C"
   ]
  },
  {
   "cell_type": "markdown",
   "metadata": {},
   "source": [
    "As a last check try to create the Cholesky matrix from $C$.\n",
    "If it does not work, numpy would throw an exception."
   ]
  },
  {
   "cell_type": "code",
   "execution_count": 4,
   "metadata": {
    "ExecuteTime": {
     "end_time": "2018-08-10T20:36:18.132636Z",
     "start_time": "2018-08-10T20:36:18.124508Z"
    }
   },
   "outputs": [
    {
     "data": {
      "text/plain": [
       "array([[1.        , 0.        , 0.        ],\n",
       "       [0.60394902, 0.79702295, 0.        ],\n",
       "       [0.60394902, 0.30011006, 0.73836274]])"
      ]
     },
     "execution_count": 4,
     "metadata": {},
     "output_type": "execute_result"
    }
   ],
   "source": [
    "np.linalg.cholesky(C)"
   ]
  },
  {
   "cell_type": "markdown",
   "metadata": {},
   "source": [
    "Looks Ok."
   ]
  },
  {
   "cell_type": "markdown",
   "metadata": {},
   "source": [
    "### Example - No Solution Possible"
   ]
  },
  {
   "cell_type": "markdown",
   "metadata": {},
   "source": [
    "The next example will demonstrate what happens if the analytic solution cannot be found for a given ill-conditioned matrix $R$"
   ]
  },
  {
   "cell_type": "code",
   "execution_count": 5,
   "metadata": {
    "ExecuteTime": {
     "end_time": "2018-08-10T20:36:18.161288Z",
     "start_time": "2018-08-10T20:36:18.139555Z"
    }
   },
   "outputs": [
    {
     "data": {
      "text/plain": [
       "array([[ 1.        , -0.49143585,  0.82480089],\n",
       "       [-0.49143585,  1.        ,  0.39761483],\n",
       "       [ 0.82480089,  0.39761483,  1.        ]])"
      ]
     },
     "execution_count": 5,
     "metadata": {},
     "output_type": "execute_result"
    }
   ],
   "source": [
    "d = 3\n",
    "R = ox.illcond_corrmat(d, random_state=234)\n",
    "R"
   ]
  },
  {
   "cell_type": "markdown",
   "metadata": {},
   "source": [
    "The function `subjcorr_onepara` will return `None` and a error message."
   ]
  },
  {
   "cell_type": "code",
   "execution_count": 6,
   "metadata": {
    "ExecuteTime": {
     "end_time": "2018-08-10T20:36:18.174580Z",
     "start_time": "2018-08-10T20:36:18.167010Z"
    }
   },
   "outputs": [
    {
     "name": "stdout",
     "output_type": "stream",
     "text": [
      "No analytic solution found x=1.2436599540117548\n"
     ]
    }
   ],
   "source": [
    "C = ox.subjcorr_onepara(R)"
   ]
  },
  {
   "cell_type": "markdown",
   "metadata": {},
   "source": [
    "In most cases the coefficients $c_{ij}$ are too big."
   ]
  }
 ],
 "metadata": {
  "kernelspec": {
   "display_name": "Python 3",
   "language": "python",
   "name": "python3"
  },
  "language_info": {
   "codemirror_mode": {
    "name": "ipython",
    "version": 3
   },
   "file_extension": ".py",
   "mimetype": "text/x-python",
   "name": "python",
   "nbconvert_exporter": "python",
   "pygments_lexer": "ipython3",
   "version": "3.6.2"
  },
  "varInspector": {
   "cols": {
    "lenName": 16,
    "lenType": 16,
    "lenVar": 40
   },
   "kernels_config": {
    "python": {
     "delete_cmd_postfix": "",
     "delete_cmd_prefix": "del ",
     "library": "var_list.py",
     "varRefreshCmd": "print(var_dic_list())"
    },
    "r": {
     "delete_cmd_postfix": ") ",
     "delete_cmd_prefix": "rm(",
     "library": "var_list.r",
     "varRefreshCmd": "cat(var_dic_list()) "
    }
   },
   "types_to_exclude": [
    "module",
    "function",
    "builtin_function_or_method",
    "instance",
    "_Feature"
   ],
   "window_display": false
  }
 },
 "nbformat": 4,
 "nbformat_minor": 2
}
