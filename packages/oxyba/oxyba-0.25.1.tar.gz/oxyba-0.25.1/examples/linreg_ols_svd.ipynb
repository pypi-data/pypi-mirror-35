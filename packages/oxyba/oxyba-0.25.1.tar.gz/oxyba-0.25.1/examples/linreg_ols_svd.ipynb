{
 "cells": [
  {
   "cell_type": "raw",
   "metadata": {},
   "source": [
    "---\n",
    "title: \"linreg_ols_svd\"\n",
    "date: 2018-07-26T15:00:00+02:00\n",
    "draft: false\n",
    "tags: [linreg_ols_svd]\n",
    "---"
   ]
  },
  {
   "cell_type": "code",
   "execution_count": 1,
   "metadata": {
    "ExecuteTime": {
     "end_time": "2018-07-26T13:55:05.995665Z",
     "start_time": "2018-07-26T13:55:05.714761Z"
    }
   },
   "outputs": [],
   "source": [
    "import warnings; warnings.filterwarnings('ignore')\n",
    "import numpy as np\n",
    "import oxyba as ox; from importlib import reload; reload(ox);\n",
    "from time import perf_counter, process_time"
   ]
  },
  {
   "cell_type": "markdown",
   "metadata": {},
   "source": [
    "### Load Demo Dataset"
   ]
  },
  {
   "cell_type": "code",
   "execution_count": 2,
   "metadata": {
    "ExecuteTime": {
     "end_time": "2018-07-26T13:55:07.181569Z",
     "start_time": "2018-07-26T13:55:06.001615Z"
    }
   },
   "outputs": [],
   "source": [
    "from sklearn.datasets import load_boston\n",
    "tmp = load_boston()\n",
    "num_obs = len(tmp.target);\n",
    "y = tmp.target\n",
    "X = np.c_[ np.ones(shape=(num_obs,1)), tmp.data[:,[5,12]] ];"
   ]
  },
  {
   "cell_type": "markdown",
   "metadata": {},
   "source": [
    "### OLS with Inverse from Singular Value Decomposition (SVD)\n",
    "The regressions coefficients \n",
    "\n",
    "$$\n",
    "\\hat{\\beta} = (X^T X)^{-1} - (X^T y)\n",
    "$$\n",
    "\n",
    "will be estimated by compute the inverse matrix $(X^T X)^{-1}$ with Singular Value Decomposition (SVD).\n",
    "\n",
    "SVD decompose a matrix $A$ into \n",
    "\n",
    "$$\n",
    "A = U S V^T\n",
    "$$\n",
    "\n",
    "with $U U^T = I$ and $V V^T = I$ and $S$ a diagonal matrix."
   ]
  },
  {
   "cell_type": "code",
   "execution_count": 3,
   "metadata": {
    "ExecuteTime": {
     "end_time": "2018-07-26T13:55:07.192275Z",
     "start_time": "2018-07-26T13:55:07.185519Z"
    }
   },
   "outputs": [],
   "source": [
    "from numpy import dot, diag\n",
    "from numpy.linalg import svd\n",
    "u,s,v = svd(dot(X.T, X));"
   ]
  },
  {
   "cell_type": "code",
   "execution_count": 4,
   "metadata": {
    "ExecuteTime": {
     "end_time": "2018-07-26T13:55:07.206830Z",
     "start_time": "2018-07-26T13:55:07.198419Z"
    }
   },
   "outputs": [
    {
     "name": "stdout",
     "output_type": "stream",
     "text": [
      "U\n",
      " [[-0.05849311 -0.12435103 -0.99051268]\n",
      " [-0.35644426 -0.9242065   0.13707605]\n",
      " [-0.9324838   0.36108057  0.0097355 ]]\n",
      "U*U^T\n",
      " [[ 1.  0. -0.]\n",
      " [ 0.  1.  0.]\n",
      " [-0.  0.  1.]]\n"
     ]
    }
   ],
   "source": [
    "print('U\\n',u)\n",
    "print('U*U^T\\n', dot(u,u.T).round(2))"
   ]
  },
  {
   "cell_type": "code",
   "execution_count": 5,
   "metadata": {
    "ExecuteTime": {
     "end_time": "2018-07-26T13:55:07.227405Z",
     "start_time": "2018-07-26T13:55:07.214024Z"
    }
   },
   "outputs": [
    {
     "name": "stdout",
     "output_type": "stream",
     "text": [
      "V\n",
      " [[-0.05849311 -0.35644426 -0.9324838 ]\n",
      " [-0.12435103 -0.9242065   0.36108057]\n",
      " [-0.99051268  0.13707605  0.0097355 ]]\n",
      "V*V^T\n",
      " [[ 1. -0.  0.]\n",
      " [-0.  1.  0.]\n",
      " [ 0.  0.  1.]]\n"
     ]
    }
   ],
   "source": [
    "print('V\\n',v)\n",
    "print('V*V^T\\n',dot(v,v.T).round(2))"
   ]
  },
  {
   "cell_type": "code",
   "execution_count": 6,
   "metadata": {
    "ExecuteTime": {
     "end_time": "2018-07-26T13:55:07.248079Z",
     "start_time": "2018-07-26T13:55:07.233206Z"
    }
   },
   "outputs": [
    {
     "name": "stdout",
     "output_type": "stream",
     "text": [
      "s\n",
      " [1.21950783e+05 5.54978203e+03 2.99151160e+00]\n",
      "S\n",
      " [[1.21950783e+05 0.00000000e+00 0.00000000e+00]\n",
      " [0.00000000e+00 5.54978203e+03 0.00000000e+00]\n",
      " [0.00000000e+00 0.00000000e+00 2.99151160e+00]]\n"
     ]
    }
   ],
   "source": [
    "print('s\\n',s)\n",
    "print('S\\n',diag(s))"
   ]
  },
  {
   "cell_type": "markdown",
   "metadata": {},
   "source": [
    "The inverse is\n",
    "\n",
    "$$\n",
    "A^{-1} = V S^{-1} U^T\n",
    "$$"
   ]
  },
  {
   "cell_type": "code",
   "execution_count": 7,
   "metadata": {
    "ExecuteTime": {
     "end_time": "2018-07-26T13:55:07.280027Z",
     "start_time": "2018-07-26T13:55:07.252292Z"
    }
   },
   "outputs": [
    {
     "data": {
      "text/plain": [
       "array([[ 3.08760632e-01, -4.26684318e-02, -3.05739484e-03],\n",
       "       [-1.19535807e-01,  1.66995849e-02,  1.11591123e-03],\n",
       "       [-3.22609506e-03,  4.26164541e-04,  4.81752593e-05]])"
      ]
     },
     "execution_count": 7,
     "metadata": {},
     "output_type": "execute_result"
    }
   ],
   "source": [
    "ainv = dot(dot(v, diag(1.0/s)), u.T); # 1/s = s**-1\n",
    "ainv"
   ]
  },
  {
   "cell_type": "markdown",
   "metadata": {
    "ExecuteTime": {
     "end_time": "2018-07-26T12:48:40.770365Z",
     "start_time": "2018-07-26T12:48:40.759116Z"
    }
   },
   "source": [
    "Just to crush all hopes - It does not seem to work.\n",
    "Compared to Numpy's `inv` the SVD based inverse seems similar but is off."
   ]
  },
  {
   "cell_type": "code",
   "execution_count": 8,
   "metadata": {
    "ExecuteTime": {
     "end_time": "2018-07-26T13:55:07.295503Z",
     "start_time": "2018-07-26T13:55:07.284221Z"
    }
   },
   "outputs": [
    {
     "data": {
      "text/plain": [
       "array([[ 3.27969244e-01, -4.53660623e-02, -3.23114204e-03],\n",
       "       [-4.53660623e-02,  6.43600293e-03,  3.88691406e-04],\n",
       "       [-3.23114204e-03,  3.88691406e-04,  6.23057559e-05]])"
      ]
     },
     "execution_count": 8,
     "metadata": {},
     "output_type": "execute_result"
    }
   ],
   "source": [
    "np.linalg.inv(dot(X.T, X))"
   ]
  },
  {
   "cell_type": "markdown",
   "metadata": {},
   "source": [
    "### Test Implementations\n",
    "The first implementation applies Numpy's [svd](https://docs.scipy.org/doc/numpy-1.14.0/reference/generated/numpy.linalg.svd.html) what is based on LAPACK's [_gesdd](http://www.netlib.org/lapack/explore-html/d1/d7e/group__double_g_esing_gad8e0f1c83a78d3d4858eaaa88a1c5ab1.html#gad8e0f1c83a78d3d4858eaaa88a1c5ab1).\n",
    "`func1_pretty` is the more readable but slower version of `func1_faster`."
   ]
  },
  {
   "cell_type": "code",
   "execution_count": 9,
   "metadata": {
    "ExecuteTime": {
     "end_time": "2018-07-26T13:55:07.318663Z",
     "start_time": "2018-07-26T13:55:07.300165Z"
    }
   },
   "outputs": [],
   "source": [
    "def func1_pretty(y,X):\n",
    "    from numpy import dot, diag\n",
    "    from numpy.linalg import svd\n",
    "    u,s,v = svd(dot(X.T, X));\n",
    "    x2inv = dot(v,dot(diag(1.0/s),u.T)); # 1/s = s**-1\n",
    "    return dot(x2inv, dot(X.T,y));"
   ]
  },
  {
   "cell_type": "code",
   "execution_count": 10,
   "metadata": {
    "ExecuteTime": {
     "end_time": "2018-07-26T13:55:07.334955Z",
     "start_time": "2018-07-26T13:55:07.325012Z"
    }
   },
   "outputs": [],
   "source": [
    "def func1_faster(y,X):\n",
    "    import numpy as np\n",
    "    u,s,v = np.linalg.svd(np.dot(X.T, X));\n",
    "    return np.dot(np.dot(v,np.dot(np.diag(s**-1),u.T)), np.dot(X.T,y)); "
   ]
  },
  {
   "cell_type": "markdown",
   "metadata": {},
   "source": [
    "The second implementation is a hack in case $A A^T$ is an ill-conditioned or resp. singular matrix. \n",
    "The diagnonal elements $S$ are required to greater than a certain threshold `tol` to compute $1/s_i$ or are set to zero."
   ]
  },
  {
   "cell_type": "code",
   "execution_count": 11,
   "metadata": {
    "ExecuteTime": {
     "end_time": "2018-07-26T13:55:07.352560Z",
     "start_time": "2018-07-26T13:55:07.340780Z"
    }
   },
   "outputs": [],
   "source": [
    "def func2_pretty(y, X, tol=1e-16):\n",
    "    from numpy import dot, diag\n",
    "    from numpy.linalg import svd\n",
    "    u,s,v = svd(dot(X.T, X));\n",
    "    adj = [1.0/sigma  if sigma>tol else 0.0 for sigma in s];\n",
    "    x2inv = dot(v,dot(diag(adj),u.T)); # 1/s = s**-1\n",
    "    return dot(x2inv, dot(X.T,y)) "
   ]
  },
  {
   "cell_type": "code",
   "execution_count": 12,
   "metadata": {
    "ExecuteTime": {
     "end_time": "2018-07-26T13:55:07.366919Z",
     "start_time": "2018-07-26T13:55:07.358292Z"
    }
   },
   "outputs": [],
   "source": [
    "def func2_faster(y, X, tol=1e-16):\n",
    "    import numpy as np\n",
    "    u,s,v = np.linalg.svd(np.dot(X.T, X));\n",
    "    return dot(np.dot(v,np.dot(np.diag([1.0/sigma  if sigma>tol else 0.0 for sigma in s]),u.T)), np.dot(X.T,y));"
   ]
  },
  {
   "cell_type": "markdown",
   "metadata": {},
   "source": [
    "The third implementation applies Numpy's [lstsq](https://docs.scipy.org/doc/numpy-1.13.0/reference/generated/numpy.linalg.lstsq.html) is based on LAPACK's [_gelsd](http://www.netlib.org/lapack/explore-html/d7/d3b/group__double_g_esolve_ga94bd4a63a6dacf523e25ff617719f752.html) what applies SVD to solve problems of type\n",
    "\n",
    "$$\n",
    "\\min_x || b - A x ||_2\n",
    "$$\n",
    "\n",
    "For a Linear Regression problem the variables are $A=X^T X$, $x=\\beta$ and $b=X^T y$.\n",
    "\n"
   ]
  },
  {
   "cell_type": "code",
   "execution_count": 13,
   "metadata": {
    "ExecuteTime": {
     "end_time": "2018-07-26T13:55:07.381561Z",
     "start_time": "2018-07-26T13:55:07.372975Z"
    }
   },
   "outputs": [],
   "source": [
    "def func3_pretty(y,X):\n",
    "    from numpy.linalg import lstsq\n",
    "    beta,_,_,_ = lstsq(b=y, a=X, rcond=-1)\n",
    "    return beta"
   ]
  },
  {
   "cell_type": "code",
   "execution_count": 14,
   "metadata": {
    "ExecuteTime": {
     "end_time": "2018-07-26T13:55:07.394379Z",
     "start_time": "2018-07-26T13:55:07.386737Z"
    }
   },
   "outputs": [],
   "source": [
    "def func3_faster(y,X):\n",
    "    import numpy as np\n",
    "    beta,_,_,_ = np.linalg.lstsq(b=y, a=X, rcond=-1)\n",
    "    return beta"
   ]
  },
  {
   "cell_type": "markdown",
   "metadata": {},
   "source": [
    "### Benchmarking"
   ]
  },
  {
   "cell_type": "code",
   "execution_count": 15,
   "metadata": {
    "ExecuteTime": {
     "end_time": "2018-07-26T13:55:07.406180Z",
     "start_time": "2018-07-26T13:55:07.399522Z"
    }
   },
   "outputs": [],
   "source": [
    "trials = 50000\n",
    "funcnames = [func1_pretty, func1_faster, \n",
    "             func2_pretty, func2_faster, \n",
    "             func3_pretty, func3_faster, \n",
    "             ox.linreg_ols_svd, \n",
    "             ox.linreg_ols_lu]"
   ]
  },
  {
   "cell_type": "code",
   "execution_count": 16,
   "metadata": {
    "ExecuteTime": {
     "end_time": "2018-07-26T13:55:07.447324Z",
     "start_time": "2018-07-26T13:55:07.414583Z"
    }
   },
   "outputs": [
    {
     "name": "stdout",
     "output_type": "stream",
     "text": [
      "func1_pretty [-0.13256476  5.28717637  0.49253069]\n",
      "func1_faster [-0.13256476  5.28717637  0.49253069]\n",
      "func2_pretty [-0.13256476  5.28717637  0.49253069]\n",
      "func2_faster [-0.13256476  5.28717637  0.49253069]\n",
      "func3_pretty [-1.35827281  5.09478798 -0.64235833]\n",
      "func3_faster [-1.35827281  5.09478798 -0.64235833]\n",
      "linreg_ols_svd [-1.35827281  5.09478798 -0.64235833]\n",
      "linreg_ols_lu [-1.35827281  5.09478798 -0.64235833]\n"
     ]
    }
   ],
   "source": [
    "for func in funcnames:\n",
    "    beta = func(y,X);\n",
    "    print(func.__name__, beta);"
   ]
  },
  {
   "cell_type": "markdown",
   "metadata": {
    "ExecuteTime": {
     "end_time": "2018-07-26T12:11:56.698098Z",
     "start_time": "2018-07-26T12:11:56.681760Z"
    }
   },
   "source": [
    "That does not look good. \n",
    "`func1_...` and `func2_...` differ from the already tested solution of [linreg_ols_lu](http://oxyba.de/docs/linreg_ols_lu/)."
   ]
  },
  {
   "cell_type": "code",
   "execution_count": 17,
   "metadata": {
    "ExecuteTime": {
     "end_time": "2018-07-26T13:55:50.589982Z",
     "start_time": "2018-07-26T13:55:07.454829Z"
    }
   },
   "outputs": [
    {
     "name": "stdout",
     "output_type": "stream",
     "text": [
      "Clock  CPU    function name\n",
      "4.2338 4.0752 func1_pretty\n",
      "3.7378 3.7075 func1_faster\n",
      "4.4396 4.4287 func2_pretty\n",
      "4.2982 4.2780 func2_faster\n",
      "7.8053 6.2520 func3_pretty\n",
      "6.0752 5.8702 func3_faster\n",
      "10.3562 8.0228 linreg_ols_svd\n",
      "2.1758 2.1564 linreg_ols_lu\n"
     ]
    }
   ],
   "source": [
    "print('{0:6s} {1:6s} {2:s}'.format('Clock', 'CPU', 'function name'))\n",
    "for func in funcnames:\n",
    "    sh,sc = perf_counter(), process_time();\n",
    "    for i in range(trials):\n",
    "        beta = func(y,X); \n",
    "        if beta is None: print('error solving')\n",
    "        beta = None;\n",
    "    eh,ec = perf_counter(), process_time()\n",
    "    print('{0:.4f} {1:.4f} {2:s}'.format(eh-sh, ec-sc, func.__name__))"
   ]
  },
  {
   "cell_type": "markdown",
   "metadata": {},
   "source": [
    "The `func3_...` implementation based on Numpy's `lstsq` is the only feasible option for the `linreg_ols_svd` wrapper because the direct implementation based on Numpy's `svd` does not work correctly (There must be something wrong with my code ...). \n",
    "\n",
    "`func3_pretty` are not much different `func3_faster` what indicates that the computation itself takes much longer than overhead due to things like importing modules. \n",
    "\n",
    "Linear Regression based on LU Decomposition (`linreg_ols_lu`) is much faster than based on Singular Value Decomposition (`linreg_ols_svd`). "
   ]
  }
 ],
 "metadata": {
  "kernelspec": {
   "display_name": "Python 3",
   "language": "python",
   "name": "python3"
  },
  "language_info": {
   "codemirror_mode": {
    "name": "ipython",
    "version": 3
   },
   "file_extension": ".py",
   "mimetype": "text/x-python",
   "name": "python",
   "nbconvert_exporter": "python",
   "pygments_lexer": "ipython3",
   "version": "3.6.2"
  },
  "varInspector": {
   "cols": {
    "lenName": 16,
    "lenType": 16,
    "lenVar": 40
   },
   "kernels_config": {
    "python": {
     "delete_cmd_postfix": "",
     "delete_cmd_prefix": "del ",
     "library": "var_list.py",
     "varRefreshCmd": "print(var_dic_list())"
    },
    "r": {
     "delete_cmd_postfix": ") ",
     "delete_cmd_prefix": "rm(",
     "library": "var_list.r",
     "varRefreshCmd": "cat(var_dic_list()) "
    }
   },
   "types_to_exclude": [
    "module",
    "function",
    "builtin_function_or_method",
    "instance",
    "_Feature"
   ],
   "window_display": false
  }
 },
 "nbformat": 4,
 "nbformat_minor": 2
}
