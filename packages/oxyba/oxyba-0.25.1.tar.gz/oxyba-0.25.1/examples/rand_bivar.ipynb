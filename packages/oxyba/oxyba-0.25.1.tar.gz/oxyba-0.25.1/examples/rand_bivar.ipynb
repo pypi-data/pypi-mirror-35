{
 "cells": [
  {
   "cell_type": "raw",
   "metadata": {},
   "source": [
    "---\n",
    "title: \"rand_bivar\"\n",
    "date: 2018-08-12T13:00:00+02:00\n",
    "draft: false\n",
    "tags: [rand_bivar, rand_chol, Bivariate Correlated Random Numbers, Pearson Correlation, Normal Distribution]\n",
    "---"
   ]
  },
  {
   "cell_type": "code",
   "execution_count": 1,
   "metadata": {
    "ExecuteTime": {
     "end_time": "2018-08-12T11:26:18.086163Z",
     "start_time": "2018-08-12T11:26:17.898756Z"
    }
   },
   "outputs": [],
   "source": [
    "import warnings; warnings.filterwarnings('ignore')\n",
    "import numpy as np\n",
    "import oxyba as ox\n",
    "from importlib import reload; reload(ox);"
   ]
  },
  {
   "cell_type": "markdown",
   "metadata": {
    "ExecuteTime": {
     "end_time": "2018-08-12T10:54:14.306213Z",
     "start_time": "2018-08-12T10:54:14.303155Z"
    }
   },
   "source": [
    "### Test Data\n",
    "The python variable `x` contain two uncorrelated random numbers (columns)."
   ]
  },
  {
   "cell_type": "code",
   "execution_count": 2,
   "metadata": {
    "ExecuteTime": {
     "end_time": "2018-08-12T11:26:18.120963Z",
     "start_time": "2018-08-12T11:26:18.089923Z"
    }
   },
   "outputs": [
    {
     "data": {
      "text/plain": [
       "array([[0.75126706, 0.95929143],\n",
       "       [0.25509512, 0.54721553],\n",
       "       [0.50595705, 0.13862444],\n",
       "       [0.69907672, 0.14929401],\n",
       "       [0.89090325, 0.25750825]])"
      ]
     },
     "execution_count": 2,
     "metadata": {},
     "output_type": "execute_result"
    }
   ],
   "source": [
    "x = [[0.751267059305653,0.959291425205444],\n",
    "     [0.255095115459269,0.547215529963803],\n",
    "     [0.505957051665142,0.138624442828679],\n",
    "     [0.699076722656686,0.149294005559057],\n",
    "     [0.890903252535799,0.257508254123736]];\n",
    "x = np.array(x)\n",
    "x"
   ]
  },
  {
   "cell_type": "markdown",
   "metadata": {},
   "source": [
    "Given $\\rho=0.5$ the bivariate correlated random numbers should be\n",
    "\n",
    "```\n",
    "    0.7513    1.2064\n",
    "    0.2551    0.6015\n",
    "    0.5060    0.3730\n",
    "    0.6991    0.4788\n",
    "    0.8909    0.6685\n",
    "```"
   ]
  },
  {
   "cell_type": "markdown",
   "metadata": {},
   "source": [
    "### Bivariate Correlation\n",
    "Let $X_1$ and $X_2$ two uncorrelated normal distributed random numbers,\n",
    "$rho$ the desired (Pearson) correlated coefficient, \n",
    "then \n",
    "\n",
    "$$\n",
    "Y_1 = X_1 \\\\\n",
    "Y_2 = \\rho X_1 + \\sqrt{1 - \\rho^2} \\, X_2\n",
    "$$\n",
    "\n",
    "are two $\\phi$ correlated random numbers.\n",
    "\n"
   ]
  },
  {
   "cell_type": "code",
   "execution_count": 3,
   "metadata": {
    "ExecuteTime": {
     "end_time": "2018-08-12T11:26:18.138757Z",
     "start_time": "2018-08-12T11:26:18.126072Z"
    }
   },
   "outputs": [
    {
     "data": {
      "text/plain": [
       "array([[0.75126706, 1.20640427],\n",
       "       [0.25509512, 0.60145011],\n",
       "       [0.50595705, 0.37303081],\n",
       "       [0.69907672, 0.47883076],\n",
       "       [0.89090325, 0.66846032]])"
      ]
     },
     "execution_count": 3,
     "metadata": {},
     "output_type": "execute_result"
    }
   ],
   "source": [
    "rho = .5\n",
    "Y = ox.rand_bivar(x, rho)\n",
    "Y"
   ]
  },
  {
   "cell_type": "markdown",
   "metadata": {},
   "source": [
    "### Compare to rand_chol\n",
    "The function `rand_chol` will create the same result\n",
    "but requires to specify the full correlation matrix `rho`."
   ]
  },
  {
   "cell_type": "code",
   "execution_count": 4,
   "metadata": {
    "ExecuteTime": {
     "end_time": "2018-08-12T11:26:18.155919Z",
     "start_time": "2018-08-12T11:26:18.143893Z"
    }
   },
   "outputs": [
    {
     "data": {
      "text/plain": [
       "array([[0.75126706, 1.20640427],\n",
       "       [0.25509512, 0.60145011],\n",
       "       [0.50595705, 0.37303081],\n",
       "       [0.69907672, 0.47883076],\n",
       "       [0.89090325, 0.66846032]])"
      ]
     },
     "execution_count": 4,
     "metadata": {},
     "output_type": "execute_result"
    }
   ],
   "source": [
    "rho =  [[1,.5], [.5,1]]\n",
    "Y = ox.rand_chol(x,rho)\n",
    "Y"
   ]
  }
 ],
 "metadata": {
  "kernelspec": {
   "display_name": "Python 3",
   "language": "python",
   "name": "python3"
  },
  "language_info": {
   "codemirror_mode": {
    "name": "ipython",
    "version": 3
   },
   "file_extension": ".py",
   "mimetype": "text/x-python",
   "name": "python",
   "nbconvert_exporter": "python",
   "pygments_lexer": "ipython3",
   "version": "3.6.2"
  },
  "varInspector": {
   "cols": {
    "lenName": 16,
    "lenType": 16,
    "lenVar": 40
   },
   "kernels_config": {
    "python": {
     "delete_cmd_postfix": "",
     "delete_cmd_prefix": "del ",
     "library": "var_list.py",
     "varRefreshCmd": "print(var_dic_list())"
    },
    "r": {
     "delete_cmd_postfix": ") ",
     "delete_cmd_prefix": "rm(",
     "library": "var_list.r",
     "varRefreshCmd": "cat(var_dic_list()) "
    }
   },
   "types_to_exclude": [
    "module",
    "function",
    "builtin_function_or_method",
    "instance",
    "_Feature"
   ],
   "window_display": false
  }
 },
 "nbformat": 4,
 "nbformat_minor": 2
}
