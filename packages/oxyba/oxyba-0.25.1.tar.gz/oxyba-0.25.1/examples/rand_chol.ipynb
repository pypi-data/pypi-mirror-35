{
 "cells": [
  {
   "cell_type": "raw",
   "metadata": {},
   "source": [
    "---\n",
    "title: \"rand_chol\"\n",
    "date: 2018-08-12T14:00:00+02:00\n",
    "draft: false\n",
    "tags: [rand_chol, Multivariate Correlated Random Numbers, Pearson Correlation, Cholesky Lower Triangular Matrix, Normal Distribution, illcond_corrmat, subjcorr_luriegold]\n",
    "---"
   ]
  },
  {
   "cell_type": "code",
   "execution_count": 1,
   "metadata": {
    "ExecuteTime": {
     "end_time": "2018-08-12T11:25:26.591670Z",
     "start_time": "2018-08-12T11:25:26.353550Z"
    }
   },
   "outputs": [],
   "source": [
    "import warnings; warnings.filterwarnings('ignore')\n",
    "import numpy as np\n",
    "import oxyba as ox\n",
    "from importlib import reload; reload(ox);"
   ]
  },
  {
   "cell_type": "markdown",
   "metadata": {},
   "source": [
    "### Multiple Correlated Random Numbers\n",
    "Let $X \\in \\mathbb{R}^{N \\times M}$ a matrix with $M$ uncorrelated normal random numbers,\n",
    "and $C \\in \\{\\rho \\in \\mathbb{R} | -1 \\leq \\rho \\leq +1 \\}^{M \\times M}$ the desired correlation matrix,\n",
    "and $L$ the lower triangular matrix of the Cholesky decomposition $C=L L^T$\n",
    "then \n",
    "\n",
    "$$\n",
    "Y = X \\, L^T\n",
    "$$\n",
    "\n",
    "is a matrix correlated random numbers."
   ]
  },
  {
   "cell_type": "markdown",
   "metadata": {},
   "source": [
    "### Example"
   ]
  },
  {
   "cell_type": "markdown",
   "metadata": {},
   "source": [
    "In our example we will use 5 random variables with 10000 observations each."
   ]
  },
  {
   "cell_type": "code",
   "execution_count": 2,
   "metadata": {
    "ExecuteTime": {
     "end_time": "2018-08-12T11:25:26.602063Z",
     "start_time": "2018-08-12T11:25:26.596174Z"
    }
   },
   "outputs": [],
   "source": [
    "M = 5\n",
    "N = 10000"
   ]
  },
  {
   "cell_type": "markdown",
   "metadata": {},
   "source": [
    "First, create random example of a correlation matrix $C$ (Step a. an ill-conditioned correlation matrix `R`, then b. fit a proper semipositive definite correlation matrix `C`)."
   ]
  },
  {
   "cell_type": "code",
   "execution_count": 3,
   "metadata": {
    "ExecuteTime": {
     "end_time": "2018-08-12T11:25:26.979917Z",
     "start_time": "2018-08-12T11:25:26.617017Z"
    }
   },
   "outputs": [
    {
     "name": "stdout",
     "output_type": "stream",
     "text": [
      "[[ 1.     0.726  0.6    0.286 -0.524]\n",
      " [ 0.726  1.     0.508  0.056  0.146]\n",
      " [ 0.6    0.508  1.    -0.462 -0.426]\n",
      " [ 0.286  0.056 -0.462  1.    -0.281]\n",
      " [-0.524  0.146 -0.426 -0.281  1.   ]]\n"
     ]
    }
   ],
   "source": [
    "R = ox.illcond_corrmat(M, random_state=42)\n",
    "C,_,_ = ox.subjcorr_luriegold(R)\n",
    "print(C.round(3))"
   ]
  },
  {
   "cell_type": "markdown",
   "metadata": {},
   "source": [
    "Second, generate some random numbers $X$"
   ]
  },
  {
   "cell_type": "code",
   "execution_count": 4,
   "metadata": {
    "ExecuteTime": {
     "end_time": "2018-08-12T11:25:26.999656Z",
     "start_time": "2018-08-12T11:25:26.984205Z"
    }
   },
   "outputs": [
    {
     "name": "stdout",
     "output_type": "stream",
     "text": [
      "[[ 0.667  0.026 -0.778  0.949  0.702]\n",
      " [-1.051 -0.368 -1.137 -1.322  1.772]\n",
      " [-0.347  0.67   0.322  0.06  -1.043]\n",
      " [-1.01   0.442  1.129 -1.838 -0.939]\n",
      " [-0.202  1.045  0.538  0.812  0.241]\n",
      " [-0.953 -0.136  1.267  0.174 -1.223]\n",
      " [ 1.415  0.458  0.729  1.968 -0.548]]\n"
     ]
    }
   ],
   "source": [
    "np.random.seed(23)\n",
    "X = np.random.normal(0,1, (N,M))\n",
    "print(X[:7,:].round(3))"
   ]
  },
  {
   "cell_type": "markdown",
   "metadata": {},
   "source": [
    "Just as a little check: These $X$ variables are **not** correlated"
   ]
  },
  {
   "cell_type": "code",
   "execution_count": 5,
   "metadata": {
    "ExecuteTime": {
     "end_time": "2018-08-12T11:25:27.318575Z",
     "start_time": "2018-08-12T11:25:27.004005Z"
    }
   },
   "outputs": [
    {
     "name": "stdout",
     "output_type": "stream",
     "text": [
      "[[ 1.    -0.001  0.002  0.008 -0.011]\n",
      " [-0.001  1.    -0.008 -0.009  0.002]\n",
      " [ 0.002 -0.008  1.     0.011 -0.004]\n",
      " [ 0.008 -0.009  0.011  1.    -0.015]\n",
      " [-0.011  0.002 -0.004 -0.015  1.   ]]\n"
     ]
    }
   ],
   "source": [
    "r,_ = ox.corr(X)\n",
    "print(r.round(3))"
   ]
  },
  {
   "cell_type": "markdown",
   "metadata": {},
   "source": [
    "Third, transform uncorrelated $X$ with `rand_chol` to get correlated $Y$"
   ]
  },
  {
   "cell_type": "code",
   "execution_count": 6,
   "metadata": {
    "ExecuteTime": {
     "end_time": "2018-08-12T11:25:27.335759Z",
     "start_time": "2018-08-12T11:25:27.324517Z"
    }
   },
   "outputs": [
    {
     "name": "stdout",
     "output_type": "stream",
     "text": [
      "[[ 0.667  0.502 -0.214  1.283 -0.41 ]\n",
      " [-1.051 -1.016 -1.571 -0.04   0.921]\n",
      " [-0.347  0.208  0.118 -0.463  0.6  ]\n",
      " [-1.01  -0.43   0.336 -2.223  1.115]\n",
      " [-0.202  0.572  0.416 -0.274  0.545]\n",
      " [-0.953 -0.785  0.419 -1.126  0.038]\n",
      " [ 1.415  1.343  1.475  0.78  -1.127]]\n"
     ]
    }
   ],
   "source": [
    "Y = ox.rand_chol(X, C);\n",
    "print(Y[:7,:].round(3))"
   ]
  },
  {
   "cell_type": "markdown",
   "metadata": {},
   "source": [
    "Now check the correlation matrix of these $Y$ variables"
   ]
  },
  {
   "cell_type": "code",
   "execution_count": 7,
   "metadata": {
    "ExecuteTime": {
     "end_time": "2018-08-12T11:25:27.369319Z",
     "start_time": "2018-08-12T11:25:27.342224Z"
    }
   },
   "outputs": [
    {
     "name": "stdout",
     "output_type": "stream",
     "text": [
      "[[ 1.     0.726  0.603  0.292 -0.525]\n",
      " [ 0.726  1.     0.506  0.061  0.145]\n",
      " [ 0.603  0.506  1.    -0.452 -0.433]\n",
      " [ 0.292  0.061 -0.452  1.    -0.284]\n",
      " [-0.525  0.145 -0.433 -0.284  1.   ]]\n"
     ]
    }
   ],
   "source": [
    "r,_ = ox.corr(Y)\n",
    "print(r.round(3))"
   ]
  },
  {
   "cell_type": "markdown",
   "metadata": {},
   "source": [
    "How different are these from the desired correlation matrix $C$?"
   ]
  },
  {
   "cell_type": "code",
   "execution_count": 8,
   "metadata": {
    "ExecuteTime": {
     "end_time": "2018-08-12T11:25:27.383022Z",
     "start_time": "2018-08-12T11:25:27.375111Z"
    }
   },
   "outputs": [
    {
     "name": "stdout",
     "output_type": "stream",
     "text": [
      "[[ 0.    -0.     0.003  0.006 -0.001]\n",
      " [-0.    -0.    -0.002  0.004 -0.   ]\n",
      " [ 0.003 -0.002 -0.     0.01  -0.007]\n",
      " [ 0.006  0.004  0.01  -0.    -0.003]\n",
      " [-0.001 -0.    -0.007 -0.003 -0.   ]]\n"
     ]
    }
   ],
   "source": [
    "print( (r - C).round(3) )"
   ]
  },
  {
   "cell_type": "markdown",
   "metadata": {},
   "source": [
    "That looks close :)"
   ]
  }
 ],
 "metadata": {
  "kernelspec": {
   "display_name": "Python 3",
   "language": "python",
   "name": "python3"
  },
  "language_info": {
   "codemirror_mode": {
    "name": "ipython",
    "version": 3
   },
   "file_extension": ".py",
   "mimetype": "text/x-python",
   "name": "python",
   "nbconvert_exporter": "python",
   "pygments_lexer": "ipython3",
   "version": "3.6.2"
  },
  "varInspector": {
   "cols": {
    "lenName": 16,
    "lenType": 16,
    "lenVar": 40
   },
   "kernels_config": {
    "python": {
     "delete_cmd_postfix": "",
     "delete_cmd_prefix": "del ",
     "library": "var_list.py",
     "varRefreshCmd": "print(var_dic_list())"
    },
    "r": {
     "delete_cmd_postfix": ") ",
     "delete_cmd_prefix": "rm(",
     "library": "var_list.r",
     "varRefreshCmd": "cat(var_dic_list()) "
    }
   },
   "types_to_exclude": [
    "module",
    "function",
    "builtin_function_or_method",
    "instance",
    "_Feature"
   ],
   "window_display": false
  }
 },
 "nbformat": 4,
 "nbformat_minor": 2
}
