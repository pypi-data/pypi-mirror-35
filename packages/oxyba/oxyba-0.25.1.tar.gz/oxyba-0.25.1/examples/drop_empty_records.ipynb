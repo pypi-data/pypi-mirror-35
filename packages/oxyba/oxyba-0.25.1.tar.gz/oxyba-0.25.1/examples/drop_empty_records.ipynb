{
 "cells": [
  {
   "cell_type": "raw",
   "metadata": {},
   "source": [
    "---\n",
    "title: \"drop_empty_records\"\n",
    "date: 2018-07-19T11:00:00+02:00\n",
    "draft: false\n",
    "tags: [drop_empty_records]\n",
    "---"
   ]
  },
  {
   "cell_type": "code",
   "execution_count": 1,
   "metadata": {
    "ExecuteTime": {
     "end_time": "2018-07-19T10:06:03.191554Z",
     "start_time": "2018-07-19T10:06:02.992024Z"
    }
   },
   "outputs": [],
   "source": [
    "import numpy as np\n",
    "import oxyba as ox; \n",
    "from importlib import reload; reload(ox);"
   ]
  },
  {
   "cell_type": "markdown",
   "metadata": {},
   "source": [
    "### Drop it - All entries are NaN/Inf\n",
    "* remove data items (examples, records) that contain contain no usable variables\n",
    "* not usuable values are `None`, `nan`, and `inf` (division by 0)"
   ]
  },
  {
   "cell_type": "code",
   "execution_count": 2,
   "metadata": {
    "ExecuteTime": {
     "end_time": "2018-07-19T10:06:03.203630Z",
     "start_time": "2018-07-19T10:06:03.195463Z"
    }
   },
   "outputs": [
    {
     "name": "stdout",
     "output_type": "stream",
     "text": [
      "[[ 1.  2.  3.]\n",
      " [nan inf nan]]\n"
     ]
    }
   ],
   "source": [
    "x = np.array([[1,2,3], [np.nan, np.inf, np.nan]])\n",
    "print(x)"
   ]
  },
  {
   "cell_type": "code",
   "execution_count": 3,
   "metadata": {
    "ExecuteTime": {
     "end_time": "2018-07-19T10:06:03.222489Z",
     "start_time": "2018-07-19T10:06:03.212191Z"
    }
   },
   "outputs": [
    {
     "name": "stdout",
     "output_type": "stream",
     "text": [
      "[[1. 2. 3.]]\n"
     ]
    }
   ],
   "source": [
    "y = ox.drop_empty_records(x)\n",
    "print(y)"
   ]
  },
  {
   "cell_type": "markdown",
   "metadata": {},
   "source": [
    "### Keep it - Data points are just incomplete"
   ]
  },
  {
   "cell_type": "code",
   "execution_count": 4,
   "metadata": {
    "ExecuteTime": {
     "end_time": "2018-07-19T10:06:03.248469Z",
     "start_time": "2018-07-19T10:06:03.227006Z"
    }
   },
   "outputs": [
    {
     "name": "stdout",
     "output_type": "stream",
     "text": [
      "[[ 1.  2.  3.]\n",
      " [nan  1. nan]]\n"
     ]
    }
   ],
   "source": [
    "x = np.array([[1,2,3], [np.nan, 1, np.nan]])\n",
    "print(x)"
   ]
  },
  {
   "cell_type": "code",
   "execution_count": 5,
   "metadata": {
    "ExecuteTime": {
     "end_time": "2018-07-19T10:06:03.301580Z",
     "start_time": "2018-07-19T10:06:03.253982Z"
    }
   },
   "outputs": [
    {
     "name": "stdout",
     "output_type": "stream",
     "text": [
      "[[ 1.  2.  3.]\n",
      " [nan  1. nan]]\n"
     ]
    }
   ],
   "source": [
    "y = ox.drop_empty_records(x)\n",
    "print(y)"
   ]
  }
 ],
 "metadata": {
  "kernelspec": {
   "display_name": "Python 3",
   "language": "python",
   "name": "python3"
  },
  "language_info": {
   "codemirror_mode": {
    "name": "ipython",
    "version": 3
   },
   "file_extension": ".py",
   "mimetype": "text/x-python",
   "name": "python",
   "nbconvert_exporter": "python",
   "pygments_lexer": "ipython3",
   "version": "3.6.2"
  },
  "varInspector": {
   "cols": {
    "lenName": 16,
    "lenType": 16,
    "lenVar": 40
   },
   "kernels_config": {
    "python": {
     "delete_cmd_postfix": "",
     "delete_cmd_prefix": "del ",
     "library": "var_list.py",
     "varRefreshCmd": "print(var_dic_list())"
    },
    "r": {
     "delete_cmd_postfix": ") ",
     "delete_cmd_prefix": "rm(",
     "library": "var_list.r",
     "varRefreshCmd": "cat(var_dic_list()) "
    }
   },
   "types_to_exclude": [
    "module",
    "function",
    "builtin_function_or_method",
    "instance",
    "_Feature"
   ],
   "window_display": false
  }
 },
 "nbformat": 4,
 "nbformat_minor": 2
}
