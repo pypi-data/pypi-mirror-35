{
 "cells": [
  {
   "cell_type": "raw",
   "metadata": {},
   "source": [
    "---\n",
    "title: \"isordinal (but not really)\"\n",
    "date: 2018-08-12T17:00:00+02:00\n",
    "draft: false\n",
    "tags: [isordinal, ordinal]\n",
    "---"
   ]
  },
  {
   "cell_type": "code",
   "execution_count": 1,
   "metadata": {
    "ExecuteTime": {
     "end_time": "2018-08-12T14:51:07.662186Z",
     "start_time": "2018-08-12T14:51:07.274724Z"
    }
   },
   "outputs": [],
   "source": [
    "import warnings; warnings.filterwarnings('ignore')\n",
    "import numpy as np\n",
    "import oxyba as ox\n",
    "from importlib import reload; reload(ox);"
   ]
  },
  {
   "cell_type": "markdown",
   "metadata": {},
   "source": [
    "### Example\n",
    "General settings"
   ]
  },
  {
   "cell_type": "code",
   "execution_count": 2,
   "metadata": {
    "ExecuteTime": {
     "end_time": "2018-08-12T14:51:07.671640Z",
     "start_time": "2018-08-12T14:51:07.666215Z"
    }
   },
   "outputs": [],
   "source": [
    "obs = 10\n",
    "np.random.seed(42)"
   ]
  },
  {
   "cell_type": "markdown",
   "metadata": {},
   "source": [
    "my test cases"
   ]
  },
  {
   "cell_type": "code",
   "execution_count": 3,
   "metadata": {
    "ExecuteTime": {
     "end_time": "2018-08-12T14:51:07.684124Z",
     "start_time": "2018-08-12T14:51:07.676383Z"
    }
   },
   "outputs": [],
   "source": [
    "x1 = np.random.randint(1,50, (obs,))\n",
    "x2 = np.random.randint(0,3, (obs,))\n",
    "x3 = np.random.uniform(0,3, (obs,))\n",
    "x4 = ['tiny','tiny','soso','soso','soso','huge' 'huge']"
   ]
  },
  {
   "cell_type": "markdown",
   "metadata": {},
   "source": [
    "check if these arrays are \"ordinal\" according to my criteria"
   ]
  },
  {
   "cell_type": "code",
   "execution_count": 4,
   "metadata": {
    "ExecuteTime": {
     "end_time": "2018-08-12T14:51:07.703155Z",
     "start_time": "2018-08-12T14:51:07.688772Z"
    }
   },
   "outputs": [
    {
     "name": "stdout",
     "output_type": "stream",
     "text": [
      "True is ordinal\n",
      "True is ordinal\n",
      "False number observations equals the number of unique values.\n",
      "True is ordinal\n"
     ]
    }
   ],
   "source": [
    "for x in (x1,x2,x3,x4):\n",
    "    flag, msg = ox.isordinal(x)\n",
    "    print(flag, msg)"
   ]
  },
  {
   "cell_type": "markdown",
   "metadata": {},
   "source": [
    "### Warning\n",
    "Don't use it in hard `if ... else...` checks. \n",
    "I will use it to fire `warnings.warn` messages but will not abort anything based on `isordinal`."
   ]
  }
 ],
 "metadata": {
  "kernelspec": {
   "display_name": "Python 3",
   "language": "python",
   "name": "python3"
  },
  "language_info": {
   "codemirror_mode": {
    "name": "ipython",
    "version": 3
   },
   "file_extension": ".py",
   "mimetype": "text/x-python",
   "name": "python",
   "nbconvert_exporter": "python",
   "pygments_lexer": "ipython3",
   "version": "3.6.2"
  },
  "varInspector": {
   "cols": {
    "lenName": 16,
    "lenType": 16,
    "lenVar": 40
   },
   "kernels_config": {
    "python": {
     "delete_cmd_postfix": "",
     "delete_cmd_prefix": "del ",
     "library": "var_list.py",
     "varRefreshCmd": "print(var_dic_list())"
    },
    "r": {
     "delete_cmd_postfix": ") ",
     "delete_cmd_prefix": "rm(",
     "library": "var_list.r",
     "varRefreshCmd": "cat(var_dic_list()) "
    }
   },
   "types_to_exclude": [
    "module",
    "function",
    "builtin_function_or_method",
    "instance",
    "_Feature"
   ],
   "window_display": false
  }
 },
 "nbformat": 4,
 "nbformat_minor": 2
}
