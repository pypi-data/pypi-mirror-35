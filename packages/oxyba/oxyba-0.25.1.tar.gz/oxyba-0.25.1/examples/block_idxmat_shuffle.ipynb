{
 "cells": [
  {
   "cell_type": "raw",
   "metadata": {},
   "source": [
    "---\n",
    "title: \"block_idxmat_shuffle\"\n",
    "date: 2018-07-28T19:00:00+02:00\n",
    "draft: false\n",
    "tags: [block_idxmat_shuffle]\n",
    "---"
   ]
  },
  {
   "cell_type": "code",
   "execution_count": 1,
   "metadata": {
    "ExecuteTime": {
     "end_time": "2018-07-29T09:23:29.069399Z",
     "start_time": "2018-07-29T09:23:28.205306Z"
    }
   },
   "outputs": [],
   "source": [
    "import warnings; warnings.filterwarnings('ignore')\n",
    "%matplotlib inline\n",
    "\n",
    "import pandas as pd\n",
    "import numpy as np\n",
    "import oxyba as ox\n",
    "from importlib import reload; reload(ox);"
   ]
  },
  {
   "cell_type": "markdown",
   "metadata": {},
   "source": [
    "### What does this utility function?\n",
    "\n",
    "Let `X` a dataset with `N` observations or resp. rows, e.g. `N=14` observations with 5 dimensions each."
   ]
  },
  {
   "cell_type": "code",
   "execution_count": 2,
   "metadata": {
    "ExecuteTime": {
     "end_time": "2018-07-29T09:23:29.080973Z",
     "start_time": "2018-07-29T09:23:29.073448Z"
    }
   },
   "outputs": [],
   "source": [
    "np.random.seed(42)\n",
    "X = np.random.normal(size=(14,5), scale=50).round(1)\n",
    "N,_ = X.shape"
   ]
  },
  {
   "cell_type": "markdown",
   "metadata": {},
   "source": [
    "Each observation has a row index, e.g."
   ]
  },
  {
   "cell_type": "code",
   "execution_count": 3,
   "metadata": {
    "ExecuteTime": {
     "end_time": "2018-07-29T09:23:29.105027Z",
     "start_time": "2018-07-29T09:23:29.087165Z"
    }
   },
   "outputs": [
    {
     "data": {
      "text/plain": [
       "[0, 1, 2, 3, 4, 5, 6, 7, 8, 9, 10, 11, 12, 13]"
      ]
     },
     "execution_count": 3,
     "metadata": {},
     "output_type": "execute_result"
    }
   ],
   "source": [
    "rowindicies = list(range(0,N))\n",
    "rowindicies"
   ]
  },
  {
   "cell_type": "markdown",
   "metadata": {},
   "source": [
    "The function `block_idxmat_shuffle` will assign these row indicies to one of `K` equal-sized blocks or groups, e.g."
   ]
  },
  {
   "cell_type": "code",
   "execution_count": 4,
   "metadata": {
    "ExecuteTime": {
     "end_time": "2018-07-29T09:23:29.114399Z",
     "start_time": "2018-07-29T09:23:29.109857Z"
    }
   },
   "outputs": [],
   "source": [
    "K=3"
   ]
  },
  {
   "cell_type": "markdown",
   "metadata": {},
   "source": [
    "The `block_idxmat_shuffle` will return a matrix with `K=3` columns that contain `trunc(N/K)=4` (or `int`) random row indicies for the dataset `X`."
   ]
  },
  {
   "cell_type": "code",
   "execution_count": 5,
   "metadata": {
    "ExecuteTime": {
     "end_time": "2018-07-29T09:23:29.129297Z",
     "start_time": "2018-07-29T09:23:29.120424Z"
    },
    "scrolled": false
   },
   "outputs": [
    {
     "data": {
      "text/plain": [
       "array([[13,  3,  5],\n",
       "       [ 1,  7, 11],\n",
       "       [ 8, 10,  6],\n",
       "       [ 9,  4,  0]])"
      ]
     },
     "execution_count": 5,
     "metadata": {},
     "output_type": "execute_result"
    }
   ],
   "source": [
    "idxmat, dropped = ox.block_idxmat_shuffle(N,K)\n",
    "idxmat"
   ]
  },
  {
   "cell_type": "markdown",
   "metadata": {},
   "source": [
    "For example block `0` will has the row indicies"
   ]
  },
  {
   "cell_type": "code",
   "execution_count": 6,
   "metadata": {
    "ExecuteTime": {
     "end_time": "2018-07-29T09:23:29.152286Z",
     "start_time": "2018-07-29T09:23:29.134012Z"
    }
   },
   "outputs": [
    {
     "data": {
      "text/plain": [
       "array([13,  1,  8,  9])"
      ]
     },
     "execution_count": 6,
     "metadata": {},
     "output_type": "execute_result"
    }
   ],
   "source": [
    "block0_idx = idxmat[:,0]\n",
    "block0_idx"
   ]
  },
  {
   "cell_type": "markdown",
   "metadata": {},
   "source": [
    "that refer to the `X` observations"
   ]
  },
  {
   "cell_type": "code",
   "execution_count": 7,
   "metadata": {
    "ExecuteTime": {
     "end_time": "2018-07-29T09:23:29.166344Z",
     "start_time": "2018-07-29T09:23:29.156966Z"
    }
   },
   "outputs": [
    {
     "data": {
      "text/plain": [
       "array([[ 67.8,  -3.6,  50.2,  18.1, -32.3],\n",
       "       [-11.7,  79. ,  38.4, -23.5,  27.1],\n",
       "       [ 36.9,   8.6,  -5.8, -15.1, -73.9],\n",
       "       [-36. , -23. ,  52.9,  17.2, -88.2]])"
      ]
     },
     "execution_count": 7,
     "metadata": {},
     "output_type": "execute_result"
    }
   ],
   "source": [
    "X[block0_idx,:]"
   ]
  },
  {
   "cell_type": "markdown",
   "metadata": {},
   "source": [
    "In our example, \n",
    "there `N%K = 14%3 = 2` or two observations that a left over. \n",
    "These remainders does not fit in `K` blocks that are required to be equal-sized."
   ]
  },
  {
   "cell_type": "code",
   "execution_count": 8,
   "metadata": {
    "ExecuteTime": {
     "end_time": "2018-07-29T09:23:29.182055Z",
     "start_time": "2018-07-29T09:23:29.170798Z"
    }
   },
   "outputs": [
    {
     "data": {
      "text/plain": [
       "array([12,  2])"
      ]
     },
     "execution_count": 8,
     "metadata": {},
     "output_type": "execute_result"
    }
   ],
   "source": [
    "dropped"
   ]
  },
  {
   "cell_type": "markdown",
   "metadata": {},
   "source": [
    "Let's display all results, i.e. all `K` blocks with their `int(N/K)` randomly assigned observations `X[block_idx,:]`"
   ]
  },
  {
   "cell_type": "code",
   "execution_count": 9,
   "metadata": {
    "ExecuteTime": {
     "end_time": "2018-07-29T09:23:29.240047Z",
     "start_time": "2018-07-29T09:23:29.186977Z"
    },
    "scrolled": false
   },
   "outputs": [
    {
     "name": "stdout",
     "output_type": "stream",
     "text": [
      "\n",
      "Block: 0\n",
      "       0     1     2     3     4\n",
      "13  67.8  -3.6  50.2  18.1 -32.3\n",
      "1  -11.7  79.0  38.4 -23.5  27.1\n",
      "8   36.9   8.6  -5.8 -15.1 -73.9\n",
      "9  -36.0 -23.0  52.9  17.2 -88.2\n",
      "\n",
      "Block: 1\n",
      "       0     1     2     3     4\n",
      "3  -28.1 -50.6  15.7 -45.4 -70.6\n",
      "7  -61.0  10.4 -98.0 -66.4   9.8\n",
      "10  16.2 -19.3 -33.8  30.6  51.5\n",
      "4   73.3 -11.3   3.4 -71.2 -27.2\n",
      "\n",
      "Block: 2\n",
      "       0     1     2     3     4\n",
      "5    5.5 -57.5  18.8 -30.0 -14.6\n",
      "11  46.6 -42.0 -15.5  16.6  48.8\n",
      "6  -30.1  92.6  -0.7 -52.9  41.1\n",
      "0   24.8  -6.9  32.4  76.2 -11.7\n",
      "\n",
      "Dropped observations\n",
      " [[-24.   -9.3 -55.3 -59.8  40.6]\n",
      " [-23.2 -23.3  12.1 -95.7 -86.2]]\n",
      "\n",
      "Row indicies of dropped observations: [12  2] \n",
      "\n"
     ]
    }
   ],
   "source": [
    "for b in range(K):\n",
    "    print('\\nBlock:',b)\n",
    "    print(pd.DataFrame(X[idxmat[:,b],:], index=idxmat[:,b]))\n",
    "    \n",
    "print('\\nDropped observations\\n', X[dropped,:] )\n",
    "print('\\nRow indicies of dropped observations:', dropped, '\\n')"
   ]
  },
  {
   "cell_type": "markdown",
   "metadata": {},
   "source": [
    "And the orginal dataset `X` for comparisons"
   ]
  },
  {
   "cell_type": "code",
   "execution_count": 10,
   "metadata": {
    "ExecuteTime": {
     "end_time": "2018-07-29T09:23:29.262736Z",
     "start_time": "2018-07-29T09:23:29.245047Z"
    }
   },
   "outputs": [
    {
     "name": "stdout",
     "output_type": "stream",
     "text": [
      "       0     1     2     3     4\n",
      "0   24.8  -6.9  32.4  76.2 -11.7\n",
      "1  -11.7  79.0  38.4 -23.5  27.1\n",
      "2  -23.2 -23.3  12.1 -95.7 -86.2\n",
      "3  -28.1 -50.6  15.7 -45.4 -70.6\n",
      "4   73.3 -11.3   3.4 -71.2 -27.2\n",
      "5    5.5 -57.5  18.8 -30.0 -14.6\n",
      "6  -30.1  92.6  -0.7 -52.9  41.1\n",
      "7  -61.0  10.4 -98.0 -66.4   9.8\n",
      "8   36.9   8.6  -5.8 -15.1 -73.9\n",
      "9  -36.0 -23.0  52.9  17.2 -88.2\n",
      "10  16.2 -19.3 -33.8  30.6  51.5\n",
      "11  46.6 -42.0 -15.5  16.6  48.8\n",
      "12 -24.0  -9.3 -55.3 -59.8  40.6\n",
      "13  67.8  -3.6  50.2  18.1 -32.3\n"
     ]
    }
   ],
   "source": [
    "print(pd.DataFrame(X))"
   ]
  }
 ],
 "metadata": {
  "kernelspec": {
   "display_name": "Python 3",
   "language": "python",
   "name": "python3"
  },
  "language_info": {
   "codemirror_mode": {
    "name": "ipython",
    "version": 3
   },
   "file_extension": ".py",
   "mimetype": "text/x-python",
   "name": "python",
   "nbconvert_exporter": "python",
   "pygments_lexer": "ipython3",
   "version": "3.6.2"
  },
  "varInspector": {
   "cols": {
    "lenName": 16,
    "lenType": 16,
    "lenVar": 40
   },
   "kernels_config": {
    "python": {
     "delete_cmd_postfix": "",
     "delete_cmd_prefix": "del ",
     "library": "var_list.py",
     "varRefreshCmd": "print(var_dic_list())"
    },
    "r": {
     "delete_cmd_postfix": ") ",
     "delete_cmd_prefix": "rm(",
     "library": "var_list.r",
     "varRefreshCmd": "cat(var_dic_list()) "
    }
   },
   "types_to_exclude": [
    "module",
    "function",
    "builtin_function_or_method",
    "instance",
    "_Feature"
   ],
   "window_display": false
  }
 },
 "nbformat": 4,
 "nbformat_minor": 2
}
