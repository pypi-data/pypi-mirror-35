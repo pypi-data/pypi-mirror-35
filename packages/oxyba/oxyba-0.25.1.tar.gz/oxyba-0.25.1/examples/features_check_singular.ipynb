{
 "cells": [
  {
   "cell_type": "raw",
   "metadata": {},
   "source": [
    "---\n",
    "title: \"features_check_singular\"\n",
    "date: 2018-07-26T21:00:00+02:00\n",
    "draft: false\n",
    "tags: [features_check_singular, Singular Value Decomposition, singular matrix, ill-conditioned matrix]\n",
    "---"
   ]
  },
  {
   "cell_type": "code",
   "execution_count": 1,
   "metadata": {
    "ExecuteTime": {
     "end_time": "2018-07-26T19:22:26.444528Z",
     "start_time": "2018-07-26T19:22:25.612523Z"
    }
   },
   "outputs": [],
   "source": [
    "import warnings; warnings.filterwarnings('ignore')\n",
    "import matplotlib.pyplot as plt\n",
    "%matplotlib inline\n",
    "\n",
    "import numpy as np\n",
    "import oxyba as ox; from importlib import reload; reload(ox);"
   ]
  },
  {
   "cell_type": "markdown",
   "metadata": {},
   "source": [
    "### Load Demo Dataset\n",
    "Sklearn's `load_breast_cancer` demo dataset provides 30 variables. "
   ]
  },
  {
   "cell_type": "code",
   "execution_count": 2,
   "metadata": {
    "ExecuteTime": {
     "end_time": "2018-07-26T19:22:27.142203Z",
     "start_time": "2018-07-26T19:22:26.449076Z"
    }
   },
   "outputs": [],
   "source": [
    "from sklearn.preprocessing import normalize\n",
    "from sklearn.datasets import load_breast_cancer\n",
    "tmp = load_breast_cancer()\n",
    "N = len(tmp.target);\n",
    "X = np.c_[ np.ones(shape=(N,1)), normalize(tmp.data, norm='l2') ];"
   ]
  },
  {
   "cell_type": "markdown",
   "metadata": {
    "ExecuteTime": {
     "end_time": "2018-07-26T18:44:17.853477Z",
     "start_time": "2018-07-26T18:44:17.846131Z"
    }
   },
   "source": [
    "### Find the \"bad\" variables\n",
    "Just a quick note. If $X$ variables are **not** normalized or scaled to a similar range then the required tolerance for ill-conditioned matrices is much higher. Lower tresholds like `tol=1e-8` are working for normalize or scaled variables only."
   ]
  },
  {
   "cell_type": "code",
   "execution_count": 3,
   "metadata": {
    "ExecuteTime": {
     "end_time": "2018-07-26T19:22:27.151766Z",
     "start_time": "2018-07-26T19:22:27.146274Z"
    }
   },
   "outputs": [],
   "source": [
    "flag, num, s = ox.features_check_singular(X, tol=1e-8);"
   ]
  },
  {
   "cell_type": "markdown",
   "metadata": {},
   "source": [
    "According to our definition here (`s_k < 1e-2`) the of features or design matrix $X$ is ill-conditioned"
   ]
  },
  {
   "cell_type": "code",
   "execution_count": 4,
   "metadata": {
    "ExecuteTime": {
     "end_time": "2018-07-26T19:22:27.168523Z",
     "start_time": "2018-07-26T19:22:27.156710Z"
    }
   },
   "outputs": [
    {
     "data": {
      "text/plain": [
       "True"
      ]
     },
     "execution_count": 4,
     "metadata": {},
     "output_type": "execute_result"
    }
   ],
   "source": [
    "flag"
   ]
  },
  {
   "cell_type": "markdown",
   "metadata": {},
   "source": [
    "How may variables have a too low Singular Value?"
   ]
  },
  {
   "cell_type": "code",
   "execution_count": 5,
   "metadata": {
    "ExecuteTime": {
     "end_time": "2018-07-26T19:22:27.185511Z",
     "start_time": "2018-07-26T19:22:27.173122Z"
    }
   },
   "outputs": [
    {
     "data": {
      "text/plain": [
       "4"
      ]
     },
     "execution_count": 5,
     "metadata": {},
     "output_type": "execute_result"
    }
   ],
   "source": [
    "num"
   ]
  },
  {
   "cell_type": "markdown",
   "metadata": {},
   "source": [
    "A singular value **cannot** be linked to a certain variable, feature or column index of $X$. \n",
    "Singular values are ordered as a result of the SVD algorithm."
   ]
  },
  {
   "cell_type": "code",
   "execution_count": 6,
   "metadata": {
    "ExecuteTime": {
     "end_time": "2018-07-26T19:22:28.006604Z",
     "start_time": "2018-07-26T19:22:27.193691Z"
    }
   },
   "outputs": [
    {
     "data": {
      "image/png": "[encoded data removed]",
      "text/plain": [
       "<Figure size 432x288 with 1 Axes>"
      ]
     },
     "metadata": {},
     "output_type": "display_data"
    }
   ],
   "source": [
    "plt.semilogy(s);"
   ]
  }
 ],
 "metadata": {
  "kernelspec": {
   "display_name": "Python 3",
   "language": "python",
   "name": "python3"
  },
  "language_info": {
   "codemirror_mode": {
    "name": "ipython",
    "version": 3
   },
   "file_extension": ".py",
   "mimetype": "text/x-python",
   "name": "python",
   "nbconvert_exporter": "python",
   "pygments_lexer": "ipython3",
   "version": "3.6.2"
  },
  "varInspector": {
   "cols": {
    "lenName": 16,
    "lenType": 16,
    "lenVar": 40
   },
   "kernels_config": {
    "python": {
     "delete_cmd_postfix": "",
     "delete_cmd_prefix": "del ",
     "library": "var_list.py",
     "varRefreshCmd": "print(var_dic_list())"
    },
    "r": {
     "delete_cmd_postfix": ") ",
     "delete_cmd_prefix": "rm(",
     "library": "var_list.r",
     "varRefreshCmd": "cat(var_dic_list()) "
    }
   },
   "types_to_exclude": [
    "module",
    "function",
    "builtin_function_or_method",
    "instance",
    "_Feature"
   ],
   "window_display": false
  }
 },
 "nbformat": 4,
 "nbformat_minor": 2
}
