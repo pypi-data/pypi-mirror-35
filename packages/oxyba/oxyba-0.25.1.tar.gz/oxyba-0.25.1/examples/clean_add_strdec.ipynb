{
 "cells": [
  {
   "cell_type": "raw",
   "metadata": {},
   "source": [
    "---\n",
    "title: \"clean_add_strdec\"\n",
    "date: 2018-07-23T21:00:00+02:00\n",
    "draft: false\n",
    "tags: [clean_add_strdec]\n",
    "---"
   ]
  },
  {
   "cell_type": "code",
   "execution_count": 1,
   "metadata": {
    "ExecuteTime": {
     "end_time": "2018-07-23T22:02:38.597035Z",
     "start_time": "2018-07-23T22:02:37.187650Z"
    }
   },
   "outputs": [],
   "source": [
    "import warnings; warnings.filterwarnings('ignore')\n",
    "import pandas as pd\n",
    "import numpy as np\n",
    "import oxyba as ox\n",
    "from importlib import reload; reload(ox);"
   ]
  },
  {
   "cell_type": "markdown",
   "metadata": {},
   "source": [
    "### Why is this function useful?\n",
    "Sometimes raw text files contain decimal numbers, \n",
    "i.e. the decimal digits does have meaning, \n",
    "e.g. money amounts. \n",
    "Thus, it might be desirable not to cast numbers from string to float to avoid floating-point roundings.\n",
    "Instead `clean_add_strdec` will use the `Decimal` to add two (or more) numbers."
   ]
  },
  {
   "cell_type": "code",
   "execution_count": 2,
   "metadata": {
    "ExecuteTime": {
     "end_time": "2018-07-23T22:02:38.627077Z",
     "start_time": "2018-07-23T22:02:38.600788Z"
    }
   },
   "outputs": [
    {
     "data": {
      "text/plain": [
       "'35.75'"
      ]
     },
     "execution_count": 2,
     "metadata": {},
     "output_type": "execute_result"
    }
   ],
   "source": [
    "a = \"23.45\"\n",
    "b = \"12.30\"\n",
    "y = ox.clean_add_strdec(a, b)\n",
    "y"
   ]
  },
  {
   "cell_type": "markdown",
   "metadata": {},
   "source": [
    "Using `float` induce errors"
   ]
  },
  {
   "cell_type": "code",
   "execution_count": 3,
   "metadata": {
    "ExecuteTime": {
     "end_time": "2018-07-23T22:02:38.643748Z",
     "start_time": "2018-07-23T22:02:38.633057Z"
    }
   },
   "outputs": [
    {
     "data": {
      "text/plain": [
       "'35.75000000000000071054273576'"
      ]
     },
     "execution_count": 3,
     "metadata": {},
     "output_type": "execute_result"
    }
   ],
   "source": [
    "a = \"23.45\"\n",
    "b = 12.30\n",
    "y = ox.clean_add_strdec(a, b)\n",
    "y"
   ]
  },
  {
   "cell_type": "markdown",
   "metadata": {},
   "source": [
    "### Subtraction\n",
    "Subtraction is just Additon with one number being negative"
   ]
  },
  {
   "cell_type": "code",
   "execution_count": 4,
   "metadata": {
    "ExecuteTime": {
     "end_time": "2018-07-23T22:02:38.660245Z",
     "start_time": "2018-07-23T22:02:38.649539Z"
    }
   },
   "outputs": [
    {
     "data": {
      "text/plain": [
       "'11.15'"
      ]
     },
     "execution_count": 4,
     "metadata": {},
     "output_type": "execute_result"
    }
   ],
   "source": [
    "a = \"23.45\"\n",
    "b = \"-12.30\"\n",
    "c = ox.clean_add_strdec(a, b)\n",
    "c"
   ]
  },
  {
   "cell_type": "code",
   "execution_count": 5,
   "metadata": {
    "ExecuteTime": {
     "end_time": "2018-07-23T22:02:38.681013Z",
     "start_time": "2018-07-23T22:02:38.666631Z"
    }
   },
   "outputs": [
    {
     "data": {
      "text/plain": [
       "'11.15'"
      ]
     },
     "execution_count": 5,
     "metadata": {},
     "output_type": "execute_result"
    }
   ],
   "source": [
    "a = \"23.45\"\n",
    "b = \"12.30\"\n",
    "c = ox.clean_add_strdec(a, \"-\"+b)\n",
    "c"
   ]
  },
  {
   "cell_type": "markdown",
   "metadata": {},
   "source": [
    "### Missing Values or Ineligibles are ignored"
   ]
  },
  {
   "cell_type": "code",
   "execution_count": 6,
   "metadata": {
    "ExecuteTime": {
     "end_time": "2018-07-23T22:02:38.697787Z",
     "start_time": "2018-07-23T22:02:38.686120Z"
    }
   },
   "outputs": [
    {
     "data": {
      "text/plain": [
       "'23.45'"
      ]
     },
     "execution_count": 6,
     "metadata": {},
     "output_type": "execute_result"
    }
   ],
   "source": [
    "a = \"23.45\"\n",
    "b = None\n",
    "y = ox.clean_add_strdec(a, b)\n",
    "y"
   ]
  },
  {
   "cell_type": "code",
   "execution_count": 7,
   "metadata": {
    "ExecuteTime": {
     "end_time": "2018-07-23T22:02:38.714101Z",
     "start_time": "2018-07-23T22:02:38.703176Z"
    }
   },
   "outputs": [
    {
     "data": {
      "text/plain": [
       "'23.45'"
      ]
     },
     "execution_count": 7,
     "metadata": {},
     "output_type": "execute_result"
    }
   ],
   "source": [
    "a = \"23.45\"\n",
    "b = \"\"\n",
    "y = ox.clean_add_strdec(a, b)\n",
    "y"
   ]
  },
  {
   "cell_type": "code",
   "execution_count": 8,
   "metadata": {
    "ExecuteTime": {
     "end_time": "2018-07-23T22:02:38.732295Z",
     "start_time": "2018-07-23T22:02:38.718289Z"
    }
   },
   "outputs": [
    {
     "data": {
      "text/plain": [
       "'23.45'"
      ]
     },
     "execution_count": 8,
     "metadata": {},
     "output_type": "execute_result"
    }
   ],
   "source": [
    "a = \"23.45\"\n",
    "b = \"abc\"\n",
    "y = ox.clean_add_strdec(a, b)\n",
    "y"
   ]
  },
  {
   "cell_type": "code",
   "execution_count": 9,
   "metadata": {
    "ExecuteTime": {
     "end_time": "2018-07-23T22:02:38.749924Z",
     "start_time": "2018-07-23T22:02:38.738065Z"
    }
   },
   "outputs": [
    {
     "data": {
      "text/plain": [
       "'23.45'"
      ]
     },
     "execution_count": 9,
     "metadata": {},
     "output_type": "execute_result"
    }
   ],
   "source": [
    "a = \"23.45\"\n",
    "b = np.nan\n",
    "y = ox.clean_add_strdec(a, b)\n",
    "y"
   ]
  },
  {
   "cell_type": "code",
   "execution_count": 10,
   "metadata": {
    "ExecuteTime": {
     "end_time": "2018-07-23T22:02:38.785491Z",
     "start_time": "2018-07-23T22:02:38.754566Z"
    }
   },
   "outputs": [
    {
     "data": {
      "text/plain": [
       "'Infinity'"
      ]
     },
     "execution_count": 10,
     "metadata": {},
     "output_type": "execute_result"
    }
   ],
   "source": [
    "a = \"23.45\"\n",
    "b = np.inf\n",
    "y = ox.clean_add_strdec(a, b)\n",
    "y"
   ]
  },
  {
   "cell_type": "markdown",
   "metadata": {},
   "source": [
    "### Adding Columns"
   ]
  },
  {
   "cell_type": "code",
   "execution_count": 11,
   "metadata": {
    "ExecuteTime": {
     "end_time": "2018-07-23T22:02:38.813901Z",
     "start_time": "2018-07-23T22:02:38.792286Z"
    }
   },
   "outputs": [
    {
     "data": {
      "text/plain": [
       "[['1.2', '2.3'], ['3.4', '4.5'], ['5.6', '7.8']]"
      ]
     },
     "execution_count": 11,
     "metadata": {},
     "output_type": "execute_result"
    }
   ],
   "source": [
    "x = [['1.2', '2.3'], ['3.4', '4.5'], ['5.6', '7.8']]\n",
    "x"
   ]
  },
  {
   "cell_type": "code",
   "execution_count": 12,
   "metadata": {
    "ExecuteTime": {
     "end_time": "2018-07-23T22:02:38.830159Z",
     "start_time": "2018-07-23T22:02:38.821140Z"
    },
    "scrolled": true
   },
   "outputs": [
    {
     "data": {
      "text/plain": [
       "array(['3.5', '7.9', '13.4'], dtype='<U4')"
      ]
     },
     "execution_count": 12,
     "metadata": {},
     "output_type": "execute_result"
    }
   ],
   "source": [
    "y = ox.clean_add_strdec(np.array(x))\n",
    "y"
   ]
  },
  {
   "cell_type": "code",
   "execution_count": 13,
   "metadata": {
    "ExecuteTime": {
     "end_time": "2018-07-23T22:02:38.877085Z",
     "start_time": "2018-07-23T22:02:38.833361Z"
    },
    "scrolled": true
   },
   "outputs": [
    {
     "data": {
      "text/html": [
       "<div>\n",
       "<style scoped>\n",
       "    .dataframe tbody tr th:only-of-type {\n",
       "        vertical-align: middle;\n",
       "    }\n",
       "\n",
       "    .dataframe tbody tr th {\n",
       "        vertical-align: top;\n",
       "    }\n",
       "\n",
       "    .dataframe thead th {\n",
       "        text-align: right;\n",
       "    }\n",
       "</style>\n",
       "<table border=\"1\" class=\"dataframe\">\n",
       "  <thead>\n",
       "    <tr style=\"text-align: right;\">\n",
       "      <th></th>\n",
       "      <th>0</th>\n",
       "    </tr>\n",
       "  </thead>\n",
       "  <tbody>\n",
       "    <tr>\n",
       "      <th>0</th>\n",
       "      <td>3.5</td>\n",
       "    </tr>\n",
       "    <tr>\n",
       "      <th>1</th>\n",
       "      <td>7.9</td>\n",
       "    </tr>\n",
       "    <tr>\n",
       "      <th>2</th>\n",
       "      <td>13.4</td>\n",
       "    </tr>\n",
       "  </tbody>\n",
       "</table>\n",
       "</div>"
      ],
      "text/plain": [
       "      0\n",
       "0   3.5\n",
       "1   7.9\n",
       "2  13.4"
      ]
     },
     "execution_count": 13,
     "metadata": {},
     "output_type": "execute_result"
    }
   ],
   "source": [
    "y = ox.clean_add_strdec(pd.DataFrame(x))\n",
    "y"
   ]
  }
 ],
 "metadata": {
  "kernelspec": {
   "display_name": "Python 3",
   "language": "python",
   "name": "python3"
  },
  "language_info": {
   "codemirror_mode": {
    "name": "ipython",
    "version": 3
   },
   "file_extension": ".py",
   "mimetype": "text/x-python",
   "name": "python",
   "nbconvert_exporter": "python",
   "pygments_lexer": "ipython3",
   "version": "3.6.2"
  },
  "varInspector": {
   "cols": {
    "lenName": 16,
    "lenType": 16,
    "lenVar": 40
   },
   "kernels_config": {
    "python": {
     "delete_cmd_postfix": "",
     "delete_cmd_prefix": "del ",
     "library": "var_list.py",
     "varRefreshCmd": "print(var_dic_list())"
    },
    "r": {
     "delete_cmd_postfix": ") ",
     "delete_cmd_prefix": "rm(",
     "library": "var_list.r",
     "varRefreshCmd": "cat(var_dic_list()) "
    }
   },
   "types_to_exclude": [
    "module",
    "function",
    "builtin_function_or_method",
    "instance",
    "_Feature"
   ],
   "window_display": false
  }
 },
 "nbformat": 4,
 "nbformat_minor": 2
}
