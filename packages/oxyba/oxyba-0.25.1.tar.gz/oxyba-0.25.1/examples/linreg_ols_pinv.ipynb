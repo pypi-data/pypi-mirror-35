{
 "cells": [
  {
   "cell_type": "raw",
   "metadata": {},
   "source": [
    "---\n",
    "title: \"linreg_ols_pinv\"\n",
    "date: 2018-07-26T17:00:00+02:00\n",
    "draft: false\n",
    "tags: [linreg_ols_pinv]\n",
    "---"
   ]
  },
  {
   "cell_type": "code",
   "execution_count": 1,
   "metadata": {
    "ExecuteTime": {
     "end_time": "2018-07-26T14:44:43.282276Z",
     "start_time": "2018-07-26T14:44:42.920271Z"
    }
   },
   "outputs": [],
   "source": [
    "import warnings; warnings.filterwarnings('ignore')\n",
    "import numpy as np\n",
    "import oxyba as ox; from importlib import reload; reload(ox);\n",
    "from time import perf_counter, process_time"
   ]
  },
  {
   "cell_type": "markdown",
   "metadata": {},
   "source": [
    "### Load Demo Dataset"
   ]
  },
  {
   "cell_type": "code",
   "execution_count": 2,
   "metadata": {
    "ExecuteTime": {
     "end_time": "2018-07-26T14:44:44.591267Z",
     "start_time": "2018-07-26T14:44:43.286224Z"
    }
   },
   "outputs": [],
   "source": [
    "from sklearn.datasets import load_boston\n",
    "tmp = load_boston()\n",
    "num_obs = len(tmp.target);\n",
    "y = tmp.target\n",
    "X = np.c_[ np.ones(shape=(num_obs,1)), tmp.data[:,[5,12]] ];"
   ]
  },
  {
   "cell_type": "markdown",
   "metadata": {},
   "source": [
    "### pinv What?\n",
    "The `p` stands for **p**seudoinverse or Moore-**P**enrose inverse.\n",
    "(Just use the mnemonic that fits your brain.)\n",
    "\n",
    "The pseudoinverse is the inverse based on Singular Value Decomposition but with the correction for ill-conditioned matrices (In [the Docs of linreg_ols_svd](http://oxyba.de/docs/linreg_ols_svd/) it is the `func2_...` test implementation).\n",
    "\n",
    "The task is to estimate\n",
    "\n",
    "$$\n",
    "\\hat{\\beta} = (X^T X)^{-1} - (X^T y)\n",
    "$$\n",
    "\n",
    "whereas the inverse $A^{-1} = (X^T X)^{-1}$ is required.\n",
    "\n",
    "1. Conduct SVD: $A = U S V^T$\n",
    "2. Compute the inverse: $A^{-1} = V S^{-1} U^T$\n",
    "\n",
    "If $A A^T$ is an ill-conditioned or resp. singular matrix then some of $S$'s diagonal elements $diag(s_1, s_2, .., s_n)$ are close to zero and the division-by-zero problems arises. \n",
    "The pseudoinverse approach just sets $\\frac{1}{s_i}=0$ if a element's value is below a certain threshold $s_i<tol$."
   ]
  },
  {
   "cell_type": "markdown",
   "metadata": {},
   "source": [
    "### When to apply pinv?\n",
    "* not at all because you are not supposed to conduct Linear Regression on ill-conditioned matrices (e.g. multicollinarity)\n",
    "* there is nothing you can do about $X$ (e.g. your customer want exactly these variables included, it's the best data you got, ...)"
   ]
  },
  {
   "cell_type": "markdown",
   "metadata": {},
   "source": [
    "### Test Implementations\n",
    "The first implementation applies Numpy's [pinv](https://docs.scipy.org/doc/numpy/reference/generated/numpy.linalg.pinv.html).\n",
    "`func1_pretty` is more readable than the faster `func1_faster` function."
   ]
  },
  {
   "cell_type": "code",
   "execution_count": 3,
   "metadata": {
    "ExecuteTime": {
     "end_time": "2018-07-26T14:44:44.600132Z",
     "start_time": "2018-07-26T14:44:44.594715Z"
    }
   },
   "outputs": [],
   "source": [
    "def func1_pretty(y,X):\n",
    "    from numpy import dot\n",
    "    from numpy.linalg import pinv\n",
    "    x2inv = pinv(dot(X.T, X));\n",
    "    return dot(x2inv, dot(X.T,y));\n"
   ]
  },
  {
   "cell_type": "code",
   "execution_count": 4,
   "metadata": {
    "ExecuteTime": {
     "end_time": "2018-07-26T14:44:44.611130Z",
     "start_time": "2018-07-26T14:44:44.604815Z"
    }
   },
   "outputs": [],
   "source": [
    "def func1_faster(y, X, rcond=1e-15):\n",
    "    import numpy as np\n",
    "    return np.dot( np.linalg.pinv( np.dot(X.T, X), rcond=rcond), np.dot(X.T,y));"
   ]
  },
  {
   "cell_type": "markdown",
   "metadata": {},
   "source": [
    "The statsmodels's [OLS.fit](https://www.statsmodels.org/dev/generated/statsmodels.regression.linear_model.OLS.fit.html) class method has the option use `pinv`."
   ]
  },
  {
   "cell_type": "code",
   "execution_count": 5,
   "metadata": {
    "ExecuteTime": {
     "end_time": "2018-07-26T14:44:44.622291Z",
     "start_time": "2018-07-26T14:44:44.615645Z"
    }
   },
   "outputs": [],
   "source": [
    "def func2_pretty(y, X):\n",
    "    from statsmodels.api import OLS\n",
    "    estim = OLS(y,X).fit(method='pinv')\n",
    "    return estim.params;"
   ]
  },
  {
   "cell_type": "code",
   "execution_count": 6,
   "metadata": {
    "ExecuteTime": {
     "end_time": "2018-07-26T14:44:44.636898Z",
     "start_time": "2018-07-26T14:44:44.627939Z"
    }
   },
   "outputs": [],
   "source": [
    "def func2_faster(y, X):\n",
    "    import statsmodels.api as sm\n",
    "    return sm.OLS(y,X).fit(method='pinv').params;"
   ]
  },
  {
   "cell_type": "markdown",
   "metadata": {},
   "source": [
    "### Benchmarking "
   ]
  },
  {
   "cell_type": "code",
   "execution_count": 7,
   "metadata": {
    "ExecuteTime": {
     "end_time": "2018-07-26T14:44:44.651763Z",
     "start_time": "2018-07-26T14:44:44.641903Z"
    }
   },
   "outputs": [],
   "source": [
    "trials = 50000\n",
    "funcnames = [func1_pretty, func1_faster, \n",
    "             func2_pretty, func2_faster,\n",
    "             ox.linreg_ols_pinv,\n",
    "             ox.linreg_ols_lu]"
   ]
  },
  {
   "cell_type": "code",
   "execution_count": 8,
   "metadata": {
    "ExecuteTime": {
     "end_time": "2018-07-26T14:44:47.012447Z",
     "start_time": "2018-07-26T14:44:44.657059Z"
    }
   },
   "outputs": [
    {
     "name": "stdout",
     "output_type": "stream",
     "text": [
      "func1_pretty [-1.35827281  5.09478798 -0.64235833]\n",
      "func1_faster [-1.35827281  5.09478798 -0.64235833]\n",
      "func2_pretty [-1.35827281  5.09478798 -0.64235833]\n",
      "func2_faster [-1.35827281  5.09478798 -0.64235833]\n",
      "linreg_ols_pinv [-1.35827281  5.09478798 -0.64235833]\n",
      "linreg_ols_lu [-1.35827281  5.09478798 -0.64235833]\n"
     ]
    }
   ],
   "source": [
    "for func in funcnames:\n",
    "    beta = func(y,X);\n",
    "    print(func.__name__, beta);"
   ]
  },
  {
   "cell_type": "markdown",
   "metadata": {},
   "source": [
    "Looks good."
   ]
  },
  {
   "cell_type": "code",
   "execution_count": 9,
   "metadata": {
    "ExecuteTime": {
     "end_time": "2018-07-26T14:46:01.769841Z",
     "start_time": "2018-07-26T14:44:47.016664Z"
    }
   },
   "outputs": [
    {
     "name": "stdout",
     "output_type": "stream",
     "text": [
      "Clock  CPU    function name\n",
      "5.7880 5.6634 func1_pretty\n",
      "5.7412 5.6840 func1_faster\n",
      "25.8798 25.7423 func2_pretty\n",
      "29.1202 27.6430 func2_faster\n",
      "5.8252 5.7584 linreg_ols_pinv\n",
      "2.3903 2.3451 linreg_ols_lu\n"
     ]
    }
   ],
   "source": [
    "print('{0:6s} {1:6s} {2:s}'.format('Clock', 'CPU', 'function name'))\n",
    "for func in funcnames:\n",
    "    sh,sc = perf_counter(), process_time();\n",
    "    for i in range(trials):\n",
    "        beta = func(y,X); \n",
    "        if beta is None: print('error solving')\n",
    "        beta = None;\n",
    "    eh,ec = perf_counter(), process_time()\n",
    "    print('{0:.4f} {1:.4f} {2:s}'.format(eh-sh, ec-sc, func.__name__))"
   ]
  },
  {
   "cell_type": "markdown",
   "metadata": {},
   "source": [
    "I am kind of shocked how slow statmodels' implementation is but it is not very surprising because statmodels computes a plethora of metrics for each estimation. The strength of statsmodel is basically to compute all kind of metrics and tests rather than speed."
   ]
  }
 ],
 "metadata": {
  "kernelspec": {
   "display_name": "Python 3",
   "language": "python",
   "name": "python3"
  },
  "language_info": {
   "codemirror_mode": {
    "name": "ipython",
    "version": 3
   },
   "file_extension": ".py",
   "mimetype": "text/x-python",
   "name": "python",
   "nbconvert_exporter": "python",
   "pygments_lexer": "ipython3",
   "version": "3.6.2"
  },
  "varInspector": {
   "cols": {
    "lenName": 16,
    "lenType": 16,
    "lenVar": 40
   },
   "kernels_config": {
    "python": {
     "delete_cmd_postfix": "",
     "delete_cmd_prefix": "del ",
     "library": "var_list.py",
     "varRefreshCmd": "print(var_dic_list())"
    },
    "r": {
     "delete_cmd_postfix": ") ",
     "delete_cmd_prefix": "rm(",
     "library": "var_list.r",
     "varRefreshCmd": "cat(var_dic_list()) "
    }
   },
   "types_to_exclude": [
    "module",
    "function",
    "builtin_function_or_method",
    "instance",
    "_Feature"
   ],
   "window_display": false
  }
 },
 "nbformat": 4,
 "nbformat_minor": 2
}
